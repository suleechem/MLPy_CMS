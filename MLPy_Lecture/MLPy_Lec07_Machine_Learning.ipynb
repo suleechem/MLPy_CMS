{
 "cells": [
  {
   "cell_type": "markdown",
   "id": "8d541fb3",
   "metadata": {},
   "source": [
    "# AI $\\rightarrow$ Machine Learing $\\rightarrow$ Deep Learning\n",
    "\n",
    "<img src = \"http://cmseng.skku.edu/CMSLecture/ML/img/7-1.png\" style=\"max-width: 60%; height: auto;\">"
   ]
  },
  {
   "cell_type": "markdown",
   "id": "ed63c8b5-4f67-4389-89ec-f0e2f27e73ab",
   "metadata": {},
   "source": [
    "# Machine Learning\n",
    "\n",
    "<img src = \"http://cmseng.skku.edu/CMSLecture/ML/img/7-1c.png\" style=\"max-width: 60%; height: auto;\">\n",
    "  "
   ]
  },
  {
   "cell_type": "markdown",
   "id": "7b90a5bf-d041-42ea-90a0-1b57f507ced0",
   "metadata": {},
   "source": [
    "# Machine Learning Algorithm\n",
    "\n",
    "- Machine Learning Algorithm 은 크게 3가지로 분류됨\n",
    "> 1. <b>Supervised Learning </b> \n",
    "> 1. <b>Unsupervised Learning  </b>\n",
    "> 1. <b>Reinforcement Learning</b>\n",
    "\n",
    "<img src = \"http://cmseng.skku.edu/CMSLecture/ML/img/7-2b.png\" style=\"max-width: 60%; height: auto;\"><p>\n"
   ]
  },
  {
   "cell_type": "markdown",
   "id": "9a1f383b",
   "metadata": {},
   "source": [
    "## 1. Supervised Learning\n",
    "\n",
    "- <b>지도학습은 라벨이 있는 데이터로부터 학습</b>. 지도학습에서는 <b>인간</b>이 어떤 데이터를 수집하고, 그 데이터에 대한 라벨을 어떻게 설정할 것인지를 결정. <b>지도학습의 목표는 일반화</b>.\n",
    "> - 지도학습의 일반적인 예시로 '필기체 숫자 인식'을 들 수 있음.\n",
    "> - 이때 사람은 필기체로 작성된 숫자 이미지를 모아 각 이미지에 대한 라벨을 만들고 이미지에 적힌 숫자를 정확하게 인식해 분류할 수 있도록 모델을 학습시킴.\n",
    "> - 이 학습된 모델은 새로운 이미지에 대해서도 필기체 숫자를 일반화하고 정확하게 분류할 수 있음. \n",
    "- 지도습은 학습결과를 바탕으로 미래의 무엇을 예측하느냐에 따라 <b>회귀(Regression), 분류(Classification)</b>로 구분됨.\n",
    "- <b>회귀(Regression)</b>는 Training Data를 이용하여  <b>연속적인 (숫자) 값을 예측</b>하는 것을 말함.\n",
    "- <b>분류(Classification)</b>은 Training Data를 이용하여 <b>주어진 입력값이 어떤 종류의 값인지 구별</b>하는 것을 말함.\n",
    "\n",
    "<img src = \"http://cmseng.skku.edu/CMSLecture/ML/img/7-3.png\" style=\"max-width: 60%; height: auto;\">\n",
    "<img src = \"http://cmseng.skku.edu/CMSLecture/ML/img/7-4.png\" style=\"max-width: 60%; height: auto;\">"
   ]
  },
  {
   "cell_type": "markdown",
   "id": "101f9f41",
   "metadata": {},
   "source": [
    "## 2. Unsupervised Learning\n",
    "\n",
    "- <b>비지도학습은 라벨이 없는 데이터로부터 학습</b>. 데이터 라벨을 지정하는 작업이 없지만, 여전히 컴퓨터가 데이터를 모으는데 사용하는 방식은 <b>인간이 구현</b>해야 함. <b>비지도학습의 목표는 압축</b>.\n",
    "> - 비지도학습의 일반적인 예시는 '고객 분류'.\n",
    "> - 이때 사람은 고객 각각의 데이터를 수집하고, 고객들이 특정 군집으로 묶일 수 있도록 모델을 학습시킴.\n",
    "> - 각각의 군집은 고객들 간의 관계가 내재된 정보를 압축하게 됨.\n",
    "\n",
    "- 비지도학습은 Training Data에 정답은 없고 입력 데이터만 있기 때문에, 입력에 대한 정답을 찾는 것이 아닌 입력 데이터의  \n",
    "<b>패턴(pattern), 특성(feature) 등을 학습을 통해 발견하는 방법</b>을 말함.\n",
    "- <b>군집화(Clustering)</b>\n",
    "\n",
    "<img src = \"http://cmseng.skku.edu/CMSLecture/ML/img/7-5.png\" style=\"max-width: 60%; height: auto;\">"
   ]
  },
  {
   "cell_type": "markdown",
   "id": "db48f1f2-9909-4aea-a394-117081851aee",
   "metadata": {},
   "source": [
    "# 3. Reinforce Learning\n",
    "\n",
    "- <b>강화학습은 시행착오를 통해서 학습</b>함. 이런 종류의 학습에서는 사람이 데이터에 대한 라벨링을 할 필요가 없고, 데이터를 수집하거나 이와 관련된 작업을 할 필요도 없음. <b>강화학습의 목적은 최적의 행동양식을 학습</b>.\n",
    "> - <b>강화(Reinforcement)</b>는 <b>시행착오(Trial and Error)</b>를 통해 학습.\n",
    "> - 강화학습은 <b>실수와 보상을 통해 학습을 하여 목표를 찾아가는 알고리즘</b>.\n",
    "> - 기존의 알고리즘들이 라벨(정답)이 있는 데이터를 통해서 가중치와 편향을 학습하는 것과 비슷하게 <b>보상(Reward)</b>이라는 개념을 사용하여 가중치와 편향을 학습하는 것. \n",
    "\n",
    "<img src = \"http://cmseng.skku.edu/CMSLecture/ML/img/7-5b.png\" style=\"max-width: 60%; height: auto;\">"
   ]
  },
  {
   "cell_type": "markdown",
   "id": "bc57272c-74b2-40ad-9a62-d7e39554ca40",
   "metadata": {},
   "source": [
    "# Machine Learning Algorithm\n",
    "\n",
    "- <b>머신러닝(machine learning)</b>은 <b>통계학</b>과 깊은 관련이 있음. <b>통계학에서 유래된 머신러닝 알고리즘</b>이 많으며 통계학과 컴퓨터 과학 분야가 상호 작용하면서 발전하고 있음.   \n",
    "- 최근 머신러닝의 발전은 통계나 수학 이론보다 경험을 바탕으로 발전하는 경우도 많으며, <b>컴퓨터 과학 분야가 이런 발전을 주도</b>하고 있음.   \n",
    "- 컴퓨터 과학 분야의 대표적인 <b>머신러닝 라이브러리는 [사이킷런(scikit-learn)](https://scikit-learn.org/stable/)임. </b>\n",
    "- <b>Deep learning에 대해서는 Tensor flow, PyTorch 등이 활용됨.</b>\n",
    "\n",
    "<img src = \"http://cmseng.skku.edu/CMSLecture/ML/img/7-5b1.png\" style=\"max-width: 60%; height: auto;\"><p>\n",
    "<img src = \"http://cmseng.skku.edu/CMSLecture/ML/img/7-5b2.png\" style=\"max-width: 60%; height: auto;\">"
   ]
  },
  {
   "cell_type": "markdown",
   "id": "be45036b-9fa3-4a76-accf-cd34f8daf368",
   "metadata": {},
   "source": [
    "# [[머신러닝 10가지 알고리즘]](https://goldenrabbit.co.kr/2022/07/14/%ED%99%95%EC%8B%A4%ED%9E%88-%EC%95%8C%EC%95%84%EB%91%90%EB%A9%B4-%EB%A7%8C%EC%82%AC%EA%B0%80-%ED%8E%B8%ED%95%B4%EC%A7%80%EB%8A%94-%EB%A8%B8%EC%8B%A0%EB%9F%AC%EB%8B%9D-10%EA%B0%80%EC%A7%80-%EC%95%8C/)\n",
    "  1. 선형 회귀(Linear Regression) <img src = \"http://cmseng.skku.edu/CMSLecture/ML/img/7-5ag1.png\" style=\"max-width: 40%; height: auto;\"><p>\n",
    "  2. 로지스틱 회귀(Logistic Regression) <img src = \"http://cmseng.skku.edu/CMSLecture/ML/img/7-5ag2.png\" style=\"max-width: 40%; height: auto;\"><p>\n",
    "  3. K-최근접 이웃(KNN)<img src = \"http://cmseng.skku.edu/CMSLecture/ML/img/7-5ag3.png\" style=\"max-width: 40%; height: auto;\"><p>\n",
    "  4. 나이브 베이즈(Naive Bayes)<img src = \"http://cmseng.skku.edu/CMSLecture/ML/img/7-5ag4.png\" style=\"max-width: 40%; height: auto;\"><p>\n",
    "  5. 결정 트리(Decision Tree)<img src = \"http://cmseng.skku.edu/CMSLecture/ML/img/7-5ag5.png\" style=\"max-width: 40%; height: auto;\"><p>\n",
    "  6. 랜덤 포레스트(Random Forest)<img src = \"http://cmseng.skku.edu/CMSLecture/ML/img/7-5ag6.png\" style=\"max-width: 40%; height: auto;\"><p>\n",
    "  7. XG부스트(XGBoost)<img src = \"http://cmseng.skku.edu/CMSLecture/ML/img/7-5ag7.png\" style=\"max-width: 40%; height: auto;\"><p>\n",
    "  8. 라이트GBM(LightGBM)<img src = \"http://cmseng.skku.edu/CMSLecture/ML/img/7-5ag8.png\" style=\"max-width: 40%; height: auto;\"><p>\n",
    "  9. K-평균 군집화(K Means Clustering)<img src = \"http://cmseng.skku.edu/CMSLecture/ML/img/7-5ag9.png\" style=\"max-width: 40%; height: auto;\"><p>\n",
    "  10. 주성분 분석(PCA)<img src = \"http://cmseng.skku.edu/CMSLecture/ML/img/7-5ag10.png\" style=\"max-width: 40%; height: auto;\"><p>\n"
   ]
  },
  {
   "cell_type": "markdown",
   "id": "de4c4d92-a159-4043-a7e3-ee35b3c7c272",
   "metadata": {},
   "source": [
    "# Machine Learning Algorithm cheat-sheet (scikit-learn)\n",
    "\n",
    "<img src = \"http://cmseng.skku.edu/CMSLecture/ML/img/7-5b3.png\" style=\"max-width: 60%; height: auto;\">\n",
    "<img src = \"http://cmseng.skku.edu/CMSLecture/ML/img/7-5b4.png\" style=\"max-width: 60%; height: auto;\">"
   ]
  },
  {
   "cell_type": "markdown",
   "id": "3de99a29-719a-4020-b3d1-d4741a4400ee",
   "metadata": {},
   "source": [
    "# Deep Learning\n",
    "\n",
    "- <b>딥 러닝(Deep Learning)</b>은 머신 러닝(Machine Learning)의 특정한 한 분야로서 <b>인공 신경망(Artificial Neural Network)의 층을 연속적으로 깊게 쌓아올려 데이터를 학습</b>하는 방식\n",
    "- 신경계에는 엄청난 수의 <b>뉴런</b>이 포함되어 있고, 서로 매우 복잡한 구조로 얽혀 거대한 망을 구성하고 이를 <b>‘신경망’</b>이라고 함.\n",
    "- 머신러닝 과학자들은 신경망의 구조에 착안하여 <b>퍼셉트론을 하나의 빌딩 블록 (Building block)</b> 이라 생각하고, <b>여러 개의 퍼셉트론을 연결하여 인공 신경망</b>이라는 개념을 고안.\n",
    "- 딥 러닝의 딥 (deep) 이란, 이처럼 연결된 구조로 만들어진 층(layer)에서 표현을 학습한다는 개념을 의미\n",
    "\n",
    "<img src = \"http://cmseng.skku.edu/CMSLecture/ML/img/7-5c.png\" style=\"max-width: 60%; height: auto;\">"
   ]
  },
  {
   "cell_type": "markdown",
   "id": "f1cb227a-eb8c-4088-9025-ca0a59a3324a",
   "metadata": {},
   "source": [
    "# Deep Learning Algorithm [[ref]](https://hongong.hanbit.co.kr/%EB%A8%B8%EC%8B%A0%EB%9F%AC%EB%8B%9D-%EB%94%A5%EB%9F%AC%EB%8B%9D-%EC%95%8C%EA%B3%A0%EB%A6%AC%EC%A6%98%EC%9D%84-%EC%86%8C%EA%B0%9C%ED%95%A9%EB%8B%88%EB%8B%A4/)\n",
    "\n",
    "1. ANN(Artificial Neural Network)<img src = \"http://cmseng.skku.edu/CMSLecture/ML/img/7-5dl1.png\" style=\"max-width: 40%; height: auto;\"><p>\n",
    "2. DNN(Deep Neural Network)<img src = \"http://cmseng.skku.edu/CMSLecture/ML/img/7-5dl2.png\" style=\"max-width: 40%; height: auto;\"><p>\n",
    "3. CNN(합성곱신경망 : Convolution Neural Network)<img src = \"http://cmseng.skku.edu/CMSLecture/ML/img/7-5dl3.png\" style=\"max-width: 40%; height: auto;\"><p>\n",
    "4. GNN(Graph Neural Network)<img src = \"http://cmseng.skku.edu/CMSLecture/ML/img/7-5dl4.png\" style=\"max-width: 40%; height: auto;\"><p>"
   ]
  },
  {
   "cell_type": "markdown",
   "id": "38d568bc-c4a0-44e9-972d-0a6795a9dbe9",
   "metadata": {},
   "source": [
    "# Machine Learning & Deep Learning\n",
    "\n",
    "<img src = \"http://cmseng.skku.edu/CMSLecture/ML/img/7-5e.png\" style=\"max-width: 65%; height: auto;\">\n",
    "<img src = \"http://cmseng.skku.edu/CMSLecture/ML/img/7-5d.png\" style=\"max-width: 65%; height: auto;\">"
   ]
  },
  {
   "cell_type": "markdown",
   "id": "3ca1f28d",
   "metadata": {},
   "source": [
    "# Active Learning\n",
    "<img src = \"http://cmseng.skku.edu/CMSLecture/ML/img/7-6.png\" style=\"max-width: 60%; height: auto;\">\n",
    "<img src = \"http://cmseng.skku.edu/CMSLecture/ML/img/7-7a2.png\" style=\"max-width: 50%; height: auto;\">"
   ]
  },
  {
   "cell_type": "markdown",
   "id": "02eeff6f",
   "metadata": {},
   "source": [
    "- 전통적으로 기계학습(Passive Machine Learning)은 <b>라벨링되지 않은 데이터에 대해 사람이 라벨을 부여</b>하면 이를 기계가 학습하는 방식으로 이뤄짐.\n",
    "- 액티브러닝에서는 <b>기계가 라벨링이 필요한 데이터 중 자동적으로, 그리고 점진적으로 가장 정보량이 많은 데이터를 선택</b>하는 것을 목표로 함.  \n",
    "초기 라벨링된 일부 데이터를 이용해 모델은 학습을 시작하고, 아직 라벨링이 이루어지지 않은 데이터 중 학습에 중요한 것들에 대해 라벨링을 요구한다.\n",
    "\n",
    "<img src = \"http://cmseng.skku.edu/CMSLecture/ML/img/7-7a1.png\" style=\"max-width: 60%; height: auto;\">\n",
    "<img src = \"http://cmseng.skku.edu/CMSLecture/ML/img/7-7b.png\" style=\"max-width: 70%; height: auto;\">"
   ]
  },
  {
   "cell_type": "markdown",
   "id": "356aa14a",
   "metadata": {},
   "source": [
    "\n"
   ]
  }
 ],
 "metadata": {
  "kernelspec": {
   "display_name": "Python 3 (ipykernel)",
   "language": "python",
   "name": "python3"
  },
  "language_info": {
   "codemirror_mode": {
    "name": "ipython",
    "version": 3
   },
   "file_extension": ".py",
   "mimetype": "text/x-python",
   "name": "python",
   "nbconvert_exporter": "python",
   "pygments_lexer": "ipython3",
   "version": "3.11.5"
  }
 },
 "nbformat": 4,
 "nbformat_minor": 5
}
