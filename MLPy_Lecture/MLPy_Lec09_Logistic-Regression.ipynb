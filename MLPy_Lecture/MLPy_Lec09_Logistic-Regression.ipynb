{
 "cells": [
  {
   "cell_type": "markdown",
   "id": "46dc570b",
   "metadata": {},
   "source": [
    "# Logistic Regression\n",
    "<img src = \"http://cmseng.skku.edu/CMSLecture/ML/img/9-1.png\" style=\"max-width: 80%; height: auto;\">"
   ]
  },
  {
   "cell_type": "markdown",
   "id": "66b4dbe4",
   "metadata": {},
   "source": [
    "* training data 특성과 관계 등을 파악 한 후에, <font color=red>미지의 입력 데이터의 결과가 어떤 종류의 값으로 분류 될 수 있는지 예측</font>하는 것"
   ]
  },
  {
   "cell_type": "markdown",
   "id": "b572fee4",
   "metadata": {},
   "source": [
    "<img src = \"http://cmseng.skku.edu/CMSLecture/ML/img/9-2.png\" style=\"max-width: 80%; height: auto;\">"
   ]
  },
  {
   "cell_type": "markdown",
   "id": "d3a82f4d",
   "metadata": {},
   "source": [
    "### Rogistic Regression 알고리즘 \n",
    "1. Traning data 특성과 분포를 나타내는 최적의 직선을 찾고 <font color=blue>Linear regression</font>\n",
    "2. 그 직선을 기준으로 데이트를 분류해주는 <font color=blue>Classification</font> 알고리즘.\n",
    "\n",
    "<img src = \"http://cmseng.skku.edu/CMSLecture/ML/img/9-3.png\" style=\"max-width: 80%; height: auto;\">\n",
    "<img src = \"http://cmseng.skku.edu/CMSLecture/ML/img/9-4.png\"style=\"max-width: 80%; height: auto;\">"
   ]
  },
  {
   "cell_type": "markdown",
   "id": "593aa4b9",
   "metadata": {},
   "source": [
    "### Sigmoid 함수\n",
    "* 출력값 $y$가 $1$ 또는 $0$만 가져야 하는 분류$(classification)$ 시스템에서, 함수값으로 $0\\sim1$ 사이의 값을 가지는 $sigmoid$ 함수를 사용 할 수 있음.\n",
    "* $linear \\ regression$의 결과 값$(z=Wx+b)$이 어떤 값을 가지더라도, $sigmoid$ 함수값$(y=sigmoid(z))$은 $0\\sim1$ 사이값을 가가지며, <font color=red>$sigmoid(z) < 0.5$ 이면 결과값 $y=0$ , $sigmoid(z) \\ge 0.5$ 이면 결과값 $y=1$</font>로 정의하여 $classification$ 시스템을 구현\n",
    "<font size=3>\n",
    "* $ \\displaystyle\n",
    "z = Wx+b \\rightarrow sigmoid(z) = \\sigma(z) =\\frac{1}{1+e^{-z}}$\n",
    "* $ \\displaystyle y=\\frac{1}{1+e^{-(Wx+b)}}\n",
    "$</font>\n"
   ]
  },
  {
   "cell_type": "code",
   "execution_count": 1,
   "id": "89221fcb",
   "metadata": {
    "scrolled": true
   },
   "outputs": [
    {
     "data": {
      "image/png": "[encoded data removed]",
      "text/plain": [
       "<Figure size 600x300 with 1 Axes>"
      ]
     },
     "metadata": {},
     "output_type": "display_data"
    }
   ],
   "source": [
    "import matplotlib.pyplot as plt\n",
    "import numpy as np\n",
    "\n",
    "plt.style.use('default')\n",
    "plt.rcParams['figure.figsize'] = (6, 3)\n",
    "plt.rcParams['font.size'] = 10\n",
    "plt.rcParams['lines.linewidth'] = 2\n",
    "\n",
    "x = np.linspace(-8, 8, 1000)\n",
    "y = 1/(1+np.exp(-x))\n",
    "\n",
    "fig, ax = plt.subplots()\n",
    "ax.plot(x, y)\n",
    "\n",
    "plt.title('sigmoid')\n",
    "plt.grid(color='0.8')\n",
    "ax.spines['left'].set_position(('data',0)) \n",
    "ax.spines['right'].set_visible(False)\n",
    "ax.spines['top'].set_visible(False) \n",
    "ax.spines['bottom'].set_position(('data',0)) \n",
    "\n",
    "\n",
    "plt.show()"
   ]
  },
  {
   "cell_type": "markdown",
   "id": "9808512c",
   "metadata": {},
   "source": [
    "### 손실함수 $(cross-entropy)$\n",
    "\n",
    "* $classfication$ 최종 출력 값 $y$는 $sigmoid$함수에 의해 논리적으로 $0 \\ or \\ 1$ 이기때문에, 연속값을 갖는 $linear \\ regression$때와는 다른 손실함수가 필요함.\n",
    "\n",
    "- $ \\displaystyle y=\\frac{1}{1+e^{-(Wx+b)}}\\ , \\ \\ \\ t_i= 0 \\ or \\ 1$\n",
    "\n",
    "- <font color=red>\n",
    " $ \\displaystyle cross-entropy: \\ E(W,b)= - \\sum_{i=1}^{n}{\\{t_i \\log{y_i}+(1-t_i)\\log{(1-y_i)}\\}} $\n",
    "</font>\n",
    "\n",
    "- <font color=blue> 손실함수 $E(W,b)$를 최소화하는 $W \\ and \\ b$   </font>\n",
    "\n",
    "<font color=blue><b>\n",
    "- $ \\displaystyle W = W - \\alpha \\frac{\\partial{E(W,b)}}{\\partial{W}} \\ \\ \\ \\ , \\ \\ \\ \\ \n",
    "     b = b - \\alpha \\frac{\\partial{E(W,b)}}{\\partial{b}}$\n",
    "</b></font>\n",
    "\n",
    "\n",
    "- $\\alpha$는 학습율$(learning \\ rate)$</font>, $W$값이 감소 또는 증가하는 비율을 나타냄."
   ]
  },
  {
   "cell_type": "markdown",
   "id": "b0c83c3d",
   "metadata": {},
   "source": [
    "### 손실함수$(loss \\ function) \\ cross-entropy$ 유도\n",
    "* $classfication$ 최종 <font color=red>출력 값 $y$는 $0 \\ or \\ 1$ </font>이 되어야 함.\n",
    "* $sigmoid$함수의 출력값은 $0 \\sim 1$의 값으로 <b>확률적</b>의미를 갖기 때문에 <b>확률변수 $C$</b>를 이용해 출력 값을 나타낼 수 있음.\n",
    "* 즉, 출력값이 $0 \\ or \\ 1$ 이 될 확률이 최대가 되도록 가중치 W와 바이어스 b를 결정함.\n",
    "* $0 \\ or \\ 1$의 분류가 아닌 <b>다른 정답 t 가 있다면, 정답 t가 될 확률</b>이 최대가 되도록 가중치 W와 바이어스 b를 결정함.\n",
    "\n",
    "<img src = \"http://cmseng.skku.edu/CMSLecture/ML/img/9-5.png\" style=\"max-width: 80%; height: auto;\">"
   ]
  },
  {
   "cell_type": "markdown",
   "id": "e6c0d566",
   "metadata": {},
   "source": [
    "## Logistic regression using python\n",
    "<img src = \"http://cmseng.skku.edu/CMSLecture/ML/img/9-6.png\" style=\"max-width: 80%; height: auto;\">\n",
    "<img src = \"http://cmseng.skku.edu/CMSLecture/ML/img/9-7.png\" style=\"max-width: 80%; height: auto;\">"
   ]
  },
  {
   "cell_type": "markdown",
   "id": "ed8b5258",
   "metadata": {},
   "source": [
    "### 1. Training Data"
   ]
  },
  {
   "cell_type": "code",
   "execution_count": 2,
   "id": "29084e35",
   "metadata": {},
   "outputs": [
    {
     "name": "stdout",
     "output_type": "stream",
     "text": [
      "(10, 2)\n",
      "(10, 1)\n",
      "(10, 1)\n"
     ]
    }
   ],
   "source": [
    "import numpy as np\n",
    "\n",
    "data = np.array([[2,0],[4,0],[6,0],[8,0],[10,0],[12,0],[14,1],[16,1],[18,1],[20,1]])\n",
    "x_data = data[:,[0]]\n",
    "t_data = data[:,[-1]]\n",
    "\n",
    "print(data.shape)\n",
    "print(x_data.shape)\n",
    "print(t_data.shape)"
   ]
  },
  {
   "cell_type": "markdown",
   "id": "efe9cff7",
   "metadata": {},
   "source": [
    "## 2. 임의의 직선 $y=Wx+b$ 정의 (임의의 $W, \\ b$ 초기화)"
   ]
  },
  {
   "cell_type": "code",
   "execution_count": 3,
   "id": "4814e04a",
   "metadata": {},
   "outputs": [
    {
     "name": "stdout",
     "output_type": "stream",
     "text": [
      "W = [[0.1680784]], W.shape = (1, 1), b = [0.525293], b.shape = (1,)\n"
     ]
    }
   ],
   "source": [
    "W = np.random.rand(1,1)\n",
    "b = np.random.rand(1)\n",
    "\n",
    "print(f\"W = {W}, W.shape = {W.shape}, b = {b}, b.shape = {b.shape}\")"
   ]
  },
  {
   "cell_type": "markdown",
   "id": "8e697c7f",
   "metadata": {},
   "source": [
    "## 3. 손실함수 $E(W)$ 정의"
   ]
  },
  {
   "cell_type": "code",
   "execution_count": 4,
   "id": "dee491e1",
   "metadata": {},
   "outputs": [],
   "source": [
    "def sigmoid(x):\n",
    "    y = 1 / (1+np.exp(-x))\n",
    "    return y\n",
    "\n",
    "def loss_func(x,t):\n",
    "    delta = 1e-7\n",
    "    \n",
    "    z = np.dot(x,W) + b\n",
    "    y = sigmoid(z)\n",
    "    \n",
    "    return -np.sum(t*np.log(y+delta)+(1-t)*np.log((1-y)+delta))"
   ]
  },
  {
   "cell_type": "markdown",
   "id": "c0b76789",
   "metadata": {},
   "source": [
    "## 4. 수치미분 numerical_derivative 및 utility 함수 정의"
   ]
  },
  {
   "cell_type": "code",
   "execution_count": 5,
   "id": "ab53ce76",
   "metadata": {},
   "outputs": [],
   "source": [
    "def numerical_derivative(f,x):  \n",
    "    delta_x = 1e-4\n",
    "    grad = np.zeros_like(x)  \n",
    "    \n",
    "    it = np.nditer(x, flags=['multi_index'], op_flags=['readwrite'])\n",
    "    while not it.finished:\n",
    "        idx=it.multi_index\n",
    "        tmp_val=x[idx]\n",
    "        x[idx] = float(tmp_val) + delta_x\n",
    "        fx1 = f(x) \n",
    "        \n",
    "        x[idx] = float(tmp_val) - delta_x\n",
    "        fx2 = f(x)  \n",
    "        grad[idx] = (fx1 - fx2)/(2*delta_x)\n",
    "\n",
    "        x[idx] = tmp_val\n",
    "        it.iternext()\n",
    "        \n",
    "    return grad\n",
    "\n",
    "def error_val(x,t):\n",
    "    delta = 1e-7\n",
    "    z=np.dot(x,W)+b\n",
    "    y=sigmoid(z)\n",
    "    return -np.sum(t*np.log(y+delta)+(1-t)*np.log((1-y)+delta))\n",
    "\n",
    "def predict(x):\n",
    "    z=np.dot(x,W)+b\n",
    "    y=sigmoid(z)\n",
    "    \n",
    "    if y > 0.5:\n",
    "        result = 1\n",
    "    else:\n",
    "        result = 0\n",
    "    \n",
    "    return y, result"
   ]
  },
  {
   "cell_type": "markdown",
   "id": "9cdd8316",
   "metadata": {},
   "source": [
    "## 5. 학습율(learning rate) 초기화 및 $W, b$ 업데이트\n"
   ]
  },
  {
   "cell_type": "code",
   "execution_count": 6,
   "id": "ec70368b",
   "metadata": {},
   "outputs": [
    {
     "name": "stdout",
     "output_type": "stream",
     "text": [
      "initial error value = 11.488941352439015, initial W = [[0.1680784]]\n",
      "step = 0, error_value = 12.731741078010579, W = [[-0.17402504]], b = [0.54115042]\n",
      "step = 400, error_value = 2.757732115595379, W = [[0.28355673]], b = [-4.1552353]\n",
      "step = 800, error_value = 1.775469768624206, W = [[0.45545462]], b = [-5.66895806]\n",
      "step = 1200, error_value = 1.5131728511438, W = [[0.53229587]], b = [-6.69207554]\n",
      "step = 1600, error_value = 1.349227285719083, W = [[0.59327152]], b = [-7.50173966]\n",
      "step = 2000, error_value = 1.2336025224417615, W = [[0.64460445]], b = [-8.18188035]\n",
      "step = 2400, error_value = 1.1459639011904084, W = [[0.68937675]], b = [-8.77404692]\n",
      "step = 2800, error_value = 1.076282503555517, W = [[0.72935682]], b = [-9.3020576]\n",
      "step = 3200, error_value = 1.0189604889356108, W = [[0.76566086]], b = [-9.78093017]\n",
      "step = 3600, error_value = 0.9705910744028702, W = [[0.79904232]], b = [-10.22079065]\n",
      "step = 4000, error_value = 0.9289638773390821, W = [[0.83003585]], b = [-10.62881623]\n",
      "step = 4400, error_value = 0.8925721973433723, W = [[0.85903575]], b = [-11.01029444]\n",
      "step = 4800, error_value = 0.860347880984261, W = [[0.88634192]], b = [-11.36924258]\n",
      "step = 5200, error_value = 0.8315090702854167, W = [[0.91218825]], b = [-11.70879062]\n",
      "step = 5600, error_value = 0.8054680631464898, W = [[0.93676099]], b = [-12.03142879]\n",
      "step = 6000, error_value = 0.7817730844106522, W = [[0.96021109]], b = [-12.3391737]\n",
      "step = 6400, error_value = 0.7600701241030244, W = [[0.98266279]], b = [-12.63368335]\n",
      "step = 6800, error_value = 0.7400771397791315, W = [[1.00421963]], b = [-12.9163389]\n",
      "step = 7200, error_value = 0.721566144470791, W = [[1.02496896]], b = [-13.1883042]\n",
      "step = 7600, error_value = 0.7043504765119823, W = [[1.04498515]], b = [-13.45056998]\n",
      "step = 8000, error_value = 0.6882755647204123, W = [[1.06433215]], b = [-13.70398717]\n",
      "step = 8400, error_value = 0.6732121063075439, W = [[1.08306534]], b = [-13.9492926]\n",
      "step = 8800, error_value = 0.6590509446961723, W = [[1.10123308]], b = [-14.18712892]\n",
      "step = 9200, error_value = 0.6456991671876533, W = [[1.11887783]], b = [-14.41806033]\n",
      "step = 9600, error_value = 0.6330770925595962, W = [[1.13603711]], b = [-14.64258511]\n",
      "step = 10000, error_value = 0.6211159176774363, W = [[1.15274427]], b = [-14.86114575]\n"
     ]
    }
   ],
   "source": [
    "learning_rate=1e-2\n",
    "\n",
    "f = lambda x: loss_func(x_data,t_data)  # f(x) = loass_func(x_data,y_data)\n",
    "\n",
    "print(f\"initial error value = {error_val(x_data,t_data)}, initial W = {W}\")\n",
    "\n",
    "for step in range(10001):\n",
    "    W-= learning_rate*numerical_derivative(f,W)\n",
    "    b-= learning_rate*numerical_derivative(f,b)\n",
    "    \n",
    "    if(step % 400 ==0):\n",
    "        print(f\"step = {step}, error_value = {error_val(x_data,t_data)}, W = {W}, b = {b}\")"
   ]
  },
  {
   "cell_type": "code",
   "execution_count": 7,
   "id": "0bdc85ef",
   "metadata": {},
   "outputs": [
    {
     "name": "stdout",
     "output_type": "stream",
     "text": [
      "[[1.11627958e-05]] 0\n",
      "[[0.99129838]] 1\n"
     ]
    }
   ],
   "source": [
    "(real_val,logical_val)=predict(3)\n",
    "print(real_val, logical_val)\n",
    "\n",
    "(real_val,logical_val)=predict(17)\n",
    "print(real_val, logical_val)"
   ]
  },
  {
   "cell_type": "markdown",
   "id": "775f49f8",
   "metadata": {},
   "source": [
    "## 6. Multi-variable Logistic Regression Code\n",
    "\n",
    "<img src = \"http://cmseng.skku.edu/CMSLecture/ML/img/9-8.png\" style=\"max-width: 80%; height: auto;\">"
   ]
  },
  {
   "cell_type": "code",
   "execution_count": 8,
   "id": "9a894684",
   "metadata": {},
   "outputs": [
    {
     "name": "stdout",
     "output_type": "stream",
     "text": [
      "W=[[0.39580251]\n",
      " [0.32763732]], W.shape=(2, 1), b=[0.30922069], b.shape=(1,)\n",
      "initial error value = 17.77920829872341, initial W = [[0.39580251]\n",
      " [0.32763732]]\n",
      "step = 0, error_value = 7.821055709889517, W = [[0.19892496]\n",
      " [0.07239022]], b = [0.27680515]\n",
      "step = 400, error_value = 2.2177453441712762, W = [[ 0.42743632]\n",
      " [-0.08253774]], b = [-2.73087511]\n",
      "step = 800, error_value = 1.5693862823541869, W = [[ 0.54136875]\n",
      " [-0.02414727]], b = [-4.32982828]\n",
      "step = 1200, error_value = 1.2681507067345292, W = [[0.62740555]\n",
      " [0.01050733]], b = [-5.42377743]\n",
      "step = 1600, error_value = 1.0906396994638243, W = [[0.69704747]\n",
      " [0.03536861]], b = [-6.26438571]\n",
      "step = 2000, error_value = 0.9713462800742997, W = [[0.75584899]\n",
      " [0.05525296]], b = [-6.95369674]\n",
      "step = 2400, error_value = 0.8842408927313138, W = [[0.80689288]\n",
      " [0.07231805]], b = [-7.54275291]\n",
      "step = 2800, error_value = 0.8169258809710815, W = [[0.85207028]\n",
      " [0.08768617]], b = [-8.06057967]\n",
      "step = 3200, error_value = 0.7627321701575785, W = [[0.89262899]\n",
      " [0.10199888]], b = [-8.52518843]\n",
      "step = 3600, error_value = 0.7177425028063978, W = [[0.9294394 ]\n",
      " [0.11564616]], b = [-8.94849209]\n",
      "step = 4000, error_value = 0.6794973421677646, W = [[0.96313618]\n",
      " [0.12887394]], b = [-9.33876411]\n",
      "step = 4400, error_value = 0.6463695138137977, W = [[0.99419945]\n",
      " [0.14183966]], b = [-9.70197632]\n",
      "step = 4800, error_value = 0.6172362677826462, W = [[1.02300397]\n",
      " [0.15464315]], b = [-10.04257585]\n",
      "step = 5200, error_value = 0.5912957004171131, W = [[1.04985024]\n",
      " [0.1673451 ]], b = [-10.36396063]\n",
      "step = 5600, error_value = 0.5679583362766014, W = [[1.07498476]\n",
      " [0.17997886]], b = [-10.66878328]\n",
      "step = 6000, error_value = 0.5467801662977079, W = [[1.0986136 ]\n",
      " [0.19255846]], b = [-10.95915263]\n",
      "step = 6400, error_value = 0.5274196865922247, W = [[1.12091165]\n",
      " [0.20508443]], b = [-11.23677161]\n",
      "step = 6800, error_value = 0.5096094185130875, W = [[1.14202901]\n",
      " [0.21754816]], b = [-11.50303421]\n",
      "step = 7200, error_value = 0.493136484943416, W = [[1.16209552]\n",
      " [0.22993531]], b = [-11.75909535]\n",
      "step = 7600, error_value = 0.4778290310616489, W = [[1.18122408]\n",
      " [0.24222844]], b = [-12.0059223]\n",
      "step = 8000, error_value = 0.4635465234978048, W = [[1.19951307]\n",
      " [0.25440902]], b = [-12.24433317]\n",
      "step = 8400, error_value = 0.45017268792532594, W = [[1.21704837]\n",
      " [0.26645888]], b = [-12.47502628]\n",
      "step = 8800, error_value = 0.4376102817393538, W = [[1.2339049 ]\n",
      " [0.27836125]], b = [-12.69860276]\n",
      "step = 9200, error_value = 0.42577716840560925, W = [[1.25014803]\n",
      " [0.29010138]], b = [-12.91558426]\n",
      "step = 9600, error_value = 0.414603331260247, W = [[1.26583471]\n",
      " [0.30166686]], b = [-13.12642688]\n",
      "step = 10000, error_value = 0.4040285757286439, W = [[1.28101461]\n",
      " [0.31304776]], b = [-13.33153227]\n",
      "[ 3 17] (2,)\n"
     ]
    },
    {
     "data": {
      "text/plain": [
       "(array([0.01526701]), 0)"
      ]
     },
     "execution_count": 8,
     "metadata": {},
     "output_type": "execute_result"
    }
   ],
   "source": [
    "import numpy as np\n",
    "\n",
    "x_data = np.array([[2,4],[4,11],[6,6],[8,5],[10,7],[12,16],[14,8],[16,3],[18,7]])\n",
    "t_data = np.array([0,0,0,0,1,1,1,1,1]).reshape(9,1)\n",
    "\n",
    "# print(x_data, x_data.shape)\n",
    "# print(y_data, y_data.shape)\n",
    "\n",
    "W = np.random.rand(2,1)\n",
    "b = np.random.rand(1)\n",
    "print(f\"W={W}, W.shape={W.shape}, b={b}, b.shape={b.shape}\")\n",
    "\n",
    "def sigmoid(x):\n",
    "    y = 1/(1+np.exp(-x))\n",
    "    return y\n",
    "                   \n",
    "def loss_func(x,t):\n",
    "    delta = 1e-7\n",
    "    z=np.dot(x,W)+b\n",
    "    y=sigmoid(z)\n",
    "    return -np.sum(t*np.log(y+delta)+(1-t)*np.log((1-y)+delta))\n",
    "\n",
    "def numerical_derivative(f,x):\n",
    "    delta_x = 1e-4\n",
    "    grad = np.zeros_like(x) \n",
    "    \n",
    "    it = np.nditer(x, flags=['multi_index'], op_flags=['readwrite'])\n",
    "    while not it.finished:\n",
    "        idx=it.multi_index\n",
    "        tmp_val=x[idx]\n",
    "        x[idx] = float(tmp_val) + delta_x\n",
    "        fx1 = f(x) \n",
    "        \n",
    "        x[idx] = float(tmp_val) - delta_x\n",
    "        fx2 = f(x)  \n",
    "        grad[idx] = (fx1 - fx2)/(2*delta_x)\n",
    "\n",
    "        x[idx] = tmp_val\n",
    "        it.iternext()\n",
    "        \n",
    "    return grad\n",
    "\n",
    "def error_val(x,t):\n",
    "    delta = 1e-7\n",
    "    z=np.dot(x,W)+b\n",
    "    y=sigmoid(z)\n",
    "    return -np.sum(t*np.log(y)+(1-t)*np.log(1-y))\n",
    "            \n",
    "def predict(x):\n",
    "    z=np.dot(x,W)+b\n",
    "    y=sigmoid(z)\n",
    "    if y > 0.5:\n",
    "        result = 1\n",
    "    else:\n",
    "        result = 0\n",
    "    return y,result\n",
    "\n",
    "learning_rate=1e-2\n",
    "\n",
    "f = lambda x: loss_func(x_data,t_data)  # f(x) = loass_func(x_data,y_data)\n",
    "\n",
    "print(f\"initial error value = {error_val(x_data,t_data)}, initial W = {W}\")\n",
    "\n",
    "for step in range(10001):\n",
    "    W -= learning_rate*numerical_derivative(f,W)\n",
    "    b -= learning_rate*numerical_derivative(f,b)\n",
    "    \n",
    "    if(step % 400 ==0):\n",
    "        print(f\"step = {step}, error_value = {error_val(x_data,t_data)}, W = {W}, b = {b}\")\n",
    "\n",
    "test_data = np.array([3,17])\n",
    "print(test_data,test_data.shape)\n",
    "predict(test_data)"
   ]
  },
  {
   "cell_type": "code",
   "execution_count": 9,
   "id": "3fcb3176",
   "metadata": {},
   "outputs": [
    {
     "name": "stdout",
     "output_type": "stream",
     "text": [
      "[ 3 17] [0.01526701] 0\n",
      "[ 7 17] [0.72259732] 1\n",
      "[5 8] [0.01186675] 0\n",
      "[7 2] [0.02324072] 0\n",
      "[10  0] [0.37252817] 0\n",
      "[12  0] [0.88499874] 1\n",
      "[ 0 12] [6.94413114e-05] 0\n",
      "[10 16] [0.98887505] 1\n"
     ]
    }
   ],
   "source": [
    "test_data = np.array([3,17])\n",
    "(real_val,logical_val)=predict(test_data)\n",
    "print(test_data, real_val, logical_val)\n",
    "\n",
    "test_data = np.array([[7,17],[5,8],[7,2],[10,0],[12,0],[0,12],[10,16]])\n",
    "for test in test_data[:,:]:\n",
    "    (real_val,logical_val)=predict(test)\n",
    "    print(test, real_val, logical_val)"
   ]
  }
 ],
 "metadata": {
  "kernelspec": {
   "display_name": "Python 3",
   "language": "python",
   "name": "python3"
  },
  "language_info": {
   "codemirror_mode": {
    "name": "ipython",
    "version": 3
   },
   "file_extension": ".py",
   "mimetype": "text/x-python",
   "name": "python",
   "nbconvert_exporter": "python",
   "pygments_lexer": "ipython3",
   "version": "3.7.9"
  }
 },
 "nbformat": 4,
 "nbformat_minor": 5
}
