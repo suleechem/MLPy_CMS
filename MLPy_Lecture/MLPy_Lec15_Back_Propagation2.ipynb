{
 "cells": [
  {
   "cell_type": "markdown",
   "id": "a0206974-02ce-4cd5-8af4-cb95b397114b",
   "metadata": {},
   "source": [
    "# 오차역전파 (Back Propagation)\n",
    "\n",
    "<img src = \"http://cmseng.skku.edu/CMSLecture/ML/img/14-19.png\" style=\"max-width: 70%; height: auto;\">"
   ]
  },
  {
   "cell_type": "markdown",
   "id": "e7f0e83a-8769-4885-9633-246b8a6fedbb",
   "metadata": {},
   "source": [
    "<img src = \"http://cmseng.skku.edu/CMSLecture/ML/img/14-20.png\" style=\"max-width: 70%; height: auto;\">"
   ]
  },
  {
   "cell_type": "markdown",
   "id": "88e47c16-bcc5-4644-b6d7-7204900a59f9",
   "metadata": {},
   "source": [
    "## 가중치 초기화\n",
    "### [ref website](https://velog.io/@cha-suyeon/DL-%EA%B0%80%EC%A4%91%EC%B9%98-%EC%B4%88%EA%B8%B0%ED%99%94Weights-Initialization#xavier-%EC%B4%88%EA%B8%B0%ED%99%94)"
   ]
  },
  {
   "cell_type": "code",
   "execution_count": 1,
   "id": "f69bc9a8-80e4-44d6-8821-cf6e3811da86",
   "metadata": {
    "tags": []
   },
   "outputs": [],
   "source": [
    "import numpy as np\n",
    "import matplotlib.pyplot as plt\n",
    "\n",
    "def sigmoid(x):\n",
    "    return 1 / (1+np.exp(-x))"
   ]
  },
  {
   "cell_type": "code",
   "execution_count": 2,
   "id": "3d278144-740f-4fc2-8231-1f03cd6d76fe",
   "metadata": {},
   "outputs": [],
   "source": [
    "from datetime import datetime      # datetime.now() 를 이용하여 학습 경과 시간 측정\n",
    "\n",
    "class NeuralNetwork:\n",
    "    \n",
    "    def __init__(self, input_nodes, hidden_nodes, output_nodes, learning_rate):\n",
    "        \n",
    "        self.input_nodes = input_nodes\n",
    "        self.hidden_nodes = hidden_nodes\n",
    "        self.output_nodes = output_nodes\n",
    "        \n",
    "        # 은닉층 가중치  W2 = (784 X 100) Xavier/He 방법으로 self.W2 가중치 초기화\n",
    "        self.W2 = np.random.randn(self.input_nodes, self.hidden_nodes) / np.sqrt(self.input_nodes/2)\n",
    "        self.b2 = np.random.rand(self.hidden_nodes)      \n",
    "        \n",
    "        # 출력층 가중치는 W3 = (100X10)  Xavier/He 방법으로 self.W3 가중치 초기화\n",
    "        self.W3 = np.random.randn(self.hidden_nodes, self.output_nodes) / np.sqrt(self.hidden_nodes/2)\n",
    "        self.b3 = np.random.rand(self.output_nodes)      \n",
    "                        \n",
    "        # 출력층 선형회귀 값 Z3, 출력값 A3 정의 (모두 행렬로 표시)\n",
    "        self.Z3 = np.zeros([1,output_nodes])\n",
    "        self.A3 = np.zeros([1,output_nodes])\n",
    "        \n",
    "        # 은닉층 선형회귀 값 Z2, 출력값 A2 정의 (모두 행렬로 표시)\n",
    "        self.Z2 = np.zeros([1,hidden_nodes])\n",
    "        self.A2 = np.zeros([1,hidden_nodes])\n",
    "        \n",
    "        # 입력층 선형회귀 값 Z1, 출력값 A1 정의 (모두 행렬로 표시)\n",
    "        self.Z1 = np.zeros([1,input_nodes])    \n",
    "        self.A1 = np.zeros([1,input_nodes])       \n",
    "        \n",
    "        # 학습률 learning rate 초기화\n",
    "        self.learning_rate = learning_rate\n",
    "        \n",
    "    def feed_forward(self):  \n",
    "        \n",
    "        delta = 1e-7    # log 무한대 발산 방지\n",
    "        \n",
    "        # 입력층 선형회귀 값 Z1, 출력값 A1 계산\n",
    "        self.Z1 = self.input_data\n",
    "        self.A1 = self.input_data\n",
    "        \n",
    "        # 은닉층 선형회귀 값 Z2, 출력값 A2 계산    \n",
    "        self.Z2 = np.dot(self.A1, self.W2) + self.b2\n",
    "        self.A2 = sigmoid(self.Z2)\n",
    "        \n",
    "        # 출력층 선형회귀 값 Z3, 출력값 A3 계산\n",
    "        self.Z3 = np.dot(self.A2, self.W3) + self.b3\n",
    "        self.A3 = sigmoid(self.Z3)\n",
    "        \n",
    "        return  -np.sum( self.target_data*np.log(self.A3 + delta) + (1-self.target_data)*np.log((1 - self.A3)+delta ) )    \n",
    "    \n",
    "    def loss_val(self):\n",
    "        \n",
    "        delta = 1e-7    # log 무한대 발산 방지\n",
    "        \n",
    "        # 입력층 선형회귀 값 Z1, 출력값 A1 계산\n",
    "        self.Z1 = self.input_data\n",
    "        self.A1 = self.input_data\n",
    "        \n",
    "        # 은닉층 선형회귀 값 Z2, 출력값 A2 계산    \n",
    "        self.Z2 = np.dot(self.A1, self.W2) + self.b2\n",
    "        self.A2 = sigmoid(self.Z2)\n",
    "        \n",
    "        # 출력층 선형회귀 값 Z3, 출력값 A3 계산\n",
    "        self.Z3 = np.dot(self.A2, self.W3) + self.b3\n",
    "        self.A3 = sigmoid(self.Z3)\n",
    "        \n",
    "        return  -np.sum( self.target_data*np.log(self.A3 + delta) + (1-self.target_data)*np.log((1 - self.A3)+delta ) )\n",
    "    \n",
    "   \n",
    "    # 정확도 측정함수\n",
    "    def accuracy(self, test_data):\n",
    "        \n",
    "        matched_list = []\n",
    "        not_matched_list = []\n",
    "        \n",
    "        # list which contains (index, label, prediction) value\n",
    "        index_label_prediction_list = []\n",
    "\n",
    "        # temp list which contains label and prediction in sequence\n",
    "        temp_list = []\n",
    "        \n",
    "        for index in range(len(test_data)):\n",
    "                        \n",
    "            label = int(test_data[index, 0])\n",
    "                        \n",
    "            # one-hot encoding을 위한 데이터 정규화 (data normalize)\n",
    "            data = (test_data[index, 1:] / 255.0 * 0.99) + 0.01\n",
    "               \n",
    "            # predict 를 위해서 vector 을 matrix 로 변환하여 인수로 넘겨줌\n",
    "            predicted_num = self.predict(np.array(data, ndmin=2)) \n",
    "            # predicted_num = self.predict(data) \n",
    "        \n",
    "            if label == predicted_num:\n",
    "                matched_list.append(index)\n",
    "            else:\n",
    "                not_matched_list.append(index)\n",
    "                \n",
    "                temp_list.append(index)\n",
    "                temp_list.append(label)\n",
    "                temp_list.append(predicted_num)\n",
    "                \n",
    "                index_label_prediction_list.append(temp_list)\n",
    "                \n",
    "                temp_list = []\n",
    "                \n",
    "        print(\"Current Accuracy = \", 100*(len(matched_list)/(len(test_data))), \" %\")\n",
    "        print(\"Correct = \", len(matched_list),\" Wrong = \", len(not_matched_list))\n",
    "              \n",
    "        # return matched_list, not_matched_list\n",
    "        # return len(matched_list), len(not_matched_list)\n",
    "        return matched_list, not_matched_list, index_label_prediction_list\n",
    "\n",
    "    def train(self, input_data, target_data):   # input_data : 784 개, target_data : 10개\n",
    "        \n",
    "        self.target_data = target_data    \n",
    "        self.input_data = input_data\n",
    "        \n",
    "        # 먼저 feed forward 를 통해서 최종 출력값과 이를 바탕으로 현재의 에러 값 계산\n",
    "        loss_val = self.feed_forward()\n",
    "        \n",
    "        # 출력층 loss 인 loss_3 구함\n",
    "        loss_3 = (self.A3-self.target_data) * self.A3 * (1-self.A3)\n",
    "                        \n",
    "        # 출력층 가중치 W3, 출력층 바이어스 b3 업데이트\n",
    "        self.W3 = self.W3 - self.learning_rate * np.dot(self.A2.T, loss_3)   \n",
    "        \n",
    "        self.b3 = self.b3 - self.learning_rate * loss_3\n",
    "        \n",
    "        # 은닉층 loss 인 loss_2 구함        \n",
    "        loss_2 = np.dot(loss_3, self.W3.T) * self.A2 * (1-self.A2)\n",
    "        \n",
    "        # 은닉층 가중치 W2, 은닉층 바이어스 b2 업데이트\n",
    "        self.W2 = self.W2 - self.learning_rate * np.dot(self.A1.T, loss_2)   \n",
    "        \n",
    "        self.b2 = self.b2 - self.learning_rate * loss_2\n",
    "        \n",
    "    def predict(self, input_data):        # input_data 는 행렬로 입력됨 즉, (1, 784) shape 을 가짐        \n",
    "        \n",
    "        Z2 = np.dot(input_data, self.W2) + self.b2\n",
    "        A2 = sigmoid(Z2)\n",
    "        \n",
    "        Z3 = np.dot(A2, self.W3) + self.b3\n",
    "        A3 = sigmoid(Z3)\n",
    "        \n",
    "        predicted_num = np.argmax(A3)\n",
    "    \n",
    "        return predicted_num\n",
    "\n",
    "    # obtain W and b\n",
    "    def get_W_b(self):\n",
    "        \n",
    "        return self.W2,  self.b2, self.W3, self.b3\n",
    "    "
   ]
  },
  {
   "cell_type": "code",
   "execution_count": 3,
   "id": "f6ea0e5b-2e60-47fd-93f0-a57e4a2e6504",
   "metadata": {},
   "outputs": [],
   "source": [
    "# 0~9 숫자 이미지가 784개의 숫자 (28X28) 로 구성되어 있는 training data 읽어옴\n",
    "training_data = np.loadtxt('./mnist_train.csv', delimiter=',', dtype=np.float32)\n",
    "\n",
    "# 0~9 숫자 이미지가 784개의 숫자 (28X28) 로 구성되어 있는 test data 읽어옴\n",
    "test_data = np.loadtxt('./mnist_test.csv', delimiter=',', dtype=np.float32)"
   ]
  },
  {
   "cell_type": "code",
   "execution_count": 4,
   "id": "80cdcab8-ca16-4a64-b90e-ac9be4621aa2",
   "metadata": {},
   "outputs": [
    {
     "name": "stdout",
     "output_type": "stream",
     "text": [
      "training_data.shape =  (60000, 785)  ,  test_data.shape =  (10000, 785)\n"
     ]
    }
   ],
   "source": [
    "print(\"training_data.shape = \", training_data.shape, \" ,  test_data.shape = \", test_data.shape)"
   ]
  },
  {
   "cell_type": "code",
   "execution_count": 5,
   "id": "9a85c46d-2b48-49a7-8bc9-34549f683c58",
   "metadata": {},
   "outputs": [
    {
     "name": "stdout",
     "output_type": "stream",
     "text": [
      "training_data[0,0] =  5.0 ,  test_data[0,0] =  7.0\n",
      "len(training_data[0]) =  785 ,  len(test_data[0]) =  785\n"
     ]
    }
   ],
   "source": [
    "print(\"training_data[0,0] = \", training_data[0,0], \",  test_data[0,0] = \", test_data[0,0])\n",
    "\n",
    "print(\"len(training_data[0]) = \", len(training_data[0]), \",  len(test_data[0]) = \", len(test_data[0]))"
   ]
  },
  {
   "cell_type": "code",
   "execution_count": 6,
   "id": "48ab9a99-baa6-4d49-990b-4c5e9f5e22f0",
   "metadata": {},
   "outputs": [
    {
     "name": "stdout",
     "output_type": "stream",
     "text": [
      "step =  0 ,  loss_val =  3.7826015758276688\n",
      "step =  10000 ,  loss_val =  0.9734542251228968\n",
      "step =  20000 ,  loss_val =  0.9715056948287799\n",
      "step =  30000 ,  loss_val =  1.1618202885554818\n",
      "step =  40000 ,  loss_val =  1.1273934384587536\n",
      "step =  50000 ,  loss_val =  1.1308007934750552\n",
      "step =  0 ,  loss_val =  1.1445870639429125\n",
      "step =  10000 ,  loss_val =  1.2207456292681498\n",
      "step =  20000 ,  loss_val =  1.2173613907627163\n",
      "step =  30000 ,  loss_val =  1.254630593204804\n",
      "step =  40000 ,  loss_val =  1.1762263367290737\n",
      "step =  50000 ,  loss_val =  1.1854403760291714\n",
      "step =  0 ,  loss_val =  1.196189082791007\n",
      "step =  10000 ,  loss_val =  1.2888600562033943\n",
      "step =  20000 ,  loss_val =  1.3311452422860734\n",
      "step =  30000 ,  loss_val =  1.3346740450196128\n",
      "step =  40000 ,  loss_val =  1.2509933152082038\n",
      "step =  50000 ,  loss_val =  1.1866520600404293\n",
      "step =  0 ,  loss_val =  1.2388601805058543\n",
      "step =  10000 ,  loss_val =  1.369436658399441\n",
      "step =  20000 ,  loss_val =  1.4084518105921515\n",
      "step =  30000 ,  loss_val =  1.3016412308013803\n",
      "step =  40000 ,  loss_val =  1.3629788342736988\n",
      "step =  50000 ,  loss_val =  1.2357046111938805\n",
      "step =  0 ,  loss_val =  1.316207435717617\n",
      "step =  10000 ,  loss_val =  1.3001833528722915\n",
      "step =  20000 ,  loss_val =  1.4123341707745318\n",
      "step =  30000 ,  loss_val =  1.3408660264131287\n",
      "step =  40000 ,  loss_val =  1.3313853602483132\n",
      "step =  50000 ,  loss_val =  1.3302600310719148\n",
      "\n",
      "elapsed time =  0:01:28.645173\n"
     ]
    }
   ],
   "source": [
    "input_nodes = 784\n",
    "hidden_nodes = 100\n",
    "output_nodes = 10\n",
    "learning_rate = 0.3\n",
    "epochs = 5\n",
    "\n",
    "# 손실함수 값을 저장할 list 생성\n",
    "loss_val_list = []\n",
    "\n",
    "nn = NeuralNetwork(input_nodes, hidden_nodes, output_nodes, learning_rate)\n",
    "\n",
    "start_time = datetime.now()\n",
    "\n",
    "for i in range(epochs):\n",
    "    \n",
    "    for step in range(len(training_data)):  # train\n",
    "    \n",
    "        # input_data, target_data normalize        \n",
    "        target_data = np.zeros(output_nodes) + 0.01    \n",
    "        target_data[int(training_data[step, 0])] = 0.99\n",
    "    \n",
    "        input_data = ((training_data[step, 1:] / 255.0) * 0.99) + 0.01\n",
    "    \n",
    "        nn.train( np.array(input_data, ndmin=2), np.array(target_data, ndmin=2) )\n",
    "    \n",
    "        if step % 10000 == 0:\n",
    "            print(\"step = \", step,  \",  loss_val = \", nn.loss_val())\n",
    "            \n",
    "        # 손실함수 값 저장\n",
    "        loss_val_list.append(nn.loss_val()) \n",
    "        \n",
    "end_time = datetime.now() \n",
    "print(\"\\nelapsed time = \", end_time - start_time) "
   ]
  },
  {
   "cell_type": "code",
   "execution_count": 7,
   "id": "7c9bec7c-8961-4728-b545-a99b91b9c5e8",
   "metadata": {},
   "outputs": [
    {
     "name": "stdout",
     "output_type": "stream",
     "text": [
      "Current Accuracy =  96.58  %\n",
      "Correct =  9658  Wrong =  342\n"
     ]
    }
   ],
   "source": [
    "# nn.accuracy(test_data)    # epochs == 1 인 경우\n",
    "\n",
    "(true_list_2, false_list_2, index_label_prediction_list) = nn.accuracy(test_data) \n",
    "np.save(\"true_list2\", np.array(true_list_2))\n",
    "np.save(\"false_list2\", np.array(false_list_2))\n",
    "np.save(\"index_label_prediction_list2\", np.array(index_label_prediction_list))"
   ]
  },
  {
   "cell_type": "markdown",
   "id": "15b114ca-8121-47c0-babf-382b6d6ae553",
   "metadata": {},
   "source": [
    "## 가중치와 바이어스 save & load"
   ]
  },
  {
   "cell_type": "code",
   "execution_count": 8,
   "id": "bc88453d-f474-4ba6-a014-ad66787bae74",
   "metadata": {
    "tags": []
   },
   "outputs": [],
   "source": [
    "# print(loss_val_list)\n",
    "(W2,  b2, W3, b3)=nn.get_W_b()\n",
    "# obj.get_W_b()\n",
    "np.save(\"W2\", np.array(W2))\n",
    "np.save(\"b2\", np.array(b2))\n",
    "np.save(\"W3\", np.array(W3))\n",
    "np.save(\"b3\", np.array(b3))\n",
    "np.save(\"loss_val_list2\", np.array(loss_val_list))"
   ]
  },
  {
   "cell_type": "code",
   "execution_count": null,
   "id": "842bbfab-e7b1-46d1-878d-acedf5cda058",
   "metadata": {
    "tags": []
   },
   "outputs": [],
   "source": [
    "load_data = np.load(\"W3.npy\")\n",
    "# print(load_data)"
   ]
  },
  {
   "cell_type": "markdown",
   "id": "1cce1ee2-2850-4409-9a60-edd0426fa712",
   "metadata": {},
   "source": [
    "## Neural Network기반 Deep Learning architecture 정확도 평가 (mnist_test.csv)"
   ]
  },
  {
   "cell_type": "code",
   "execution_count": 9,
   "id": "8d29b4ef-7899-4c9e-bacc-648848f0c5cb",
   "metadata": {
    "tags": []
   },
   "outputs": [
    {
     "name": "stdout",
     "output_type": "stream",
     "text": [
      "342\n"
     ]
    }
   ],
   "source": [
    "load_data = np.load(\"false_list2.npy\")\n",
    "print(len(load_data))"
   ]
  },
  {
   "cell_type": "markdown",
   "id": "e057bdcf-e42d-4ad6-82eb-7514c77ae68d",
   "metadata": {},
   "source": [
    "## 잘못 예측한 데이터 "
   ]
  },
  {
   "cell_type": "code",
   "execution_count": 10,
   "id": "29df4655-6b93-49ca-a103-8672a366b81a",
   "metadata": {
    "tags": []
   },
   "outputs": [
    {
     "data": {
      "text/html": [
       "<div>\n",
       "<style scoped>\n",
       "    .dataframe tbody tr th:only-of-type {\n",
       "        vertical-align: middle;\n",
       "    }\n",
       "\n",
       "    .dataframe tbody tr th {\n",
       "        vertical-align: top;\n",
       "    }\n",
       "\n",
       "    .dataframe thead th {\n",
       "        text-align: right;\n",
       "    }\n",
       "</style>\n",
       "<table border=\"1\" class=\"dataframe\">\n",
       "  <thead>\n",
       "    <tr style=\"text-align: right;\">\n",
       "      <th></th>\n",
       "      <th>index</th>\n",
       "      <th>label</th>\n",
       "      <th>predict</th>\n",
       "    </tr>\n",
       "  </thead>\n",
       "  <tbody>\n",
       "    <tr>\n",
       "      <th>0</th>\n",
       "      <td>8</td>\n",
       "      <td>5</td>\n",
       "      <td>6</td>\n",
       "    </tr>\n",
       "    <tr>\n",
       "      <th>1</th>\n",
       "      <td>33</td>\n",
       "      <td>4</td>\n",
       "      <td>0</td>\n",
       "    </tr>\n",
       "    <tr>\n",
       "      <th>2</th>\n",
       "      <td>149</td>\n",
       "      <td>2</td>\n",
       "      <td>9</td>\n",
       "    </tr>\n",
       "    <tr>\n",
       "      <th>3</th>\n",
       "      <td>217</td>\n",
       "      <td>6</td>\n",
       "      <td>5</td>\n",
       "    </tr>\n",
       "    <tr>\n",
       "      <th>4</th>\n",
       "      <td>241</td>\n",
       "      <td>9</td>\n",
       "      <td>5</td>\n",
       "    </tr>\n",
       "    <tr>\n",
       "      <th>...</th>\n",
       "      <td>...</td>\n",
       "      <td>...</td>\n",
       "      <td>...</td>\n",
       "    </tr>\n",
       "    <tr>\n",
       "      <th>337</th>\n",
       "      <td>9905</td>\n",
       "      <td>3</td>\n",
       "      <td>7</td>\n",
       "    </tr>\n",
       "    <tr>\n",
       "      <th>338</th>\n",
       "      <td>9941</td>\n",
       "      <td>5</td>\n",
       "      <td>6</td>\n",
       "    </tr>\n",
       "    <tr>\n",
       "      <th>339</th>\n",
       "      <td>9944</td>\n",
       "      <td>3</td>\n",
       "      <td>9</td>\n",
       "    </tr>\n",
       "    <tr>\n",
       "      <th>340</th>\n",
       "      <td>9980</td>\n",
       "      <td>2</td>\n",
       "      <td>3</td>\n",
       "    </tr>\n",
       "    <tr>\n",
       "      <th>341</th>\n",
       "      <td>9982</td>\n",
       "      <td>5</td>\n",
       "      <td>6</td>\n",
       "    </tr>\n",
       "  </tbody>\n",
       "</table>\n",
       "<p>342 rows × 3 columns</p>\n",
       "</div>"
      ],
      "text/plain": [
       "     index  label  predict\n",
       "0        8      5        6\n",
       "1       33      4        0\n",
       "2      149      2        9\n",
       "3      217      6        5\n",
       "4      241      9        5\n",
       "..     ...    ...      ...\n",
       "337   9905      3        7\n",
       "338   9941      5        6\n",
       "339   9944      3        9\n",
       "340   9980      2        3\n",
       "341   9982      5        6\n",
       "\n",
       "[342 rows x 3 columns]"
      ]
     },
     "execution_count": 10,
     "metadata": {},
     "output_type": "execute_result"
    }
   ],
   "source": [
    "import pandas as pd\n",
    "\n",
    "load_data = np.load(\"index_label_prediction_list2.npy\")\n",
    "# print(load_data)\n",
    "df = pd.DataFrame(load_data,columns = ['index','label','predict'])\n",
    "# df.columns = ['index','label','predict']\n",
    "df.to_csv(\"index_label_prediction_list2.csv\")\n",
    "df"
   ]
  },
  {
   "cell_type": "markdown",
   "id": "46f9b939-323f-4b60-b71b-1e491d78221d",
   "metadata": {},
   "source": [
    "## loss_val 손실함수 추세 "
   ]
  },
  {
   "cell_type": "code",
   "execution_count": 11,
   "id": "4155633a-bea4-4ab7-a563-58316c5f814a",
   "metadata": {
    "tags": []
   },
   "outputs": [
    {
     "data": {
      "image/png": "[encoded data removed]",
      "text/plain": [
       "<Figure size 640x480 with 1 Axes>"
      ]
     },
     "metadata": {},
     "output_type": "display_data"
    }
   ],
   "source": [
    "# 손실함수 추세 확인\n",
    "# loss_val_list = np.load(\"loss_val_list2.npy\")\n",
    "\n",
    "x_data_list = [ index for index in range(len(training_data)) ]\n",
    "Y_DATA_LIST = []\n",
    "\n",
    "for index in range(0, len(loss_val_list), 200):\n",
    "    Y_DATA_LIST.append(loss_val_list[index])\n",
    "    \n",
    "plt.title('MNIST Loss Value Trend')\n",
    "plt.xlabel('data index ( X 200)')\n",
    "plt.ylabel('loss value')\n",
    "plt.grid()\n",
    "#plt.ylim(2.1, 7.1)\n",
    "#plt.plot(x_data_list, loss_val_list, color='b')\n",
    "plt.plot(Y_DATA_LIST, color='b')\n",
    "plt.show()\n"
   ]
  }
 ],
 "metadata": {
  "kernelspec": {
   "display_name": "Python 3",
   "language": "python",
   "name": "python3"
  },
  "language_info": {
   "codemirror_mode": {
    "name": "ipython",
    "version": 3
   },
   "file_extension": ".py",
   "mimetype": "text/x-python",
   "name": "python",
   "nbconvert_exporter": "python",
   "pygments_lexer": "ipython3",
   "version": "3.7.9"
  }
 },
 "nbformat": 4,
 "nbformat_minor": 5
}
