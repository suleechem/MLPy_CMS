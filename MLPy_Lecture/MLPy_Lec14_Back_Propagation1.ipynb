{
 "cells": [
  {
   "cell_type": "markdown",
   "id": "17c2d4c2-e1ba-4695-8b17-0b98fd4f3c73",
   "metadata": {},
   "source": [
    "# 오차역전파 (Back Propagation)"
   ]
  },
  {
   "cell_type": "markdown",
   "id": "1cce1ee2-2850-4409-9a60-edd0426fa712",
   "metadata": {},
   "source": [
    "## Numerical Derivative 사용의 문제점\n",
    "<img src = \"http://cmseng.skku.edu/CMSLecture/ML/img/14-1.png\" style=\"max-width: 70%; height: auto;\">"
   ]
  },
  {
   "cell_type": "markdown",
   "id": "3c9334c5-1542-4fe2-94da-c8d734df1166",
   "metadata": {},
   "source": [
    "## 오차역전파 (Back Propagation) - 개념 및 원리\n",
    "- 가중치나 바이어스가 변할 때 최종 오차가 얼마나 변하는지를 나타내는 $\\dfrac{\\partial{E}}{\\partial{W^{(2)}}}$ 와 같은 <font color = red> 편미분 </font>을,\n",
    "- <font color = red>체인룰(chain rule)을 이용하여 국소(loca) 미분으로 분리하고 </font> 수학 공식으로 표현하여, \n",
    "- <font color = red> 최종 오차로부터 가중치, 바이어스를 순차적으로 업데이트하는 방법을 <b>오차역전파(Back Propagation)</b></font>이라고 함.\n",
    "- <font color = blue>오차역전파는 수치미분을 사용하지 않고 행렬로 표현되는 수학공식을 계산하기 때문에 빠른 계산이 가능함. </font>\n",
    "\n",
    "<img src = \"http://cmseng.skku.edu/CMSLecture/ML/img/14-2.png\" style=\"max-width: 70%; height: auto;\">"
   ]
  },
  {
   "cell_type": "markdown",
   "id": "1dcd2358-1fcb-42e2-9eb0-be13c074fd9d",
   "metadata": {},
   "source": [
    "## 각 층의 선형회귀값 ($z$) / 각층의 출력값 ($a$)\n",
    "\n",
    "<img src = \"http://cmseng.skku.edu/CMSLecture/ML/img/14-3.png\" style=\"max-width: 70%; height: auto;\">"
   ]
  },
  {
   "cell_type": "markdown",
   "id": "6d2ae768-1d83-440b-b7b3-83f0e8e07d34",
   "metadata": {},
   "source": [
    "## sigmoid함수 미분 \n",
    "\n",
    "<img src = \"http://cmseng.skku.edu/CMSLecture/ML/img/14-4.png\" style=\"max-width: 70%; height: auto;\">"
   ]
  },
  {
   "cell_type": "markdown",
   "id": "315eb6bb-8496-4371-8330-72e2edb78a5f",
   "metadata": {},
   "source": [
    "## 최종 손실(에러)값 $E$ / 가중치 $W$ / 바이어스 $b$ \n",
    "\n",
    "<img src = \"http://cmseng.skku.edu/CMSLecture/ML/img/14-5.png\" style=\"max-width: 70%; height: auto;\">"
   ]
  },
  {
   "cell_type": "markdown",
   "id": "e99bf2cb-b217-42d1-9a24-0c08af6e574a",
   "metadata": {},
   "source": [
    "## (1) 출력층 오차역전파 공식 - 출력층 가중치 $W^{(3)}$ / 출력층 바이어스 $b^{(3)}$   \n",
    "\n",
    "<img src = \"http://cmseng.skku.edu/CMSLecture/ML/img/14-6.png\" style=\"max-width: 70%; height: auto;\">"
   ]
  },
  {
   "cell_type": "markdown",
   "id": "c81e4ae0-1966-4462-a9b8-b764013ab397",
   "metadata": {},
   "source": [
    "## 출력층 공식 유도1 (Weight)\n",
    "#### $\\dfrac{\\partial{E}}{\\partial{W_{11}^{(3)}}}$\n",
    "\n",
    "<img src = \"http://cmseng.skku.edu/CMSLecture/ML/img/14-7.png\" style=\"max-width: 70%; height: auto;\">"
   ]
  },
  {
   "cell_type": "markdown",
   "id": "7cbd2718-faf0-47ae-ad3e-e9cf2a2a6ae2",
   "metadata": {},
   "source": [
    "## 출력층 공식 유도2 (Weight)\n",
    "#### $\\dfrac{\\partial{E}}{\\partial{W_{21}^{(3)}}}$\n",
    "\n",
    "<img src = \"http://cmseng.skku.edu/CMSLecture/ML/img/14-8.png\" style=\"max-width: 70%; height: auto;\">"
   ]
  },
  {
   "cell_type": "markdown",
   "id": "7293e429-6bbe-452c-ad90-bb4a9c62467d",
   "metadata": {},
   "source": [
    "## 출력층 공식 유도3 (Bias)\n",
    "#### $\\dfrac{\\partial{E}}{\\partial{b_{1}^{(3)}}}$\n",
    "\n",
    "<img src = \"http://cmseng.skku.edu/CMSLecture/ML/img/14-9.png\" style=\"max-width: 70%; height: auto;\">"
   ]
  },
  {
   "cell_type": "markdown",
   "id": "984ac42a-f450-4118-8950-27e23b66bde7",
   "metadata": {},
   "source": [
    "## 출력층 공식 유도4 (Summary)\n",
    "#### $\\dfrac{\\partial{E}}{\\partial{b_{1}^{(3)}}}$\n",
    "\n",
    "<img src = \"http://cmseng.skku.edu/CMSLecture/ML/img/14-10.png\" style=\"max-width: 70%; height: auto;\">"
   ]
  },
  {
   "cell_type": "markdown",
   "id": "60237bf3-ae49-40fe-b0dc-d6d96b2d8119",
   "metadata": {},
   "source": [
    "## 출력층 공식 행렬식 (Matrix)\n",
    "\n",
    "<img src = \"http://cmseng.skku.edu/CMSLecture/ML/img/14-11.png\" style=\"max-width: 70%; height: auto;\">"
   ]
  },
  {
   "cell_type": "markdown",
   "id": "b3a1ba94-4095-48a8-b575-47dfdd790c9b",
   "metadata": {},
   "source": [
    "## (2) 은닉층 오차역전파 공식 - 은닉층 가중치 $W^{(2)}$ / 출력층 바이어스 $b^{(2)}$   \n",
    "#### $\\dfrac{\\partial{E}}{\\partial{W_{11}^{(2)}}}$\n",
    "\n",
    "<img src = \"http://cmseng.skku.edu/CMSLecture/ML/img/14-12.png\" style=\"max-width: 70%; height: auto;\">"
   ]
  },
  {
   "cell_type": "markdown",
   "id": "fe5b7b8a-228c-44cb-9f23-609afc3ece58",
   "metadata": {},
   "source": [
    "## 은닉층 공식 유도1 (Weight)\n",
    "#### $\\dfrac{\\partial{E}}{\\partial{W_{11}^{(2)}}}$\n",
    "\n",
    "<img src = \"http://cmseng.skku.edu/CMSLecture/ML/img/14-13.png\" style=\"max-width: 70%; height: auto;\">"
   ]
  },
  {
   "cell_type": "markdown",
   "id": "323d3f1d-8248-4ea0-8182-94520f625261",
   "metadata": {},
   "source": [
    "## 은닉층 공식 행렬식 (Matrix)\n",
    "\n",
    "<img src = \"http://cmseng.skku.edu/CMSLecture/ML/img/14-14.png\" style=\"max-width: 70%; height: auto;\">"
   ]
  },
  {
   "cell_type": "markdown",
   "id": "3d695faf-db9d-4644-b92d-1bdfc69bac67",
   "metadata": {},
   "source": [
    "<img src = \"http://cmseng.skku.edu/CMSLecture/ML/img/14-15.png\" style=\"max-width: 70%; height: auto;\">"
   ]
  },
  {
   "cell_type": "markdown",
   "id": "9c87c5a9-7fe7-4bf6-8abe-ca726679a077",
   "metadata": {},
   "source": [
    "## 오차역전파 수식 출력층/은닉층 (Summary)\n",
    "\n",
    "<img src = \"http://cmseng.skku.edu/CMSLecture/ML/img/14-16.png\" style=\"max-width: 70%; height: auto;\">"
   ]
  },
  {
   "cell_type": "markdown",
   "id": "556d999c-0c99-4063-9ecd-e598ecedccf5",
   "metadata": {},
   "source": [
    "<img src = \"http://cmseng.skku.edu/CMSLecture/ML/img/14-17.png\" style=\"max-width: 70%; height: auto;\">"
   ]
  },
  {
   "cell_type": "markdown",
   "id": "250ef86f-28c1-45a2-9346-755384620840",
   "metadata": {},
   "source": [
    "<img src = \"http://cmseng.skku.edu/CMSLecture/ML/img/14-18.png\" style=\"max-width: 70%; height: auto;\">"
   ]
  }
 ],
 "metadata": {
  "kernelspec": {
   "display_name": "Python 3",
   "language": "python",
   "name": "python3"
  },
  "language_info": {
   "codemirror_mode": {
    "name": "ipython",
    "version": 3
   },
   "file_extension": ".py",
   "mimetype": "text/x-python",
   "name": "python",
   "nbconvert_exporter": "python",
   "pygments_lexer": "ipython3",
   "version": "3.7.9"
  }
 },
 "nbformat": 4,
 "nbformat_minor": 5
}
