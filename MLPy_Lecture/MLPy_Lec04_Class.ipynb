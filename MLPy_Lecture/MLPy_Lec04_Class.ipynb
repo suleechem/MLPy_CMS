{
 "cells": [
  {
   "cell_type": "markdown",
   "id": "b4b2d145",
   "metadata": {},
   "source": [
    "# Class & Try / Exception\n"
   ]
  },
  {
   "cell_type": "markdown",
   "id": "2c7d651e",
   "metadata": {},
   "source": [
    "## 1. class1: definition, variable, method\n",
    "> #### class Class_name:\n",
    "    def __init__(self,param1,param2, ...):     # Constructor\n",
    "    def method_name(self,param1,param2,...):   # instance methode\n",
    "> #### variable \n",
    "    class variable    : 해당 class로 생성된 모든 instance에 공통으로 사용\n",
    "                      : \"클래스명.클래스변수명\" 으로 접근 가능\n",
    "    instance variable : 생성된 객체 instance에만 적용 \n",
    "> #### method\n",
    "    class method    :  def func_name(cls):\n",
    "                       @classmethod 로 표시 self 대신 cls 사용 \n",
    "    instance method :  def func_name(self,param...):\n",
    "    static method   :  def func_name(param...):\n",
    "                       instance 생성없이 사용되는 함수"
   ]
  },
  {
   "cell_type": "code",
   "execution_count": 1,
   "id": "daefcd8c",
   "metadata": {},
   "outputs": [
    {
     "name": "stdout",
     "output_type": "stream",
     "text": [
      "False\n",
      "True\n",
      "Name is PARKa\n",
      "Name is PARK\n",
      "     # of instance: 1\n",
      "Name is LEEa\n",
      "Name is LEE\n",
      "     # of instance: 2\n",
      "PARK is working at Samsung\n",
      "LEE is working at Hyndai\n",
      "PARK is sleeping\n",
      "LEE is sleeping\n",
      "PARK LEE 2 2\n",
      "2\n",
      "# of instance: 2\n",
      "# of instance: 2\n"
     ]
    }
   ],
   "source": [
    "class Person:\n",
    "    count = 0                        # class variable\n",
    "\n",
    "    #Instnace construction 및 변수 초기화 \n",
    "    def __init__(self,name):\n",
    "        self.name=name                # instance variable \n",
    "        Person.count += 1             # class variable \"count\" 증가 \n",
    "        print(\"Name is \" + name + \"a\")      # instance 생성 및 변수 초기화에서는 self 없이 사용 가능.\n",
    "        print(\"Name is \" + self.name)\n",
    "\n",
    "    #instance method\n",
    "    def work(self,company):\n",
    "        print(self.name + \" is working at \" + company)\n",
    "    \n",
    "    #instance method\n",
    "    def sleep(self):\n",
    "        print(self.name + \" is sleeping\")  # instance method에서는 변수는 \"self.변수이름\"\n",
    "                                           # 여기서 self 는 생성된 instance_name을 의미함. \n",
    "    \n",
    "    #static method\n",
    "    def isSquare(width, vertical):\n",
    "        return width == vertical\n",
    "        \n",
    "    #class method\n",
    "    @classmethod\n",
    "    def getCount(cls):\n",
    "        return cls.count\n",
    "\n",
    "# Instance 생성없이 함수실행 \n",
    "print(Person.isSquare(3,4))\n",
    "print(Person.isSquare(4,4))\n",
    "\n",
    "# Instance 생성\n",
    "obj1=Person(\"PARK\")\n",
    "print(\"     # of instance:\", Person.getCount()) # Class에서 class method 호출\n",
    "obj2=Person(\"LEE\")\n",
    "print(\"     # of instance:\", Person.count)      # Class에서 class variable 호출\n",
    "\n",
    "# instance methode, work 호출 \n",
    "obj1.work(\"Samsung\")\n",
    "obj2.work(\"Hyndai\")\n",
    "\n",
    "# instance methode, sleep 호출 \n",
    "obj1.sleep()\n",
    "obj2.sleep()\n",
    "\n",
    "# instance variable / class variable  \n",
    "print(obj1.name, end=\" \")\n",
    "print(obj2.name, end=\" \")       # 생성된 instance에서 instance variable 호출\n",
    "print(obj1.count, end=\" \")      # 생성된 instance에서 class variable 호출\n",
    "print(obj2.count)      \n",
    "print(Person.count)             # Class로부터 class variable 호출\n",
    "\n",
    "print(\"# of instance:\", Person.getCount())     # Class에서 class method 호출 \n",
    "print(\"# of instance:\", obj1.getCount())       # 생성된 instance에서 class method 호출\n"
   ]
  },
  {
   "cell_type": "markdown",
   "id": "ba035950",
   "metadata": {},
   "source": [
    "## 2. class2: public and private member variable\n",
    "> #### python은 기본적으로 모든 member variable이 public이라 외부에서 접근이 가능함.\n",
    "> #### variable 및 method를 private으로 선언하면 외부 접근이 불가능함\n",
    "    __variable, __method\n"
   ]
  },
  {
   "cell_type": "code",
   "execution_count": 2,
   "id": "be5dfc46",
   "metadata": {
    "scrolled": true
   },
   "outputs": [
    {
     "name": "stdout",
     "output_type": "stream",
     "text": [
      "Initialized with PARK , LEE\n",
      "1.varialb: PARK\n",
      "PARK LEE\n",
      "2.method: ('PARK', 'LEE')\n"
     ]
    }
   ],
   "source": [
    "class PrivateMember:\n",
    "    def __init__(self,name1,name2):\n",
    "        self.name1=name1\n",
    "        self.__name2=name2              # private member variable\n",
    "        print(\"Initialized with \" + name1 + \" , \" + name2)\n",
    "        \n",
    "    def getNames(self):                 # public instance method\n",
    "        self.__printNames()               ## private instance method ==> class내에서 호출 가능\n",
    "        return self.name1, self.__name2   ## private member variable ==> class내에서 호출 가능 \n",
    "    \n",
    "    def __printNames(self):             # private instance method \n",
    "        print(self.name1, self.__name2)\n",
    "        \n",
    "# instance 생성 \n",
    "obj = PrivateMember(\"PARK\",\"LEE\")\n",
    "print(\"1.varialb:\",obj.name1)\n",
    "print(\"2.method:\", obj.getNames())      # self.__printNames() 출력 후 --> 결과값은 Tuple 로 return\n",
    "# print(obj.__printNames())               # private member 외부에서 호출 불가능 \n",
    "# print(obj.__name2)                      # private member 외부에서 호출 불가능"
   ]
  },
  {
   "cell_type": "markdown",
   "id": "85ef9691",
   "metadata": {},
   "source": [
    "## 3. class3: external function & class method\n",
    "> #### 외부함수와 class 내 method의 이름이 동일한 경우 \n",
    "> #### class 내부에서 self.method_name 을 통해서 class 내부 method를 호출할 수 있음.\n",
    "> #### self. 를 사용하지 않을 경우 외부 함수를 호출함"
   ]
  },
  {
   "cell_type": "code",
   "execution_count": 3,
   "id": "0e8d2019",
   "metadata": {},
   "outputs": [
    {
     "name": "stdout",
     "output_type": "stream",
     "text": [
      "Instance: Lee\n",
      "[def]  Kim\n",
      "[class]  Lee Lee2\n",
      "[def]  Lee\n",
      "[class]  Lee Lee2\n"
     ]
    }
   ],
   "source": [
    "def print_name(name):\n",
    "    print(\"[def] \", name)\n",
    "    \n",
    "class SameTest:\n",
    "    def __init__(self,name):\n",
    "        self.name=name\n",
    "        print(\"Instance:\", self.name)\n",
    "    \n",
    "#     def print_name(self):             # 외부함수와 동일한 이름의 method\n",
    "#         print(\"[class] \", self.name + \"2\")\n",
    "    \n",
    "#     def call_test(self):\n",
    "#         print_name(self.name)         # 외부함수 print_name 호출 \n",
    "#         self.print_name()             # instance methode print_name 호출 \n",
    "        \n",
    "    def print_name(self,name2):             # 외부함수와 동일한 이름의 method\n",
    "        self.name2=name2\n",
    "        print(\"[class] \", self.name, name2)\n",
    "    \n",
    "    def call_test(self):\n",
    "        print_name(self.name)               # 외부함수 print_name 호출 \n",
    "        self.print_name(self.name2)         # instance methode print_name 호출 \n",
    "        \n",
    "obj=SameTest(\"Lee\")       # instance 생성 \n",
    "print_name(\"Kim\")         # 외부 함수 print_name 호출 \n",
    "\n",
    "# obj.print_name()    # instance의 method print_name 호출 \n",
    "obj.print_name(\"Lee2\")    # instance의 method print_name 호출 \n",
    "obj.call_test()"
   ]
  },
  {
   "cell_type": "markdown",
   "id": "a6e9b4b0",
   "metadata": {},
   "source": [
    "## 4. class4: parent class & child class\n",
    "> ### 상속(Inheritance)\n",
    "> \"물려받다\"라는 뜻으로 클래스에도 이 개념을 적용할 수 있다.   \n",
    "   어떤 클래스를 만들 때 다른 클래스의 기능을 물려받을 수 있게 만드는 것이다. \n",
    "> #### parent class\n",
    "> class Rectangle:  \n",
    "> #### child class  \n",
    "> class Vol(Rectangle):   "
   ]
  },
  {
   "cell_type": "code",
   "execution_count": 4,
   "id": "015adc12",
   "metadata": {},
   "outputs": [
    {
     "name": "stdout",
     "output_type": "stream",
     "text": [
      "Rectangular (5, 5) is Square? True\n",
      "Rectangular (7, 5) is Square? False\n",
      "\n",
      "Area of rectangular (5, 5) is calculated as 25.\n",
      "Area of rectangular (2, 5) is calculated as 10.\n",
      "Area of rectangular (7, 5) is calculated as 35.\n",
      "Volume of Box (5, 5, 10) is calculated as 250.\n",
      "\n",
      "Total number of instances is 4\n"
     ]
    }
   ],
   "source": [
    "# Parent class\n",
    "class Rectangle:\n",
    "    count = 0                             # Class variable\n",
    " \n",
    "    def __init__(self, width, vertical):\n",
    "        self.width = width                # instance variable\n",
    "        self.vertical = vertical          # instance variable\n",
    "        Rectangle.count += 1\n",
    " \n",
    "    # instance method\n",
    "    def calcArea(self):\n",
    "        area = self.width * self.vertical\n",
    "        return area\n",
    " \n",
    "    # static method\n",
    "    def isSquare(width, vertical):\n",
    "        return width == vertical   \n",
    " \n",
    "    # class method\n",
    "    def printCount(cls):\n",
    "        print(\"Total number of instances is {0}\".format(cls.count))   \n",
    "\n",
    "# Child class\n",
    "class Vol(Rectangle):   \n",
    "    # Inheritance\n",
    "    def __init__(self,width,vertical,height):               \n",
    "        Rectangle.__init__(self,width,vertical)\n",
    "        self.height=height\n",
    "    \n",
    "    # instance method    \n",
    "    def calcVol(self):\n",
    "        return self.width * self.vertical * self.height\n",
    "    \n",
    " # MAIN BLOCK \n",
    "square = Rectangle.isSquare(5, 5)        \n",
    "print(\"Rectangular ({0}, {1}) is Square? {2}\".format(5,5,square))          \n",
    "square = Rectangle.isSquare(7, 5)        \n",
    "print(\"Rectangular ({0}, {1}) is Square? {2}\".format(7,5,square))\n",
    "print(\"\")\n",
    "       \n",
    "rect1 = Rectangle(5, 5)      # Create instance rect1\n",
    "rect2 = Rectangle(2, 5)      # Create instance rect2\n",
    "rect3 = Rectangle(7, 5)      # Create instance rect3\n",
    "vol1 = Vol(5, 5, 10)         # Create instance vol1 \n",
    "\n",
    "print(\"Area of rectangular ({0}, {1}) is calculated as {2}.\".format(rect1.width, rect1.vertical, rect1.calcArea()))\n",
    "print(\"Area of rectangular ({0}, {1}) is calculated as {2}.\".format(rect2.width, rect2.vertical, rect2.calcArea()))\n",
    "print(\"Area of rectangular ({0}, {1}) is calculated as {2}.\".format(rect3.width, rect3.vertical, rect3.calcArea()))\n",
    "print(\"Volume of Box ({0}, {1}, {2}) is calculated as {3}.\".format(vol1.width, vol1.vertical, vol1.height,vol1.calcVol()))\n",
    "print(\"\")\n",
    "rect1.printCount()  \n"
   ]
  },
  {
   "cell_type": "markdown",
   "id": "67e97e25",
   "metadata": {},
   "source": [
    "## 5. Exception: Error 표시 \n",
    "> #### try ... exception 구문 사용  \n",
    "> #### 발생된 exception을 무시하기 위해서는 pass 사용 \n",
    "> #### 개발자가 에러를 발생시키기 위해서는 raise 사용 \n",
    "> #### finally문은 error 발생 유무에 관계없이 항상 마지막에 실행 "
   ]
  },
  {
   "cell_type": "code",
   "execution_count": 5,
   "id": "57b24a16",
   "metadata": {
    "scrolled": true
   },
   "outputs": [
    {
     "name": "stdout",
     "output_type": "stream",
     "text": [
      "6\n",
      "list index out of range\n",
      "0\n",
      "unsupported operand type(s) for +: 'int' and 'str'\n",
      "0\n",
      "'int' object is not subscriptable\n",
      "0\n",
      "Sum is minus\n",
      "-87\n"
     ]
    }
   ],
   "source": [
    "def calc(list_data):\n",
    "    sum = 0\n",
    "    try:\n",
    "        sum = list_data[0]+list_data[1]+list_data[2]\n",
    "        \n",
    "        if sum < 0:\n",
    "            raise Exception(\"Sum is minus\")\n",
    "    \n",
    "    except IndexError as err:       # IndexError 에 특정함.\n",
    "        print(str(err))\n",
    "    except TypeError as err:       # IndexError 에 특정함.\n",
    "        print(str(err))    \n",
    "    except Exception as err:        # 모든 error \n",
    "        print(str(err))\n",
    "    finally:\n",
    "        print(sum)\n",
    "\n",
    "calc([1,2,3])\n",
    "calc([1,2])\n",
    "calc([1,2,\"a\"])\n",
    "calc(1)\n",
    "calc([1,2,-90])\n"
   ]
  },
  {
   "cell_type": "code",
   "execution_count": 6,
   "id": "c4d32a06",
   "metadata": {},
   "outputs": [],
   "source": [
    "f = open(\"./test_file.txt\", 'w')\n",
    "f.write(\"Hello, Pythion\")\n",
    "f.close()\n",
    "\n",
    "with open(\"./test_file.txt\",'a') as f:\n",
    "    f.write(\"\\naaa\")"
   ]
  }
 ],
 "metadata": {
  "kernelspec": {
   "display_name": "Python 3",
   "language": "python",
   "name": "python3"
  },
  "language_info": {
   "codemirror_mode": {
    "name": "ipython",
    "version": 3
   },
   "file_extension": ".py",
   "mimetype": "text/x-python",
   "name": "python",
   "nbconvert_exporter": "python",
   "pygments_lexer": "ipython3",
   "version": "3.7.9"
  }
 },
 "nbformat": 4,
 "nbformat_minor": 5
}
