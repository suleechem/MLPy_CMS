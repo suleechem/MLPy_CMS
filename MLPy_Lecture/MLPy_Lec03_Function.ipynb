{
 "cells": [
  {
   "cell_type": "markdown",
   "id": "938afe3f",
   "metadata": {},
   "source": [
    "# Function: def, lambda\n"
   ]
  },
  {
   "cell_type": "markdown",
   "id": "36a289d0",
   "metadata": {},
   "source": [
    "## 1. Function1: definition, return\n",
    "> <b>def func_name(param1, param2, ...):  </b>  \n",
    "> 한개 이상의 return값은 <b>콤마(,)</b>로 분리하여 받거나 <b>tuple</b>형태로 받음"
   ]
  },
  {
   "cell_type": "code",
   "execution_count": 1,
   "id": "f12a2b69",
   "metadata": {},
   "outputs": [
    {
     "name": "stdout",
     "output_type": "stream",
     "text": [
      "7\n"
     ]
    }
   ],
   "source": [
    "def sum(x,y):\n",
    "    s = x + y\n",
    "    return s\n",
    "\n",
    "result = sum(3,4)\n",
    "print(result)"
   ]
  },
  {
   "cell_type": "code",
   "execution_count": 2,
   "id": "4c3ff24f",
   "metadata": {},
   "outputs": [
    {
     "name": "stdout",
     "output_type": "stream",
     "text": [
      "101 102 103\n",
      "<class 'tuple'> (101, 102, 103)\n",
      "101\n"
     ]
    }
   ],
   "source": [
    "def multi_ret_func(x):\n",
    "    return x+1, x+2, x+3     # return(x+1, x+2, x+3)\n",
    "\n",
    "x=100\n",
    "y1,y2,y3=multi_ret_func(x)\n",
    "print(y1,y2,y3)\n",
    "\n",
    "a=multi_ret_func(x)\n",
    "print(type(a),a)\n",
    "print(a[0])\n"
   ]
  },
  {
   "cell_type": "markdown",
   "id": "63a9ed4b",
   "metadata": {},
   "source": [
    "## 2. Function2: parameter\n",
    "> <b>default parameter:</b> def print_name(count=2):  \n",
    "> <b>mutable parameter:</b> list, dict, numpy 등등   \n",
    "   -> 기계학습 code 실행 시 mutable parameter value는 backup해 두는것이 좋음  \n",
    "> <b>immutable parameter:</b> number, string, tuple  \n"
   ]
  },
  {
   "cell_type": "code",
   "execution_count": 3,
   "id": "00dc74af",
   "metadata": {},
   "outputs": [
    {
     "name": "stdout",
     "output_type": "stream",
     "text": [
      "name == LEE\n",
      "name == LEE\n"
     ]
    }
   ],
   "source": [
    "def print_name(name,count=2):   # count parameter의 default value = 2 로 정의 됨.\n",
    "    for i in range(count):\n",
    "        print(\"name ==\", name)\n",
    "\n",
    "print_name(\"LEE\")"
   ]
  },
  {
   "cell_type": "code",
   "execution_count": 4,
   "id": "da7e20ac",
   "metadata": {},
   "outputs": [
    {
     "name": "stdout",
     "output_type": "stream",
     "text": [
      "2 [1, 2, 3, 100]\n",
      "[1, 2, 3, 100]\n",
      "x == 1 , test_list == [1, 2, 3, 100]\n"
     ]
    }
   ],
   "source": [
    "def mutable_immutable_func(int_x,input_list):\n",
    "    int_x += 1\n",
    "    input_list.append(100)\n",
    "    return int_x, input_list\n",
    "\n",
    "x=1                  # immutable parameter\n",
    "test_list=[1,2,3]    # mutable parameter\n",
    "\n",
    "a=mutable_immutable_func(x,test_list)\n",
    "print(a[0],a[1])\n",
    "print(test_list)\n",
    "print(\"x ==\",x, \", test_list ==\", test_list)"
   ]
  },
  {
   "cell_type": "markdown",
   "id": "38fb15d8",
   "metadata": {},
   "source": [
    "## 3. lambda\n",
    "> ### func_name = lambda param1, param2, ... : expression of function \n",
    "> lambda는 f(x), f(x,y) 등의 함수정의에 사용  \n",
    "> <b>기계학습에서 미분(numerial derivative), 활성함수(active function)</b>등을 표현할때 사용됨  \n",
    "> \"f(x) = x + 100\" 수식은  \"f = lambda x : x + 100\" 로 표현됨  "
   ]
  },
  {
   "cell_type": "code",
   "execution_count": 5,
   "id": "5fb39508",
   "metadata": {},
   "outputs": [
    {
     "name": "stdout",
     "output_type": "stream",
     "text": [
      "0\n",
      "101\n",
      "202\n"
     ]
    }
   ],
   "source": [
    "f = lambda x,y : x + 100 * y    # f(x)=x+100y\n",
    "\n",
    "for i in range(3):\n",
    "    print(f(i,i))"
   ]
  },
  {
   "cell_type": "code",
   "execution_count": 6,
   "id": "8ed902b8",
   "metadata": {},
   "outputs": [
    {
     "name": "stdout",
     "output_type": "stream",
     "text": [
      "input1 == 100 , input2 == 200\n",
      "hello python\n"
     ]
    }
   ],
   "source": [
    "# lambda 함수가 def 로 정의된 경우 lambda parameter를 반드시 이용하지 않음.\n",
    "\n",
    "def print_hello():\n",
    "    print(\"hello python\")\n",
    "    \n",
    "def test_lambda(s,t):\n",
    "    print(\"input1 ==\", s, \", input2 ==\", t)\n",
    "    \n",
    "s=100\n",
    "t=200\n",
    "\n",
    "fx = lambda x, y : test_lambda(s,t)    # fx(x,y)=test_lambda(s,t)\n",
    "fy = lambda x, y : print_hello()       # fy(x,y)=print_name()\n",
    "\n",
    "fx(200,300)   # fx(200,300) = test_lambda(s,t)\n",
    "fy(400,500)   # fy(400,500) = print_name()"
   ]
  }
 ],
 "metadata": {
  "kernelspec": {
   "display_name": "Python 3",
   "language": "python",
   "name": "python3"
  },
  "language_info": {
   "codemirror_mode": {
    "name": "ipython",
    "version": 3
   },
   "file_extension": ".py",
   "mimetype": "text/x-python",
   "name": "python",
   "nbconvert_exporter": "python",
   "pygments_lexer": "ipython3",
   "version": "3.7.9"
  }
 },
 "nbformat": 4,
 "nbformat_minor": 5
}
