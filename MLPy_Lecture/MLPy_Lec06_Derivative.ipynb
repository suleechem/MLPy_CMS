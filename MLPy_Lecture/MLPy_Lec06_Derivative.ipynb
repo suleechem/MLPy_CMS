{
 "cells": [
  {
   "cell_type": "markdown",
   "id": "77b13386",
   "metadata": {},
   "source": [
    "# Numerical Derivative\n",
    "- [[LaTex] Markdown 수식 작성법](https://velog.io/@d2h10s/LaTex-Markdown-%EC%88%98%EC%8B%9D-%EC%9E%91%EC%84%B1%EB%B2%95)\n",
    "\n",
    "## 상미분 \n",
    "- $\n",
    "\\displaystyle f^{'}(x) = \\frac{df(x)}{dx}\n",
    "=\\displaystyle\\lim_{\\Delta{x}\\to 0} \\frac{f(x+\\Delta{x})-f(x)}{\\Delta{x}}\n",
    "=\\displaystyle\\lim_{\\Delta{x}\\to 0} \\frac{f(x+\\Delta{x})-f(x-\\Delta{x})}{2\\Delta{x}}\n",
    "$\n",
    "\n",
    "\n",
    "- <b>[예제1]</b> 함수 $f(x)=x^2$ 에서 미분계수 $f^{'}(3)$ 을 구하기.  \n",
    "즉, $x=3$ 에서 값이 미세하게 변할 때, 함수 $f$는 얼마나 변하는지 계산하라는 의미\n",
    "\n",
    "\n",
    "- $\n",
    "\\displaystyle f^{'}(3)  \n",
    "=\\displaystyle\\lim_{\\Delta{x}\\to 0} \\frac{f(3+e^{-4})-f(3-e^{-4})}{2*e^{-4}} = 6.0\n",
    "$\n",
    "\n",
    "- <b>[예제2]</b> 함수 $f(x)=3xe^x$ 에서 미분계수 $f^{'}(2)$ 을 구하기.  \n",
    "즉, $x=2$ 에서 값이 미세하게 변할 때, 함수 $f$는 얼마나 변하는지 계산하라는 의미\n",
    "\n",
    "\n",
    "- $\\displaystyle f(x)=3xe^x $\n",
    "- $\\displaystyle f^{'}(x)= 3e^{x} + 3xe^x  $\n",
    "- $\\displaystyle f^{'}(2)= 3e^{2} + 3\\cdot2e^2  $"
   ]
  },
  {
   "cell_type": "code",
   "execution_count": 1,
   "id": "a69d44b0",
   "metadata": {
    "tags": []
   },
   "outputs": [
    {
     "name": "stdout",
     "output_type": "stream",
     "text": [
      "f(3) = x**2 = 9\n",
      "f'(3)= 2x =  6.000000000012662\n"
     ]
    }
   ],
   "source": [
    "def my_func1(x):\n",
    "    return x**2\n",
    "\n",
    "def numerical_derivative(f,x):\n",
    "    delta_x = 1e-4\n",
    "    return (f(x+delta_x) - f(x-delta_x))/(2*delta_x)\n",
    "\n",
    "result = numerical_derivative(my_func1,3)\n",
    "print(\"f(3) = x**2 =\", my_func1(3))\n",
    "print(\"f\\'(3)= 2x = \", result)"
   ]
  },
  {
   "cell_type": "code",
   "execution_count": 2,
   "id": "67077874",
   "metadata": {
    "tags": []
   },
   "outputs": [
    {
     "name": "stdout",
     "output_type": "stream",
     "text": [
      "f'(2) analytical =  66.50150489037586\n",
      "f'(2) numerical  =  66.50150507518049\n"
     ]
    }
   ],
   "source": [
    "import numpy as np\n",
    "\n",
    "def my_func2(x):\n",
    "    return (3*x*(np.exp(x)))\n",
    "\n",
    "def numerical_derivative(f,x):\n",
    "    delta_x = 1e-4\n",
    "    return (f(x+delta_x) - f(x-delta_x))/(2*delta_x)\n",
    "\n",
    "result = numerical_derivative(my_func2,2)\n",
    "f_dev2 = 3*np.exp(2)+3*2*np.exp(2)\n",
    "print(\"f\\'(2) analytical = \", f_dev2)\n",
    "print(\"f\\'(2) numerical  = \", result)\n"
   ]
  },
  {
   "cell_type": "markdown",
   "id": "120c0ccb",
   "metadata": {},
   "source": [
    "## 편미분\n",
    "\n",
    "- 입력 변수가 하나 이상인 다변수 함수의 경우, 입력변수는 서로 돌깁적이기 때문에 편미분 수행.\n",
    "\n",
    "\n",
    "- [예] $f(x,y)=2x+3xy+y^2$, 입력변수 $x,y$ 두개 이므로 $\\displaystyle\\frac{\\partial f}{\\partial x}, \\frac{\\partial f}{\\partial y}$ 각각 수행\n",
    "\n",
    "\n",
    "- $\\displaystyle f^{'}(1.0, 2.0) = (8.0, 15.0)$\n",
    "- $x=1.0$ 에서의 미분계수는 변수 $y=2.0$을 상수로 대입하여 $\\displaystyle\\frac{\\partial f(x,2)}{\\partial x}$를 수행. \n",
    "\n",
    "\n",
    "- $y=2.0$ 에서의 미분계수는 변수 $x=1.0$을 상수로 대입하여 $\\displaystyle\\frac{\\partial f(1,y)}{\\partial y}$를 수행. "
   ]
  },
  {
   "cell_type": "code",
   "execution_count": 4,
   "id": "042d4f34",
   "metadata": {
    "tags": []
   },
   "outputs": [
    {
     "name": "stdout",
     "output_type": "stream",
     "text": [
      "-------- func1 --------\n",
      "debug 1. initial input variable = [3.]\n",
      "debug 2. initial grad = [0.]\n",
      "========================================\n",
      "debug 3. idx =  (0,) , x[idx] =  3.0\n",
      "[3.]\n",
      "[3.0001]\n",
      "[2.9999]\n",
      "debug 4. grad[idx] = 6.000000000012662\n",
      "debug 5. grad = [6.]\n",
      "========================================\n",
      "result =  [6.]\n",
      "\n",
      "-------- func2 --------\n",
      "debug 1. initial input variable = [1. 2.]\n",
      "debug 2. initial grad = [0. 0.]\n",
      "========================================\n",
      "debug 3. idx =  (0,) , x[idx] =  1.0\n",
      "[1. 2.]\n",
      "[1.0001 2.    ]\n",
      "[0.9999 2.    ]\n",
      "debug 4. grad[idx] = 7.999999999990237\n",
      "debug 5. grad = [8. 0.]\n",
      "========================================\n",
      "debug 3. idx =  (1,) , x[idx] =  2.0\n",
      "[1. 2.]\n",
      "[1.     2.0001]\n",
      "[1.     1.9999]\n",
      "debug 4. grad[idx] = 15.000000010019221\n",
      "debug 5. grad = [ 8.         15.00000001]\n",
      "========================================\n",
      "result =  [ 8.         15.00000001]\n"
     ]
    }
   ],
   "source": [
    "import numpy as np\n",
    "\n",
    "def my_func1(input_obj):\n",
    "    x = input_obj[0]\n",
    "    return (x**2)\n",
    "\n",
    "def my_func2(input_obj):\n",
    "    x = input_obj[0]\n",
    "    y = input_obj[1]\n",
    "    return (2*x+3*x*y+y**3)\n",
    "\n",
    "def numerical_derivative(f,x):  # x: 모든 변수를 포함하는 numpy 객체 (행렬)\n",
    "    delta_x = 1e-4\n",
    "    # 계산된 수치미분값 저장 장소, 입력변수와 같은크기의 행렬로 생성.\n",
    "    grad = np.zeros_like(x)  \n",
    "    \n",
    "    print(\"debug 1. initial input variable =\", x)\n",
    "    print(\"debug 2. initial grad =\", grad)\n",
    "    print(\"========================================\")\n",
    "    # 모든 입력변수에 대해 편미분을 하기위해 iterator 획득 \n",
    "    it = np.nditer(x, flags=['multi_index'], op_flags=['readwrite'])\n",
    "    while not it.finished:\n",
    "        idx=it.multi_index\n",
    "        # numpy 데이터는 mutable하므로 원본 데이터 백업.\n",
    "        print(\"debug 3. idx = \",idx, \", x[idx] = \", x[idx])  # 입력변수 index \n",
    "        print(x)    # 입력변수 모니터링\n",
    "        tmp_val=x[idx]\n",
    "        x[idx] = float(tmp_val) + delta_x\n",
    "        fx1 = f(x)  # f(x+delta_x)\n",
    "        print(x)    # 입력변수 모니터링\n",
    "        \n",
    "        x[idx] = float(tmp_val) - delta_x\n",
    "        fx2 = f(x)  # f(x-delta_x)\n",
    "        grad[idx] = (fx1 - fx2)/(2*delta_x)\n",
    "        print(x)    # 입력변수 모니터링\n",
    "\n",
    "        print(\"debug 4. grad[idx] =\", grad[idx])\n",
    "        print(\"debug 5. grad =\", grad)\n",
    "        print(\"========================================\")\n",
    "\n",
    "        x[idx] = tmp_val\n",
    "        it.iternext()\n",
    "        \n",
    "    return grad\n",
    "\n",
    "print(\"-------- func1 --------\")\n",
    "result = numerical_derivative(my_func1,np.array([3.0]))\n",
    "print(\"result = \", result)\n",
    "\n",
    "print(\"\\n-------- func2 --------\")\n",
    "input = np.array([1.0,2.0])\n",
    "result = numerical_derivative(my_func2,input)\n",
    "print(\"result = \", result)"
   ]
  },
  {
   "cell_type": "markdown",
   "id": "57e4682f",
   "metadata": {},
   "source": [
    "## 4변수 편미분\n",
    "\n",
    "- 입력변수 4개인 함수\n",
    "- $f(w,x,y,z)=wx+xyz+3w+zy^2 \\rightarrow f^{'}(1.0, 2.0, 3.0, 4.0)$\n",
    "\n",
    "\n",
    "- input_obj 는 행렬 형태로 사용 \n",
    "- $\n",
    "input$_$obj=\n",
    "\\begin{bmatrix}\n",
    "w & x \\\\\n",
    "y & z \n",
    "\\end{bmatrix} $\n",
    "$=\n",
    "\\begin{bmatrix}\n",
    "1 & 2 \\\\\n",
    "3 & 4 \n",
    "\\end{bmatrix}\n",
    "$\n",
    "\n",
    "\n",
    "- $w = input$_$obj \\ [0,0]$\n",
    "- $x \\ = input$_$obj \\ [0,1]$\n",
    "- $y \\ = input$_$obj \\ [1,0]$\n",
    "- $z \\ = input$_$obj \\ [1,1]$"
   ]
  },
  {
   "cell_type": "code",
   "execution_count": 4,
   "id": "8593b350",
   "metadata": {},
   "outputs": [
    {
     "name": "stdout",
     "output_type": "stream",
     "text": [
      "debug 1. initial input variable = [[1. 2.]\n",
      " [3. 4.]]\n",
      "debug 2. initial grad = [[0. 0.]\n",
      " [0. 0.]]\n",
      "========================================\n",
      "debug 3. idx =  (0, 0) , x[idx] =  1.0\n",
      "[[1. 2.]\n",
      " [3. 4.]]\n",
      "[[1.0001 2.    ]\n",
      " [3.     4.    ]]\n",
      "[[0.9999 2.    ]\n",
      " [3.     4.    ]]\n",
      "debug 4. grad[idx] = 5.000000000023874\n",
      "debug 5. grad = [[5. 0.]\n",
      " [0. 0.]]\n",
      "========================================\n",
      "debug 3. idx =  (0, 1) , x[idx] =  2.0\n",
      "[[1. 2.]\n",
      " [3. 4.]]\n",
      "[[1.     2.0001]\n",
      " [3.     4.    ]]\n",
      "[[1.     1.9999]\n",
      " [3.     4.    ]]\n",
      "debug 4. grad[idx] = 13.00000000000523\n",
      "debug 5. grad = [[ 5. 13.]\n",
      " [ 0.  0.]]\n",
      "========================================\n",
      "debug 3. idx =  (1, 0) , x[idx] =  3.0\n",
      "[[1. 2.]\n",
      " [3. 4.]]\n",
      "[[1.     2.    ]\n",
      " [3.0001 4.    ]]\n",
      "[[1.     2.    ]\n",
      " [2.9999 4.    ]]\n",
      "debug 4. grad[idx] = 32.00000000006753\n",
      "debug 5. grad = [[ 5. 13.]\n",
      " [32.  0.]]\n",
      "========================================\n",
      "debug 3. idx =  (1, 1) , x[idx] =  4.0\n",
      "[[1. 2.]\n",
      " [3. 4.]]\n",
      "[[1.     2.    ]\n",
      " [3.     4.0001]]\n",
      "[[1.     2.    ]\n",
      " [3.     3.9999]]\n",
      "debug 4. grad[idx] = 15.000000000000568\n",
      "debug 5. grad = [[ 5. 13.]\n",
      " [32. 15.]]\n",
      "========================================\n",
      "result =  [[ 5. 13.]\n",
      " [32. 15.]]\n"
     ]
    }
   ],
   "source": [
    "def my_func3(input_obj):\n",
    "    w = input_obj[0,0]\n",
    "    x = input_obj[0,1]\n",
    "    y = input_obj[1,0]\n",
    "    z = input_obj[1,1]\n",
    "    return (w*x + x*y*z + 3*w + z*y**2)\n",
    "\n",
    "input = np.array([[1.0,2.0],[3.0,4.0]])\n",
    "result = numerical_derivative(my_func3,input)\n",
    "print(\"result = \", result)"
   ]
  }
 ],
 "metadata": {
  "kernelspec": {
   "display_name": "Python 3",
   "language": "python",
   "name": "python3"
  },
  "language_info": {
   "codemirror_mode": {
    "name": "ipython",
    "version": 3
   },
   "file_extension": ".py",
   "mimetype": "text/x-python",
   "name": "python",
   "nbconvert_exporter": "python",
   "pygments_lexer": "ipython3",
   "version": "3.7.9"
  }
 },
 "nbformat": 4,
 "nbformat_minor": 5
}
