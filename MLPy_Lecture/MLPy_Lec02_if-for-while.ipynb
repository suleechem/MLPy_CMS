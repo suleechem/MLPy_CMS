{
 "cells": [
  {
   "cell_type": "markdown",
   "id": "f0db9256",
   "metadata": {},
   "source": [
    "# if, for, while 구문\n",
    "## 1. \"if\" 구문\n",
    "> ### if 조건:\n",
    "> ### if 조건 in list, dict ... :"
   ]
  },
  {
   "cell_type": "code",
   "execution_count": 1,
   "id": "4a94c921",
   "metadata": {},
   "outputs": [
    {
     "name": "stdout",
     "output_type": "stream",
     "text": [
      "a == 1\n",
      "positive number\n"
     ]
    }
   ],
   "source": [
    "a=1\n",
    "\n",
    "if a>0:\n",
    "    print(\"a ==\", a)\n",
    "    print(\"positive number\")\n",
    "elif a == 0:\n",
    "    print(\"a ==\", a)\n",
    "    print(\"Zero\")\n",
    "else:\n",
    "    print(\"a ==\", a)\n",
    "    print(\"negative number\")\n",
    "    "
   ]
  },
  {
   "cell_type": "code",
   "execution_count": 2,
   "id": "3b2c3685",
   "metadata": {},
   "outputs": [
    {
     "name": "stdout",
     "output_type": "stream",
     "text": [
      "45 is not in list_data\n",
      "key1 is in dict_data\n"
     ]
    }
   ],
   "source": [
    "list_data = [10,20,30,40,50]\n",
    "dict_data = {'key1':1, 'key2':2}\n",
    "\n",
    "a = 45\n",
    "b= 'key1'\n",
    "\n",
    "if a in list_data:\n",
    "    print(a,\"is in list_data\")\n",
    "else:\n",
    "    print(a,\"is not in list_data\")\n",
    "\n",
    "if b in dict_data:\n",
    "    print(b,\"is in dict_data\")\n",
    "else:\n",
    "    print(b,\"is not in dict_data\")"
   ]
  },
  {
   "cell_type": "markdown",
   "id": "74fb379c",
   "metadata": {},
   "source": [
    "## 2. \"for\" loop 구문\n",
    "> ### for 변수 in range( ):\n",
    "> ### for 변수 in list, dict ... :\n",
    "> ### List comprehension\n",
    "    >> list내에 for 구문의 반복적 표현식을 정의하여 list 요소를 생성. "
   ]
  },
  {
   "cell_type": "code",
   "execution_count": 3,
   "id": "2227b79e",
   "metadata": {
    "scrolled": true
   },
   "outputs": [
    {
     "name": "stdout",
     "output_type": "stream",
     "text": [
      "0  1  2  3  4  5  6  7  8  9  "
     ]
    }
   ],
   "source": [
    "for data in range(0,10,1):\n",
    "    print(data,\" \", end=\"\")"
   ]
  },
  {
   "cell_type": "code",
   "execution_count": 4,
   "id": "997303e4",
   "metadata": {},
   "outputs": [
    {
     "name": "stdout",
     "output_type": "stream",
     "text": [
      "10  20  30  40  50  \n",
      "key1  key2  \n",
      "key1   1\n",
      "key2   2\n"
     ]
    }
   ],
   "source": [
    "list_data=[10,20,30,40,50]\n",
    "\n",
    "for data in list_data:\n",
    "    print(data,\" \", end=\"\")\n",
    "print(\"\")  \n",
    "\n",
    "dict_data = {'key1':1, 'key2':2}\n",
    "\n",
    "for data in dict_data:\n",
    "    print(data,\" \", end=\"\")\n",
    "print(\"\") \n",
    "\n",
    "for key, value in dict_data.items():\n",
    "    print(key,\" \", value)\n"
   ]
  },
  {
   "cell_type": "code",
   "execution_count": 5,
   "id": "3a6505a1",
   "metadata": {},
   "outputs": [
    {
     "name": "stdout",
     "output_type": "stream",
     "text": [
      "[0, 1, 4, 9, 16]\n",
      "all_data == [[1, 10], [2, 15], [3, 30], [4, 55]]\n",
      "x_data == [1, 2, 3, 4]\n",
      "y_data == [10, 15, 30, 55]\n"
     ]
    }
   ],
   "source": [
    "list_data=[x**2 for x in range(5)]\n",
    "print(list_data)\n",
    "\n",
    "raw_data=[[1,10], [2,15],[3,30], [4,55]]\n",
    "\n",
    "all_data = [x for x in raw_data]\n",
    "x_data   = [x[0] for x in raw_data]\n",
    "y_data   = [x[1] for x in raw_data]\n",
    "\n",
    "print(\"all_data ==\", all_data)\n",
    "print(\"x_data ==\", x_data)\n",
    "print(\"y_data ==\", y_data)\n"
   ]
  },
  {
   "cell_type": "code",
   "execution_count": 6,
   "id": "66b680da",
   "metadata": {},
   "outputs": [
    {
     "name": "stdout",
     "output_type": "stream",
     "text": [
      "[0, 2, 4, 6, 8]\n"
     ]
    }
   ],
   "source": [
    "even_number=[]\n",
    "\n",
    "for data in range(10):\n",
    "    if data % 2 == 0:\n",
    "        even_number.append(data)\n",
    "print(even_number)"
   ]
  },
  {
   "cell_type": "code",
   "execution_count": 7,
   "id": "18663af0",
   "metadata": {},
   "outputs": [
    {
     "name": "stdout",
     "output_type": "stream",
     "text": [
      "[0, 2, 4, 6, 8]\n"
     ]
    }
   ],
   "source": [
    "even_number=[x for x in range(0,10,2)]\n",
    "print(even_number)"
   ]
  },
  {
   "cell_type": "markdown",
   "id": "31ea0d3c",
   "metadata": {},
   "source": [
    "## 3. while, break, continue 구문\n",
    "> ### while 조건:\n",
    "> ### break, continue"
   ]
  },
  {
   "cell_type": "code",
   "execution_count": 8,
   "id": "5448eef7",
   "metadata": {},
   "outputs": [
    {
     "name": "stdout",
     "output_type": "stream",
     "text": [
      "data == 5\n",
      "continue at data == 4\n",
      "data == 4\n",
      "continue at data == 3\n",
      "data == 3\n",
      "break at data == 2\n"
     ]
    }
   ],
   "source": [
    "data = 5\n",
    "\n",
    "while data >= 0:\n",
    "    print(\"data ==\",data)\n",
    "    data -= 1\n",
    "    if data == 2:\n",
    "        print(\"break at data ==\", data)\n",
    "        break\n",
    "    else:\n",
    "        print(\"continue at data ==\", data)\n",
    "        continue "
   ]
  }
 ],
 "metadata": {
  "kernelspec": {
   "display_name": "Python 3",
   "language": "python",
   "name": "python3"
  },
  "language_info": {
   "codemirror_mode": {
    "name": "ipython",
    "version": 3
   },
   "file_extension": ".py",
   "mimetype": "text/x-python",
   "name": "python",
   "nbconvert_exporter": "python",
   "pygments_lexer": "ipython3",
   "version": "3.7.9"
  }
 },
 "nbformat": 4,
 "nbformat_minor": 5
}
