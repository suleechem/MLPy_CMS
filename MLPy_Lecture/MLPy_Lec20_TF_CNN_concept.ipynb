{
 "cells": [
  {
   "cell_type": "markdown",
   "id": "2f2aec10-0cbd-4628-9d09-89889b3c4ab6",
   "metadata": {},
   "source": [
    "# 합성곱 신경망 (Convolution Neural Network (CNN))\n",
    "- <b>CNN은 ‘Convolution Neural Network’</b>의 약자이다. 합성곱 신경망이라는 뜻이며 <b>이미지 분류</b>에 흔히 쓰인다. \n",
    "> (ex. 고양이, 강아지, 토끼 등의 사진을 입력했을 때 이를 구분할 수 있도록) 전체적인 Flow는 다음 사진과 같다. \n",
    "- 크게는 <b>Input $\\rightarrow$ Feature Learing $\\rightarrow$ Classification</b> 이렇게 세 단계로 구분된다.<p>\n",
    "<img src = \"http://cmseng.skku.edu/CMSLecture/ML/img/20-0.png\" style=\"max-width: 60%; height: auto;\">"
   ]
  },
  {
   "cell_type": "markdown",
   "id": "91bdf54d-a077-49f1-8fe3-8eac5502a1e9",
   "metadata": {
    "tags": []
   },
   "source": [
    "# 합성곱 (Convolution)\n",
    "- [[합성곱 wiki]](https://ko.wikipedia.org/wiki/%ED%95%A9%EC%84%B1%EA%B3%B1)\n",
    "- <b>합성곱(合成-), 또는 콘벌루션(convolution)</b>은 하나의 함수와 또 다른 함수를 반전 이동한 값을 곱한 다음, 구간에 대해 적분하여 새로운 함수를 구하는 수학 연산자이다.\n",
    "- 두 개의 함수 $f$와 $g$가 있을 때, 두 함수의 합성곱을 수학 기호로는 $f*g$와 같이 표시한다.\n",
    "- 합성곱 연산은 두 함수 $f, g$ 가운데 하나의 함수를 <b>반전(reverse), 전이(shift)</b>시킨 다음, 다른 하나의 함수와 곱한 결과를 적분하는 것을 의미한다. \n",
    "- 이를 수학 기호로 표시하면 다음과 같다.\n",
    ">  $f(t)*g(t)=(f*g)(t)=\\int _{{-\\infty }}^{\\infty }f(\\tau )g(t-\\tau )\\,d\\tau$ \n",
    "- 또한 $g$ 함수 대신에 $f$ 함수를 반전, 전이 시키는 경우 다음과 같이 표시할 수도 있다. 이 두 연산은 형태는 다르지만 같은 결과값을 갖는다.\n",
    ">  $f(t)*g(t)=(f*g)(t)=\\int _{{-\\infty }}^{\\infty }f(t-\\tau )g(\\tau )\\,d\\tau$ \n",
    "- 위의 적분에서 적분 구간은 함수 $f$와 $g$가 정의된 범위에 따라서 달라진다.\n",
    "\n",
    "- 또한 두 확률 변수 $X$와 $Y$가 있을 때 각각의 확률 밀도 함수를 $f$와 $g$라고 하면, $X$와 $Y$가 서로 독립이라는 가정 하에, $X+Y$의 확률 밀도 함수는 \n",
    "> $f*g$로 표시할 수 있다."
   ]
  },
  {
   "cell_type": "markdown",
   "id": "1abe5c79-5c39-4db0-a47f-62b4e2fcb997",
   "metadata": {},
   "source": [
    "# 합성곱 쉽게 이해하기\n",
    "- 어떤 위치에서 공을 떨어뜨리는 경우를 생각해 보자. \n",
    "- 공을 떨어뜨렸을 때 공이 굴러가 $a$ 지점에 위치하고, 다시 $a$위치에서 공을 떨어뜨려 최종적으로 $c$ 지점에 위치 할 경우를 생각해 보자.\n",
    "- <b>그러면 c에 도달할 확률이 어떻게 될까? 단계별로 하나씩 생각해 보면,</b>\n",
    "> 1) 공이 떨어져 굴러가 위치할 확률 분포를 $f$라고 한다면, $a$지점에 위치할 확률은 $f(a)$이다.\n",
    "> 2) 처음 위치한 $a$지점에서 공을 주워서 다시 떨어뜨릴때, 공이 떨어져 구럴가 위치할 확률 분포를 $g$라고 한다면, $b$지점에 위치할 확률은 $g(b)$가 된다.\n",
    "- 그림으로 표시하면 다음과 같다.\n",
    "> <img src = \"http://cmseng.skku.edu/CMSLecture/ML/img/20-1.png\" style=\"max-width: 50%; height: auto;\">"
   ]
  },
  {
   "cell_type": "markdown",
   "id": "90a0c9e6-434e-4397-8a13-31dba53bf8c2",
   "metadata": {},
   "source": [
    "- $f(a)$의 경우 공을 떨어뜨려 바로 아래에 위치할 확률이 가장 높고, 그 위치에서 멀리 굴러가 위치할 확률은 점점 낮아 진다. $g(b)$의 경우도 마찬가지. \n",
    "- 만일 공이 떨어져 굴러갈 수 있는 전체 범위가 $c$로 고정되어 있다면, $a + b = c$ 이므로 $a$가 정해지면 $b = c - a$ 로 $b$의 위치도 정해진다. \n",
    "- 따라서, 처음에는 $a$지점에 다음번에는 $b$지점에 위치할 확률이 정해지면 최종거리 $c$에 도달할 확률은 간단히 $f(a)*f(b)$로 정해진다.\n",
    "- 그런데, 만일 $c$가 $3$이라고 했을 때 $a$와 $b$가 모두 $0$보다 같거나 큰 정수라고 한다면, 가능한 조합은 $(0, 3), (1, 2), (2, 1), (3, 0)$ 4개가 있을 수가 있고, 각 경우의 확률을 모두 더해야 최종 지점 $3$에 도달할 확률을 구할 수 있다.\n",
    "- 이 중 $(1, 2), (0, 3)$의 확률의 경우를 그림으로 표시하면 다음과 같다.\n",
    "> <img src = \"http://cmseng.skku.edu/CMSLecture/ML/img/20-2.png\" style=\"max-width: 70%; height: auto;\">"
   ]
  },
  {
   "cell_type": "markdown",
   "id": "6483fcc9-bc48-4b7b-85cd-4f5cbb8c4442",
   "metadata": {},
   "source": [
    "- 따라서 이 모든 확률을 고려하여 $c$ 지점에 도달할 확률은, \n",
    "> $f(0)\\cdot f(3)+f(1)\\cdot f(2)+f(2)\\cdot f(1)+f(3)\\cdot f(0)$, 이것이 바로 <b>합성곱(convolution)</b> 이다.\n",
    "- 수식으로 표시하면 다음과 같다.\n",
    "> $(f∗g)(c)=\\sum_{a+b=c} f(a)\\cdot g(b)$   \n",
    "- 여기서, $b = c - a$ 이므로, 위 식은   \n",
    "> $(f∗g)(c)=\\sum_{a}f(a)\\cdot g(c−a)$ 가 된다."
   ]
  },
  {
   "cell_type": "markdown",
   "id": "1dbf7ad7-257c-4078-82d2-8b81928f951f",
   "metadata": {},
   "source": [
    "# 합성곱(Convolution)을 신경망으로 표현하기\n",
    "\n",
    "- 합성곱(Convolution)을 신경망(Neural network)로 표현   \n",
    "> <img src = \"http://cmseng.skku.edu/CMSLecture/ML/img/20-3.png\" style=\"max-width: 70%; height: auto;\">"
   ]
  },
  {
   "cell_type": "markdown",
   "id": "ddb9a282-5eb7-4a09-abaf-404c3b7909d8",
   "metadata": {},
   "source": [
    "- 처음에 공을 떨어뜨려 $a$위치에 도달할 확률을 $f(a)$라고 한다면 <b>위치 $a$는 다양</b>하게 있을 수가 있기에 $f(a)$ 역시 다양하게 있을 수가 있다.\n",
    "- 이들 위치 중 <b>특정한 위치 $a$</b>에서 다시 공을 떨어뜨려 $b$위치에 도달할 확률 $g(b)$도 <b>다양</b>하게 있을 수가 있기에 특정한 위치 $a$에서 $c$ 위치에 도달할 확률 $f(a)\\cdot f(c−a)$ 또한 다양하게 있을 수 있다. \n",
    "- 이를 신경망으로 표시하면 다음과 같다.\n",
    "> <img src = \"http://cmseng.skku.edu/CMSLecture/ML/img/20-4.png\" style=\"max-width: 70%; height: auto;\">"
   ]
  },
  {
   "cell_type": "markdown",
   "id": "b391ffdd-391c-4e6d-a3e1-95b13fc48fd7",
   "metadata": {},
   "source": [
    "- 이제 특정 $a$가 아닌 <b>모든 $a$</b>에 대해서 일반화시켜서 합성곱을 신경망으로 표현하면 다음과 같다.   \n",
    "> <img src = \"http://cmseng.skku.edu/CMSLecture/ML/img/20-5.png\" style=\"max-width: 70%; height: auto;\">"
   ]
  },
  {
   "cell_type": "markdown",
   "id": "0438810a-1266-4cb2-9ab8-1ae1b8d41d12",
   "metadata": {},
   "source": [
    "# 일반적인 기술\n",
    "\n",
    "- 지금까지 설명했던 합성곱을 시간의 함수로 기술하면... \n",
    "- 거리는 속도와 시간으로 표현할 수 있다.$(s=vt)$ \n",
    "- 만일 속도$(v)$가 일정하면 거리$(s)$는 시간$(t)$의 함수로만 나타낼 수 있다. \n",
    "- 앞에서 전체 거리 $c$를 고정시키면 $c$를 만족시키는 $a$와 $b=(c-a)$는 다양하게 있을 수 있다. \n",
    "- <b>$c$를 $t$, $a$를 $\\tau$로 표시하면($t$는 고정값, $\\tau$는 합성곱에서 변하는 값)</b>\n",
    "- 합성곱은\n",
    "> $(f∗b)(t)=\\sum_{\\tau}f(\\tau)\\cdot g(t−\\tau)$\n",
    "> 로 나타낼 수 있다.\n",
    "- 이를 이산형 데이터(discrete data)뿐만 아니라 연속 데이터(continuous data)로 확장해서 정리하면 위의 식은,\n",
    "> $(f∗b)(t)= \\int_0^t f(\\tau)g(t−\\tau)d\\tau$\n",
    "- 즉, $t$는 큰 구간, $\\tau$는 큰 구간내에서 변하는 작은 구간으로 생각할 수 있다."
   ]
  },
  {
   "cell_type": "markdown",
   "id": "e06ec128-10fd-4e1a-8ac1-ebf190822e81",
   "metadata": {},
   "source": [
    "# 합성곱 계산\n",
    "\n",
    "- <b>합성곱(Convolution)</b>의 정의\n",
    "> $(f∗g)(t)=f(t)∗g(t)=\\int_{-\\infty}^{\\infty} f(\\tau)\\cdot g(t−\\tau)d\\tau$\n",
    "- 만일, <b>합성곱이 $0 \\sim t$ 사이에서만 값을 가진다면</b>,(이외의 구간은 모두 $0$)\n",
    "> $(f∗g)(t)=f(t)∗g(t)=\\int_{0}^{t} f(\\tau)\\cdot g(t−\\tau)d\\tau$ \n",
    "- 로도 나타낼 수 있다.\n",
    "- 합성곱의 계산은 복잡하기에 예를 들어서 설명하기로 한다. 다음의 함수가 있다.\n",
    "> $f(t) = \n",
    "\\left\\{\n",
    "    \\begin{array}{ll}\n",
    "        1 & \\mbox 0 \\le t \\le 3\\\\\n",
    "        0 & \\mbox t < 0 \\ or \\ t > 3\n",
    "    \\end{array}\n",
    "\\right.$   <p>\n",
    "> $g(t) = \n",
    "\\left\\{\n",
    "    \\begin{array}{ll}\n",
    "        e^{-at} & \\mbox t \\ge 0\\\\\n",
    "        0 & \\mbox t < 0 \n",
    "    \\end{array}\n",
    "\\right.$"
   ]
  },
  {
   "cell_type": "markdown",
   "id": "5f20aab2-03e6-40ec-9a5a-0d37b087fd3f",
   "metadata": {},
   "source": [
    "<img src = \"http://cmseng.skku.edu/CMSLecture/ML/img/20-6.png\" style=\"max-width: 70%; height: auto;\">"
   ]
  },
  {
   "cell_type": "markdown",
   "id": "afbf1db8-1155-49f7-88dd-d4092b168a84",
   "metadata": {},
   "source": [
    "- 두 함수의 합성곱은,\n",
    "> $(f∗g)(t)=\\int_{-\\infty}^{\\infty} f(\\tau)\\cdot g(t−\\tau)d\\tau$\n",
    "- 그림으로 표시하면,\n",
    "> <img src = \"http://cmseng.skku.edu/CMSLecture/ML/img/20-7.png\" style=\"max-width: 70%; height: auto;\">"
   ]
  },
  {
   "cell_type": "markdown",
   "id": "506a4d2a-3cfa-4c93-8bdb-52ec56d6e7bd",
   "metadata": {},
   "source": [
    "- 합성곱은,\n",
    "> $(f*g)(t) = \n",
    "\\left\\{\n",
    "    \\begin{array}{ll}\n",
    "        0 & \\mbox t < 0 \\\\\n",
    "        \\dfrac{1}{a}[1-e^{-at}] & \\mbox 0 \\le t < b \\\\\n",
    "        \\dfrac{1-e^{-ab}}{a}e^{-a(t-b)} & \\mbox t \\ge b \n",
    "    \\end{array}\n",
    "\\right.$ "
   ]
  },
  {
   "cell_type": "markdown",
   "id": "0a862070-510d-440b-a6f4-14b3693adbfd",
   "metadata": {},
   "source": [
    "<img src = \"http://cmseng.skku.edu/CMSLecture/ML/img/20-8.png\" style=\"max-width: 70%; height: auto;\">"
   ]
  },
  {
   "cell_type": "markdown",
   "id": "ad1e3a35-f056-46fe-a578-8ff5f44a673f",
   "metadata": {},
   "source": [
    "# 다양한 합성곱의 계산 예\n",
    "\n",
    "<img src = \"http://cmseng.skku.edu/CMSLecture/ML/img/CNN1.gif\" style=\"max-width: 70%; height: auto;\">\n",
    "\n",
    "<img src = \"http://cmseng.skku.edu/CMSLecture/ML/img/CNN2.gif\" style=\"max-width: 70%; height: auto;\">"
   ]
  },
  {
   "cell_type": "markdown",
   "id": "60944de6-60cf-4152-a11f-a5266ae6ae73",
   "metadata": {},
   "source": [
    "## CNN에서 사용되는 합성곱\n",
    "- <b>‘필터(filter)’</b>라는 개념에 대해 먼저 이해해야한다 (<b>‘커널(kernel)’</b>이라고도 불린다). \n",
    "- 이미지를 행렬로 표현할 경우, 자주 쓰이는 필터는 다음과 같은 2개의 3x3 행렬이다. \n",
    "- 좌측 [Sobel](https://en.wikipedia.org/wiki/Sobel_operator)-X 필터는 수직으로 필터링되고, 우측 Sobel-Y 필터는 수평으로 필터링된다.<p>\n",
    "<img src = \"http://cmseng.skku.edu/CMSLecture/ML/img/20-9.png\" style=\"max-width: 50%; height: auto;\"> <p>"
   ]
  },
  {
   "cell_type": "markdown",
   "id": "0ea22c6f-1695-4c24-b2f1-8d6f0c16aa2c",
   "metadata": {},
   "source": [
    "- 다음과 같은 여자 사진이 있다. 이 사진에 위에서 언급한 2개의 필터를 씌운다고 생각해보자.<p>\n",
    "<img src = \"http://cmseng.skku.edu/CMSLecture/ML/img/20-10.png\" style=\"max-width: 40%; height: auto;\"> <p>"
   ]
  },
  {
   "cell_type": "markdown",
   "id": "238a65d8-69a6-4e9f-a0f2-f08f53abf370",
   "metadata": {},
   "source": [
    "- 다음 사진이 2개의 필터를 씌운 사진이다. (좌측이 Sobel-X, 우측이 Sobel-Y)<p>\n",
    "<img src = \"http://cmseng.skku.edu/CMSLecture/ML/img/20-11.png\" style=\"max-width: 40%; height: auto;\"> <p>"
   ]
  },
  {
   "cell_type": "markdown",
   "id": "2c9f5ade-c97f-4f85-aa9b-c414f9ef4892",
   "metadata": {},
   "source": [
    "- 2개의 필터를 사용한 사진을 합치면 다음과 같이 원본 사진의 <b>feature</b>를 확인할 수 있다.<p>\n",
    "<img src = \"http://cmseng.skku.edu/CMSLecture/ML/img/20-12.png\" style=\"max-width: 40%; height: auto;\"> <p>"
   ]
  },
  {
   "cell_type": "markdown",
   "id": "9debb77e-4eea-460a-afda-6452a53c9531",
   "metadata": {},
   "source": [
    "- filter란 이미지에서 특정 feature를 추출하기 위한 거름막이라고 생각하면 된다. \n",
    "> (참고: CNN은 이미지 분류에 특화되어있다. 이때 이미지의 Color에는 R,G,B에 대한 3개의 채널로 구성되는데 보통 연산량을 줄이기위해 색상 정보를 없애고 흑백으로 만들어 처리한다.)"
   ]
  },
  {
   "cell_type": "markdown",
   "id": "c3b314eb-d102-4dfc-9efb-9ca0353262ff",
   "metadata": {},
   "source": [
    "# CNN에서 사용되는 합성곱 (filter 이용하기)\n",
    "- CNN에서 다음과 같이 행렬을 통해 filter를 적용/연산한다. \n",
    "- 입력 데이터의 좌측 상단에서부터 우측 방향으로 필터에 해당하는 행렬크기(다음 예시에서는 $3\\times 3$) 만큼 나눈 뒤 합성곱을 계산한다. \n",
    "- 서로 대응하는 원소끼리 곱한 후 총합을 구하면 된다. 이러한 연산을 <b>Fused Multiply-Add(FMA)</b>라고 한다.\n",
    "<pre>\n",
    "(1x2 + 2x0 + 3x1) + (0x0 + 1x1 + 2x2) + (3x1 + 0x0 + 1x2) = 15\n",
    "(2x2 + 3x0 + 0x1) + (1x0 + 2x1 + 3x2) + (0x1 + 1x0 + 2x2) = 16</pre>\n",
    " $\\dots$"
   ]
  },
  {
   "cell_type": "markdown",
   "id": "735f4774-105e-46f5-b032-c16396fad6fa",
   "metadata": {},
   "source": [
    "- 이때 필터가 움직이는 간격을 <b>스트라이드(Stride)</b>라고 부른다. 여기서는 스트라이드가 1인 경우이다.<p>\n",
    "<img src = \"http://cmseng.skku.edu/CMSLecture/ML/img/20-13.png\" style=\"max-width: 70%; height: auto;\"> <p>"
   ]
  },
  {
   "cell_type": "markdown",
   "id": "3b40378a-5f4d-471b-ae0c-07d44caa55e0",
   "metadata": {},
   "source": [
    "- 이를 수식으로 나타내면 다음과 같다. (이미지의 경우 2차원 평면(높이, 너비)으로된 픽셀로 구성되어있어 변수의 개수가 다르다)\n",
    "<img src = \"http://cmseng.skku.edu/CMSLecture/ML/img/20-14.png\" style=\"max-width: 60%; height: auto;\"> <p>"
   ]
  },
  {
   "cell_type": "markdown",
   "id": "11730026-24ee-4d11-b2e2-3b212bc44869",
   "metadata": {},
   "source": [
    "- 위에서 도출해낸 ‘합성곱’ 공식에서는 $g$ 함수의 인자에서 각각 $x$와 $y$를 빼야 정상이다. $g(i-x, j-y)$ 처럼... 왜 ‘+’가 사용되는걸까?\n",
    "- 그 이유는 합성곱과 유사한 ‘교차상관’을 이용하기 때문이다. <b>대부분의 CNN 알고리즘에서는 ‘합성곱’ 그 자체를 이용하지않는다.</b> \n",
    "- <b>왜냐면 filter를 학습시키는 것이 목적이기 때문이다.</b> 만약 filter에 합성곱을 적용한다면 저 filter를 반전(뒤집기)시켜야 한다. 이는 불필요한 작업이다."
   ]
  },
  {
   "cell_type": "markdown",
   "id": "616ec63e-2eed-4ac0-8c75-2a8745158960",
   "metadata": {},
   "source": [
    "# ReLU ‘활성화 함수’"
   ]
  },
  {
   "cell_type": "code",
   "execution_count": 12,
   "id": "6d8c177c-534e-46cc-a51a-0f6046416166",
   "metadata": {},
   "outputs": [
    {
     "data": {
      "image/png": "[encoded data removed]",
      "text/plain": [
       "<Figure size 500x400 with 1 Axes>"
      ]
     },
     "metadata": {},
     "output_type": "display_data"
    }
   ],
   "source": [
    "import tensorflow as tf\n",
    "import matplotlib.pyplot as plt\n",
    "import numpy as np\n",
    "\n",
    "x = np.arange(-10, 10, 0.1)\n",
    "plt.figure(figsize=(5,4))\n",
    "plt.plot(x, tf.keras.activations.relu(x), ls='--')\n",
    "plt.title('ReLU')\n",
    "plt.axvline(0, alpha=0.2)\n",
    "plt.axhline(0, alpha=0.2)\n",
    "plt.show()"
   ]
  },
  {
   "cell_type": "markdown",
   "id": "1b729518-e1b0-4cf8-9948-0bb6deb690d5",
   "metadata": {},
   "source": [
    "- 다음 그림은 ReLU를 통과시킨 노드이다. <b>0 혹은 음수값은 0으로 치환시키고 나머지 양수값은 그대로</b> 가져가는 것을 확인할 수 있다.\n",
    "<img src = \"http://cmseng.skku.edu/CMSLecture/ML/img/20-15.png\" style=\"max-width: 50%; height: auto;\"> <p>"
   ]
  },
  {
   "cell_type": "markdown",
   "id": "9e11026c-20ce-4a3b-8ffa-9f7ccd539caf",
   "metadata": {},
   "source": [
    "# Pooling \n",
    "- 세로, 가로 방향의 공간을 줄이는 연산으로 <b>Sub-sampling</b>이라고도 한다. \n",
    "- 쉽게 말하면 일정 영역을 선택해서 특정 값을 하나 가져오는 것이다. \n",
    "- <b>Max pooling</b> 방식은 해당 영역의 최대값을 가져오는 것이고 <b>Average pooling</b> 방식은 해당 영역의 평균 값을 가져오는 것이다. \n",
    "- 다음 예제는 <b>Max pooling</b> 방식의 예이며 이미지 인식 분야에서는 주로 이를 사용한다.<p>\n",
    "<img src = \"http://cmseng.skku.edu/CMSLecture/ML/img/20-16.png\" style=\"max-width: 60%; height: auto;\"> <p>"
   ]
  },
  {
   "cell_type": "markdown",
   "id": "83fef02a-073c-40d6-860c-6d275699c097",
   "metadata": {
    "tags": []
   },
   "source": [
    "# Padding\n",
    "- 패딩(padding)이란 convolution 연산을 수행하기 전에 <b>입력 데이터 주변을 특정 값(예를 들어 $0$)으로 채우는 것</b>을 말하며, convolution 연산에서 자주 이용되는 방법.\n",
    "- <b>convolution 연산을 수행하면서 데이터 크기(shape)가 줄어드는 단점을 방지하기 위해 사용.\n",
    "<img src = \"http://cmseng.skku.edu/CMSLecture/ML/img/20-17.png\" style=\"max-width: 60%; height: auto;\"> <p>"
   ]
  },
  {
   "cell_type": "markdown",
   "id": "13477a20-c169-40d7-b5ef-2f64d52513ee",
   "metadata": {},
   "source": [
    "- 입력 데이터 크기 $(H,W)$, 필터 크기 $(FH,FW)$, 패딩 $P$, 스트라이드 $S$ 일때, 출력 데이터$(OH,OW)$\n",
    "- $OH = \\dfrac{H+2P-FH}{S}+1$ , $OW = \\dfrac{H+2P-FW}{S}+1$"
   ]
  },
  {
   "cell_type": "markdown",
   "id": "73ce9d94-1ba8-4c05-bac2-b17bfa4d3206",
   "metadata": {},
   "source": [
    "- <code> padding='valid' </code> : padding 사용하지 않음.\n",
    "- <code> padding='same' </code> : 출력데이터의 크기를 입력데이터의 크기와 동일하게 유지. 위 그림과 같이 패딩폭은 1 pixel "
   ]
  },
  {
   "cell_type": "markdown",
   "id": "552f34b7-0a7c-4900-9c37-9d6f47cac5a9",
   "metadata": {},
   "source": [
    "# Feature Learning \n",
    "- <b>Feature Learning 단계의 내용을 정리하면 다음과 같다.</b>\n",
    "1. <b>합성곱 단계에서 노드가 지나치게 축소되는 것을 방지하기 위해 zero padding을 추가한다.</b>\n",
    "2. <b>합성곱 (정확히는 ‘교차상관’) 연산 단계이다. 여기서 Kernel을 통해 feature를 추출한다.</b>\n",
    "3. <b>ReLU 함수를 통해 양수값을 제외하고 0으로 치환한다.</b>\n",
    "4. <b>Max pooling 함수를 통해 각 대상영역(2x2)의 최대값을 뽑아온다.</b>\n",
    "\n",
    "<img src = \"http://cmseng.skku.edu/CMSLecture/ML/img/20-18.png\" style=\"max-width: 70%; height: auto;\"> <p>"
   ]
  },
  {
   "cell_type": "markdown",
   "id": "cc1c6d76-6cd0-4f97-95dd-6a5696ce9c0b",
   "metadata": {},
   "source": [
    "# Flatten\n",
    "- $(a, b)$ 의 행렬로 구성된 데이터를 $a \\times b$ 의 길이를 가지는 column으로 바꾸는 작업을 의미한다. \n",
    "- 이렇게 <b>Flattening</b> 된 행렬을 <b>ReLU</b> 함수를 거친 뒤 <b>Softmax</b> 함수의 input으로 전달한다.\n",
    "- <b>Fully connected layer</b>란 이렇게 1차원 배열의 형태로 평탄화된 행렬을 통해 이미지를 분류하는데 사용되는 계층이다.\n",
    "<img src = \"http://cmseng.skku.edu/CMSLecture/ML/img/20-19.png\" style=\"max-width: 60%; height: auto;\"> <p>"
   ]
  },
  {
   "cell_type": "markdown",
   "id": "ed33c232-a107-49c6-a76b-69e029a54995",
   "metadata": {},
   "source": [
    "# Softmax\n",
    "\n",
    "- 만약 Softmax라는 것이 사용되지 않는다면 상황은 다음 그림과 비슷할 것이다. \n",
    "- 알파카 이미지의 input이 <b>최종적으로 정수값</b>으로 나오는 것을 볼 수 있다. \n",
    "- <b>하지만 우리가 알고싶은 것은 ‘확률’이다. 이 확률을 계산하고자 Softmax 라는 활성화 함수가 사용된다.</b>\n",
    "\n",
    "<img src = \"http://cmseng.skku.edu/CMSLecture/ML/img/20-20.png\" style=\"max-width: 60%; height: auto;\"> <p>"
   ]
  },
  {
   "cell_type": "markdown",
   "id": "25768164-bdf6-4522-95f2-c2928d094e5b",
   "metadata": {},
   "source": [
    "- softmax함수는 ‘로지스틱 함수’에서 비롯되었으며 해당 함수가 가진 특성인 <b>이진분류의 한계점(참/거짓만을 판별)을 개선</b>하여 나온 함. \n",
    "- softmax의 모든 항$(a_0 ~ a_k)$을 더하면 1이 나오는 구조로서 <b>$j$항의 확률</b>을 구할 수 있게 설계되어있다. \n",
    "> $f(x)=\\dfrac{1}{1+e^{-x}}$ : 로지스틱 함수   \n",
    "> $\\sigma(z)=\\dfrac{1}{1+e^{-z}} = \\dfrac{e^{z}}{e^{z}+1}$ : sigmoid 함수  <p> \n",
    "> $\\sigma(z_j)=\\dfrac{e^{z_j}}{\\sum^k_{i=1}e^{z_j}}$ : softmax 함수   \n",
    "- 즉 softmax 함수를 사용함으로써 다음 사진과 같이 전체 output의 값 중 <b>확률적으로 최종값을 예측</b>할 수 있는 것이다. \n",
    "- 다음 예시는 알파카일 확률이 70%인 경우이다.\n",
    "- 만약 소프트맥스가 아닌 로지스틱 함수를 사용하는 경우 $0.3, 0,6, 0,8$ 과 같이 <b>각 클래스의 총합이 1이 되는 것을 보장하지 않는다. 이것이 로지스틱 함수의 한계점이다.</b>\n",
    "\n",
    "<img src = \"http://cmseng.skku.edu/CMSLecture/ML/img/20-21.png\" style=\"max-width: 60%; height: auto;\"> <p>\n"
   ]
  },
  {
   "cell_type": "markdown",
   "id": "1307a001-4ef1-46de-9644-2055637ff20c",
   "metadata": {
    "tags": []
   },
   "source": [
    "# ANN vs. CNN\n",
    "<img src = \"http://cmseng.skku.edu/CMSLecture/ML/img/20-22.png\" style=\"max-width: 60%; height: auto;\"> <p>\n",
    "<img src = \"http://cmseng.skku.edu/CMSLecture/ML/img/20-23.png\" style=\"max-width: 60%; height: auto;\"> <p>"
   ]
  },
  {
   "cell_type": "markdown",
   "id": "dd5ed860-86d0-492a-aea6-d8f360eaf5ad",
   "metadata": {
    "tags": []
   },
   "source": [
    "### Convolution\n",
    "- 입력데이터 ($A_1,A_2,\\dots$)와 <font color=red>가중치들의 집합체인 다양한 필터($Filter$)</font>와의 컨볼루션 연산을 통해 <font color=red>입력데이터의 특징($feature$)을 추출함.</font>\n",
    "> <font color=blue><b> $A1 \\circledast filter_1+b2 \\longrightarrow $ 입력데이터 A1 특징 (feature) 추출</b></font>  \n",
    "> <font color=blue><b> $A2 \\circledast filter_2+b3 \\longrightarrow $ 입력데이터 A2 특징 (feature) 추출</b></font>\n",
    "\n",
    "### Pooling\n",
    "- 입력 정보를 최대값, 최소값, 평균값 등으로 압축하여 데이터 연산량을 줄여주는 역할."
   ]
  }
 ],
 "metadata": {
  "kernelspec": {
   "display_name": "Python 3 (ipykernel)",
   "language": "python",
   "name": "python3"
  },
  "language_info": {
   "codemirror_mode": {
    "name": "ipython",
    "version": 3
   },
   "file_extension": ".py",
   "mimetype": "text/x-python",
   "name": "python",
   "nbconvert_exporter": "python",
   "pygments_lexer": "ipython3",
   "version": "3.11.5"
  }
 },
 "nbformat": 4,
 "nbformat_minor": 5
}
