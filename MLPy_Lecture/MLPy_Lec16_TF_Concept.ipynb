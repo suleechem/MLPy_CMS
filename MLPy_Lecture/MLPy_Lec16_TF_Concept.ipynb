{
 "cells": [
  {
   "cell_type": "markdown",
   "id": "f5f076f3-99a4-4455-bef6-bfcf79574ed2",
   "metadata": {},
   "source": [
    "# Tensorflow를 위한 Conda 가상환경 생성"
   ]
  },
  {
   "cell_type": "markdown",
   "id": "ab9dfd65-da02-4dd5-b28b-ad41e47904f5",
   "metadata": {},
   "source": [
    "<code>(base) sulee@MacBook-Pro ~ % conda create -n py37tf python=3.7 tensorflow=2.0 keras jupyterlab</code>     \n",
    "<code>(base) sulee@MacBook-Pro ~ % conda activat4e py37tf</code>   \n",
    "<code>(py37tf) sulee@MacBook-Pro ~ % pip install datetime scikit-learn seaborn</code>   "
   ]
  },
  {
   "cell_type": "markdown",
   "id": "10e77361-7acb-424b-9446-7cd9fa843b13",
   "metadata": {},
   "source": [
    "### [Tensorflow version](https://www.tensorflow.org/versions?hl=ko)"
   ]
  },
  {
   "cell_type": "markdown",
   "id": "62a6b1bf-3e98-418a-a0ac-642f626ef849",
   "metadata": {},
   "source": [
    "## TensorFlow\n",
    "\n",
    "<img src = \"http://cmseng.skku.edu/CMSLecture/ML/img/16-1.png\" style=\"max-width: 70%; height: auto;\">"
   ]
  },
  {
   "cell_type": "markdown",
   "id": "e323df46-f9de-4475-848e-54edc1f6f017",
   "metadata": {},
   "source": [
    "<img src = \"http://cmseng.skku.edu/CMSLecture/ML/img/16-2.png\" style=\"max-width: 70%; height: auto;\">"
   ]
  },
  {
   "cell_type": "markdown",
   "id": "7c1e152d-24ce-49a3-b29d-67bc69efa24c",
   "metadata": {},
   "source": [
    "## TensorFlow 설치 \n",
    " <img src = \"http://cmseng.skku.edu/CMSLecture/ML/img/16-3.png\" style=\"max-width: 70%; height: auto;\">"
   ]
  },
  {
   "cell_type": "markdown",
   "id": "3d11d344-ad2f-4f55-a811-9b1ecabebb7f",
   "metadata": {},
   "source": [
    "## TensorFlow 작동 \n",
    "- <b><font color=red>Tensorflow</font></b>는 텐서(Tensor)를 흘려보내면서(Flow) 머신러닝과 딥러닝 알고리즘을 수행하는 라이브러리임.\n",
    "- 텐서들은 그래프(Graph) 구조에서 노드(Node)에서 노드로 흘러감(Flow).\n",
    "> - Graph 자료구조는 노드(Node)와 엣지(Edge)로 구성됨.  \n",
    "\n",
    "<img src = \"http://cmseng.skku.edu/CMSLecture/ML/img/16-4.png\" style=\"max-width: 70%; height: auto;\">"
   ]
  },
  {
   "cell_type": "markdown",
   "id": "8560db60-0d5a-4974-8baa-22bbc38cd2a9",
   "metadata": {
    "tags": []
   },
   "source": [
    "## TensorFlow 1.X to 2.0  & Keras\n",
    " <img src = \"http://cmseng.skku.edu/CMSLecture/ML/img/16-5.png\" style=\"max-width: 70%; height: auto;\">"
   ]
  },
  {
   "cell_type": "markdown",
   "id": "9e6518ea-1d6a-443e-b898-4dd354a29b49",
   "metadata": {},
   "source": [
    "## [Tensorflow 튜토리얼](https://www.tensorflow.org/tutorials/keras/save_and_load?hl=ko)"
   ]
  },
  {
   "cell_type": "markdown",
   "id": "3b7f4e4c-a8e9-4562-bd21-ae8459debd4b",
   "metadata": {},
   "source": [
    "## Keras 특징 \n",
    "- <b>User Friendliness:</b> Keras의 직관적인 API (application programming interface)를 이용하면 이반 신경망 (ANN), CNN, RNN 모델 또는 이를 조합한  다양한 딥러닝 <b><font color=red>모델</font></b>을 (몇 줄의 코드만으로) 쉽게 구축할 수 있음.\n",
    "- <b>Modularity:</b> Keras에서 제공하는 모듈은 독립적으로 설정 가능함. 즉, 신경망 층, 손실함수, 활성화 함수, 최적화 알고리즘 등은 모두 독립넉인 모듈이기 때문에 이러한 모듈을 서로 조함하기만 하면 새로운 딥러닝 <b><font color=red>모델</font></b>을 쉽고 빠르게 만들어 학습시킬 수 있음.\n",
    "\n",
    " <img src = \"http://cmseng.skku.edu/CMSLecture/ML/img/16-6.png\" style=\"max-width: 70%; height: auto;\">"
   ]
  },
  {
   "cell_type": "markdown",
   "id": "b0f48951-daac-485f-8522-8a63cf876a30",
   "metadata": {},
   "source": [
    "## Model 생성\n",
    " <img src = \"http://cmseng.skku.edu/CMSLecture/ML/img/16-7.png\" style=\"max-width: 70%; height: auto;\">"
   ]
  },
  {
   "cell_type": "markdown",
   "id": "bc077053-94db-4bcc-828a-7dd5dd47daf5",
   "metadata": {},
   "source": [
    " <img src = \"http://cmseng.skku.edu/CMSLecture/ML/img/16-8.png\" style=\"max-width: 80%; height: auto;\">"
   ]
  },
  {
   "cell_type": "markdown",
   "id": "42b40bc6-17bf-405b-bbf8-b077becbf4a7",
   "metadata": {},
   "source": [
    "## Keras 개발 과정 \n",
    " <img src = \"http://cmseng.skku.edu/CMSLecture/ML/img/16-9.png\" style=\"max-width: 70%; height: auto;\">"
   ]
  },
  {
   "cell_type": "markdown",
   "id": "36cd197a-8464-41d7-a724-258ed51f46d3",
   "metadata": {},
   "source": [
    "## 1. 데이터 생성\n",
    " <img src = \"http://cmseng.skku.edu/CMSLecture/ML/img/16-10.png\" style=\"max-width: 70%; height: auto;\">"
   ]
  },
  {
   "cell_type": "markdown",
   "id": "570cbc36-4608-445d-8081-ab945e998686",
   "metadata": {},
   "source": [
    "## 2. 모델 구축\n",
    "- <b><font color=red>Flatten</font></b>은 입력으로 들어오는 다차원 데이트를 1차원으로 정렬하기 위해 사용되는 layer이며, 입력 데이터의 차원수를 input_data=(1,)와 같이 기술함.\n",
    "- <b><font color=red>Dense</font></b> 는 각 층의 입력과 출력 사이에 있는 모든 노드가 서로 연결되어 있는 완전 연결층 (FC)을 나타내며, <b><font color=red>Dense 첫번째 인자인 2, 1 등은 노드(Node)수</font></b>를 나타냄.\n",
    "    > - 노드의 활성화 함수는 activation=‘. . . ‘ 형태로 나타내며, 대표적인 활성화 함수로는 선형회구 문제에서는 ‘linear’, 일반적인 classification 경우에는 ‘sigmoid’, ‘softmax’, ‘relu’m ‘tanh’ 등이 데이터에 따라 다양하게 사용됨. \n",
    "    > - 또한, 첫번째 계층에 바로 Dense 계층을 사용하는 경우라면, 코드 ① 같은 Flatten(), Dense() 두개의 코드를 ② 에서 처럼 Desne에서 input_shape=(1,)을 이용하여 한줄의 코드로 나타낼 수 있음. \n",
    "\n",
    " <img src = \"http://cmseng.skku.edu/CMSLecture/ML/img/16-11.png\" style=\"max-width: 70%; height: auto;\">"
   ]
  },
  {
   "cell_type": "markdown",
   "id": "0259c93c-3318-433f-9ff5-b7a518139abb",
   "metadata": {},
   "source": [
    "## 3. 모델 컴파일\n",
    " <img src = \"http://cmseng.skku.edu/CMSLecture/ML/img/16-12.png\" style=\"max-width: 70%; height: auto;\">"
   ]
  },
  {
   "cell_type": "markdown",
   "id": "0e66b8c3-19eb-477e-846a-39470561e2a2",
   "metadata": {},
   "source": [
    "## 4. 모델 학습 / 평가 / 저장 \n",
    " <img src = \"http://cmseng.skku.edu/CMSLecture/ML/img/16-13.png\" style=\"max-width: 70%; height: auto;\">"
   ]
  },
  {
   "cell_type": "markdown",
   "id": "0d93c8fd-19df-4191-866d-640993102193",
   "metadata": {},
   "source": [
    "## Optimizer\n",
    "### [[참고] optimizer 종류 및 정리](https://velog.io/@chang0517/Optimizer-%EC%A2%85%EB%A5%98-%EB%B0%8F-%EC%A0%95%EB%A6%AC)\n",
    " <img src = \"http://cmseng.skku.edu/CMSLecture/ML/img/16-14.png\" style=\"max-width: 70%; height: auto;\">"
   ]
  },
  {
   "cell_type": "markdown",
   "id": "f534879e-9266-4494-8016-87158566851a",
   "metadata": {},
   "source": [
    " <img src = \"http://cmseng.skku.edu/CMSLecture/ML/img/16-15.png\" style=\"max-width: 70%; height: auto;\">"
   ]
  },
  {
   "cell_type": "markdown",
   "id": "fd6aa3f6-916d-46f9-b317-d3e7e79e8c10",
   "metadata": {},
   "source": [
    "## Loss function\n",
    "### [[참고] loss function 종류 및 정리](https://cheris8.github.io/artificial%20intelligence/DL-Keras-Loss-Function/)\n",
    " <img src = \"http://cmseng.skku.edu/CMSLecture/ML/img/16-16.png\" style=\"max-width: 70%; height: auto;\">"
   ]
  },
  {
   "cell_type": "markdown",
   "id": "b425ad6c-b7ca-42bf-97d8-3a79e7edf64d",
   "metadata": {},
   "source": [
    "## Activation function\n",
    "#### [[참고] activation function](https://icedhotchoco.tistory.com/entry/DAY-73) / [[Wiki]](https://en.wikipedia.org/wiki/Activation_function)\n",
    "\n",
    " <img src = \"http://cmseng.skku.edu/CMSLecture/ML/img/16-17.png\" style=\"max-width: 70%; height: auto;\">"
   ]
  },
  {
   "cell_type": "markdown",
   "id": "cfad2ce6-7a2f-46d0-8d54-23ae7cc0b0a7",
   "metadata": {},
   "source": [
    "### Softmax function\n",
    "#### [[참고1] softmax](https://airsbigdata.tistory.com/201) / [[참고2] softmax](https://jjeongil.tistory.com/977)\n",
    " <img src = \"http://cmseng.skku.edu/CMSLecture/ML/img/16-18.png\" style=\"max-width: 70%; height: auto;\">"
   ]
  },
  {
   "cell_type": "markdown",
   "id": "533cc774-7e97-4594-8eda-ee72eea74b3a",
   "metadata": {},
   "source": [
    " <img src = \"http://cmseng.skku.edu/CMSLecture/ML/img/16-19.png\" style=\"max-width: 70%; height: auto;\">"
   ]
  },
  {
   "cell_type": "markdown",
   "id": "925fb755-620f-440b-a7de-afae70fbcd4e",
   "metadata": {},
   "source": [
    " <img src = \"http://cmseng.skku.edu/CMSLecture/ML/img/16-20.png\" style=\"max-width: 60%; height: auto;\">"
   ]
  },
  {
   "cell_type": "markdown",
   "id": "df16497e-bc77-4ef0-b0cc-b37cbdfc83e1",
   "metadata": {},
   "source": [
    "# 실습"
   ]
  },
  {
   "cell_type": "code",
   "execution_count": 1,
   "id": "bf70eb7f-6675-41f5-b435-e2017c574f2c",
   "metadata": {
    "tags": []
   },
   "outputs": [
    {
     "data": {
      "text/plain": [
       "'2.0.0'"
      ]
     },
     "execution_count": 1,
     "metadata": {},
     "output_type": "execute_result"
    }
   ],
   "source": [
    "import tensorflow as tf\n",
    "import numpy as np\n",
    "\n",
    "tf.__version__"
   ]
  },
  {
   "cell_type": "code",
   "execution_count": 3,
   "id": "9e8e6184-57bc-4d19-84b3-82114e52af23",
   "metadata": {
    "tags": []
   },
   "outputs": [
    {
     "name": "stdout",
     "output_type": "stream",
     "text": [
      " c =  tf.Tensor(30, shape=(), dtype=int32) \n",
      " Type =  <class 'tensorflow.python.framework.ops.EagerTensor'>\n",
      " d =  30 \n",
      " Type =  <class 'numpy.int32'>\n",
      "30\n"
     ]
    }
   ],
   "source": [
    "a = tf.constant(10)\n",
    "b = tf.constant(20)\n",
    "\n",
    "c = a + b\n",
    "d = (a+b).numpy()\n",
    "\n",
    "print(\" c = \", c,\"\\n\",\"Type = \", type(c))\n",
    "print(\" d = \",d,\"\\n\", \"Type = \", type(d))\n",
    "\n",
    "print(c.numpy())"
   ]
  },
  {
   "cell_type": "code",
   "execution_count": 4,
   "id": "503118f2-5b1e-4a3f-9e2b-b825fab7fdbb",
   "metadata": {
    "tags": []
   },
   "outputs": [
    {
     "name": "stdout",
     "output_type": "stream",
     "text": [
      "<class 'tensorflow.python.framework.ops.EagerTensor'>\n",
      "tf.Tensor(30, shape=(), dtype=int32)\n"
     ]
    }
   ],
   "source": [
    "d_numpy_to_tensor = tf.convert_to_tensor(d)\n",
    "print(type(d_numpy_to_tensor))\n",
    "print(d_numpy_to_tensor)"
   ]
  },
  {
   "cell_type": "code",
   "execution_count": 5,
   "id": "4bcdc93a-5d4a-48fe-b600-9e1eb998f3d6",
   "metadata": {
    "tags": []
   },
   "outputs": [
    {
     "name": "stdout",
     "output_type": "stream",
     "text": [
      "initial W =  [-1.1162928]\n",
      "step =  0  W =  [-0.11629283]\n",
      "step =  1  W =  [0.88370717]\n",
      "step =  2  W =  [1.8837072]\n"
     ]
    }
   ],
   "source": [
    "W=tf.Variable(tf.random.normal([1]))   # 가우시안 분포 \n",
    "print('initial W = ', W.numpy())\n",
    "\n",
    "for step in range(3):\n",
    "    W = W + 1.0\n",
    "    print('step = ', step, ' W = ', W.numpy())"
   ]
  },
  {
   "cell_type": "code",
   "execution_count": 6,
   "id": "92e2e1bc-8d94-4a86-adca-a5b093fadfc5",
   "metadata": {
    "tags": []
   },
   "outputs": [
    {
     "name": "stdout",
     "output_type": "stream",
     "text": [
      "<class 'tensorflow.python.framework.ops.EagerTensor'>\n",
      "4.0\n"
     ]
    }
   ],
   "source": [
    "a = tf.constant(1.0)\n",
    "b = tf.constant(3.0)\n",
    "\n",
    "# 함수 정의\n",
    "def tensor_sum(x,y):\n",
    "    return (x + y)\n",
    "\n",
    "result = tensor_sum(a, b)\n",
    "\n",
    "print(type(result))\n",
    "print(result.numpy())"
   ]
  },
  {
   "cell_type": "markdown",
   "id": "c5ec14c5-ad68-4974-92bd-45d769468cb2",
   "metadata": {},
   "source": [
    "## TensorFlow Example\n",
    "<img src = \"http://cmseng.skku.edu/CMSLecture/ML/img/16-21.png\" style=\"max-width: 70%; height: auto;\">"
   ]
  },
  {
   "cell_type": "code",
   "execution_count": 7,
   "id": "b36cc393-98fd-4ab7-b0db-12ec0acf1d2d",
   "metadata": {
    "tags": []
   },
   "outputs": [
    {
     "name": "stdout",
     "output_type": "stream",
     "text": [
      "2.0.0\n"
     ]
    }
   ],
   "source": [
    "import tensorflow as tf\n",
    "\n",
    "from tensorflow.keras.models import Sequential\n",
    "from tensorflow.keras.layers import Flatten, Dense\n",
    "from tensorflow.keras.optimizers import SGD, Adam\n",
    "\n",
    "import numpy as np\n",
    "\n",
    "print(tf.__version__)"
   ]
  },
  {
   "cell_type": "code",
   "execution_count": 8,
   "id": "cb6c59aa-ab32-44d5-9077-a3b61ec2d2f1",
   "metadata": {
    "tags": []
   },
   "outputs": [],
   "source": [
    "# [1] 데이터셋 생성\n",
    "\n",
    "x_data = np.array([1, 2, 3, 4, 5, 6])\n",
    "t_data = np.array([3, 4, 5, 6, 7, 8])  "
   ]
  },
  {
   "cell_type": "code",
   "execution_count": 9,
   "id": "a86db49d-45b7-4c2a-82d9-7f0cf6b6832c",
   "metadata": {
    "tags": []
   },
   "outputs": [],
   "source": [
    "# [2] 모델 (model) 구축\n",
    "\n",
    "model = Sequential()                       # 모델\n",
    "\n",
    "model.add(Flatten(input_shape=(1,)))       # 입력층\n",
    "\n",
    "model.add(Dense(1))   # 출력층\n",
    "\n",
    "# model.add(Dense(1, input_shape=(1,), activation='linear'))  # 입력층 + 출력층"
   ]
  },
  {
   "cell_type": "markdown",
   "id": "3d2ae603-7c3e-4368-a704-0bea2f7a94ab",
   "metadata": {},
   "source": [
    "## Adam : learning_rate = 0.001 (Defaults to 0.001)"
   ]
  },
  {
   "cell_type": "code",
   "execution_count": 10,
   "id": "424888b1-5245-4c36-849b-d38ce453e79b",
   "metadata": {
    "tags": []
   },
   "outputs": [
    {
     "name": "stdout",
     "output_type": "stream",
     "text": [
      "Model: \"sequential\"\n",
      "_________________________________________________________________\n",
      "Layer (type)                 Output Shape              Param #   \n",
      "=================================================================\n",
      "flatten (Flatten)            (None, 1)                 0         \n",
      "_________________________________________________________________\n",
      "dense (Dense)                (None, 1)                 2         \n",
      "=================================================================\n",
      "Total params: 2\n",
      "Trainable params: 2\n",
      "Non-trainable params: 0\n",
      "_________________________________________________________________\n"
     ]
    }
   ],
   "source": [
    "# [3] 모델 (model) 컴파일 및 summary\n",
    "\n",
    "model.compile(optimizer=Adam(learning_rate=1e-2), loss='mse', metrics=['accuracy'])\n",
    "\n",
    "model.summary()"
   ]
  },
  {
   "cell_type": "markdown",
   "id": "5597318e-58f0-4609-9ee0-d08f218da996",
   "metadata": {},
   "source": [
    "## model.fit(verbose...) \n",
    "### - verbose = 0 : 출력 없음 \n",
    "### - verbose = 1 : 자세히 출력 $\\rightarrow$ 2 $\\rightarrow$ 3 간단히 출력"
   ]
  },
  {
   "cell_type": "code",
   "execution_count": 11,
   "id": "337b46d3-a44e-457c-bf20-9e27c3d8076e",
   "metadata": {
    "tags": []
   },
   "outputs": [],
   "source": [
    "# [4] 모델 학습\n",
    "\n",
    "hist = model.fit(x_data, t_data, verbose=0, epochs=1000)"
   ]
  },
  {
   "cell_type": "code",
   "execution_count": 15,
   "id": "ff0da940-52d9-4307-9811-ece225f637f3",
   "metadata": {
    "tags": []
   },
   "outputs": [
    {
     "name": "stdout",
     "output_type": "stream",
     "text": [
      "[[-1.5082817]\n",
      " [ 4.9346004]\n",
      " [ 5.4627056]\n",
      " [17.609121 ]\n",
      " [22.995794 ]]\n"
     ]
    }
   ],
   "source": [
    "# [5] 모델 (model) 사용\n",
    "\n",
    "result = model.predict(np.array([-3.1, 3.0, 3.5, 15.0, 20.1]))\n",
    "\n",
    "print(result)                \n",
    "     "
   ]
  },
  {
   "cell_type": "code",
   "execution_count": 16,
   "id": "ee6fe7b9-ea9d-45a6-b153-8c4cb44c496b",
   "metadata": {
    "tags": []
   },
   "outputs": [],
   "source": [
    "model.save('./model.h5')"
   ]
  },
  {
   "cell_type": "code",
   "execution_count": 17,
   "id": "57c136c9-648c-485a-adcc-7c7aeba1d6d1",
   "metadata": {
    "tags": []
   },
   "outputs": [
    {
     "name": "stdout",
     "output_type": "stream",
     "text": [
      "<class 'tensorflow.python.keras.callbacks.History'>\n",
      "dict_keys(['loss', 'accuracy'])\n"
     ]
    }
   ],
   "source": [
    "# hist 타입 및 key 확인\n",
    "\n",
    "print(type(hist))\n",
    "print(hist.history.keys())"
   ]
  },
  {
   "cell_type": "markdown",
   "id": "cdcc5518-9e0e-4f18-a4fa-922c348241e6",
   "metadata": {},
   "source": [
    "# 손실함수 구현 "
   ]
  },
  {
   "cell_type": "code",
   "execution_count": 14,
   "id": "461b600a-74b0-46d7-9a49-4801560adcd9",
   "metadata": {
    "tags": []
   },
   "outputs": [
    {
     "data": {
      "image/png": "[encoded data removed]",
      "text/plain": [
       "<Figure size 432x288 with 1 Axes>"
      ]
     },
     "metadata": {
      "needs_background": "light"
     },
     "output_type": "display_data"
    }
   ],
   "source": [
    "# 손실함수 출력\n",
    "\n",
    "import matplotlib.pyplot as plt\n",
    "\n",
    "plt.title('Loss Trend')\n",
    "plt.xlabel('epochs')\n",
    "plt.ylabel('loss')\n",
    "plt.grid()\n",
    "\n",
    "plt.plot(hist.history['loss'], label='train loss')\n",
    "plt.legend(loc='best')\n",
    "\n",
    "plt.show()"
   ]
  },
  {
   "cell_type": "code",
   "execution_count": 15,
   "id": "11f1b3db-a7e8-4a25-bbe4-b27838620443",
   "metadata": {
    "tags": []
   },
   "outputs": [
    {
     "name": "stdout",
     "output_type": "stream",
     "text": [
      "Tensor(\"flatten_input:0\", shape=(None, 1), dtype=float32)\n",
      "Tensor(\"dense/Identity:0\", shape=(None, 1), dtype=float32)\n",
      "[<tf.Variable 'dense/kernel:0' shape=(1, 1) dtype=float32, numpy=array([[1.0524732]], dtype=float32)>, <tf.Variable 'dense/bias:0' shape=(1,) dtype=float32, numpy=array([1.7814674], dtype=float32)>]\n"
     ]
    }
   ],
   "source": [
    "# 모델 입력, 출력, 가중치 확인\n",
    "\n",
    "print(model.input)\n",
    "print(model.output)\n",
    "print(model.weights)\n",
    "     "
   ]
  },
  {
   "cell_type": "code",
   "execution_count": 16,
   "id": "3781156e-2e83-4d79-b670-8603a1a2cd35",
   "metadata": {
    "tags": []
   },
   "outputs": [
    {
     "data": {
      "image/png": "[encoded data removed]",
      "text/plain": [
       "<Figure size 432x288 with 1 Axes>"
      ]
     },
     "metadata": {
      "needs_background": "light"
     },
     "output_type": "display_data"
    }
   ],
   "source": [
    "x = np.arange(-10, 10, 0.1)\n",
    "plt.plot(x, x, linestyle='--')\n",
    "plt.axhline(0, alpha=0.2)\n",
    "plt.show()"
   ]
  },
  {
   "cell_type": "code",
   "execution_count": 17,
   "id": "6b33afcf-212d-4750-8526-ff31683fd9c4",
   "metadata": {
    "tags": []
   },
   "outputs": [
    {
     "data": {
      "image/png": "[encoded data removed]",
      "text/plain": [
       "<Figure size 432x288 with 1 Axes>"
      ]
     },
     "metadata": {
      "needs_background": "light"
     },
     "output_type": "display_data"
    }
   ],
   "source": [
    "plt.plot(x, tf.keras.activations.linear(x), ls='--')\n",
    "plt.title('linear')\n",
    "plt.axvline(0, alpha=0.2)\n",
    "plt.axhline(0.5, alpha=0.2)\n",
    "plt.show()"
   ]
  },
  {
   "cell_type": "code",
   "execution_count": 18,
   "id": "916ec504-07da-44a3-a562-1b2951ed5a63",
   "metadata": {
    "tags": []
   },
   "outputs": [
    {
     "data": {
      "image/png": "[encoded data removed]",
      "text/plain": [
       "<Figure size 432x288 with 1 Axes>"
      ]
     },
     "metadata": {
      "needs_background": "light"
     },
     "output_type": "display_data"
    }
   ],
   "source": [
    "x = np.arange(-10, 10, 0.1)\n",
    "plt.plot(x, tf.keras.activations.sigmoid(x), ls='--')\n",
    "plt.title('sigmoid')\n",
    "plt.axvline(0, alpha=0.2)\n",
    "plt.axhline(0.5, alpha=0.2)\n",
    "plt.show()"
   ]
  },
  {
   "cell_type": "code",
   "execution_count": 19,
   "id": "6f6354c3-bbe8-480c-a44d-9c8579b27cdb",
   "metadata": {
    "tags": []
   },
   "outputs": [
    {
     "data": {
      "image/png": "[encoded data removed]",
      "text/plain": [
       "<Figure size 432x288 with 1 Axes>"
      ]
     },
     "metadata": {
      "needs_background": "light"
     },
     "output_type": "display_data"
    }
   ],
   "source": [
    "x = np.arange(-10, 10, 0.1)\n",
    "plt.plot(x, tf.keras.activations.tanh(x), ls='--')\n",
    "plt.title('tanh')\n",
    "plt.axvline(0, alpha=0.2)\n",
    "plt.axhline(0, alpha=0.2)\n",
    "plt.show()"
   ]
  },
  {
   "cell_type": "code",
   "execution_count": 20,
   "id": "31905a50-e1bf-4c87-a64a-4bc5911a0d3a",
   "metadata": {
    "tags": []
   },
   "outputs": [
    {
     "data": {
      "image/png": "[encoded data removed]",
      "text/plain": [
       "<Figure size 432x288 with 1 Axes>"
      ]
     },
     "metadata": {
      "needs_background": "light"
     },
     "output_type": "display_data"
    }
   ],
   "source": [
    "plt.plot(x, tf.keras.activations.relu(x), ls='--')\n",
    "plt.title('relu')\n",
    "plt.axvline(0, alpha=0.2)\n",
    "plt.axhline(0, alpha=0.2)\n",
    "plt.show()"
   ]
  },
  {
   "cell_type": "code",
   "execution_count": 21,
   "id": "70071673-8def-4a83-aa17-53d78845223d",
   "metadata": {
    "tags": []
   },
   "outputs": [
    {
     "data": {
      "image/png": "[encoded data removed]",
      "text/plain": [
       "<Figure size 432x288 with 1 Axes>"
      ]
     },
     "metadata": {
      "needs_background": "light"
     },
     "output_type": "display_data"
    }
   ],
   "source": [
    "x = np.arange(-10, 10, 0.1)\n",
    "plt.plot(x, tf.keras.activations.sigmoid(x)*x, ls='--')\n",
    "plt.title('swish(SiLU)=x*sigmoid')\n",
    "plt.axvline(0, alpha=0.2)\n",
    "plt.axhline(0, alpha=0.2)\n",
    "plt.show()"
   ]
  },
  {
   "cell_type": "code",
   "execution_count": 22,
   "id": "403f3f98-d03a-4012-ab93-474347ea3cf0",
   "metadata": {
    "tags": []
   },
   "outputs": [
    {
     "data": {
      "image/png": "[encoded data removed]",
      "text/plain": [
       "<Figure size 432x288 with 1 Axes>"
      ]
     },
     "metadata": {
      "needs_background": "light"
     },
     "output_type": "display_data"
    }
   ],
   "source": [
    "x = np.arange(-10, 10, 0.1)\n",
    "plt.plot(x, tf.keras.activations.softplus(x), ls='--')\n",
    "plt.title('softplus')\n",
    "plt.axvline(0, alpha=0.2)\n",
    "plt.axhline(0, alpha=0.2)\n",
    "plt.show()"
   ]
  },
  {
   "cell_type": "code",
   "execution_count": 23,
   "id": "8211a297-8a4a-4ee9-bd25-1205420db2ea",
   "metadata": {
    "tags": []
   },
   "outputs": [
    {
     "name": "stdout",
     "output_type": "stream",
     "text": [
      "tf.Tensor(\n",
      "[[-0.3991576   2.1044393   0.17107224  0.54651815 -2.4234028 ]\n",
      " [ 0.422554    0.28943786 -0.5043041  -0.96068907 -0.65109813]\n",
      " [ 0.11453361 -0.10354779 -1.300912   -0.5038757   0.02013604]\n",
      " [-0.09342099 -0.12571211 -0.04320283 -0.46242726  0.5460443 ]\n",
      " [-0.3929454   2.5214329  -1.4561468   0.903801   -0.26212615]], shape=(5, 5), dtype=float32)\n",
      "tf.Tensor(\n",
      "[[0.05649172 0.69068986 0.09991541 0.14544089 0.00746219]\n",
      " [0.34920096 0.30567774 0.1382121  0.08756702 0.11934225]\n",
      " [0.286074   0.23002067 0.06946374 0.15413691 0.26030472]\n",
      " [0.1783608  0.17269333 0.18754646 0.12332241 0.338077  ]\n",
      " [0.04068376 0.7501005  0.01405007 0.14879586 0.04636979]], shape=(5, 5), dtype=float32)\n",
      "tf.Tensor(1.0, shape=(), dtype=float32)\n",
      "tf.Tensor(1.0, shape=(), dtype=float32)\n",
      "tf.Tensor(1.0, shape=(), dtype=float32)\n",
      "tf.Tensor(1.0, shape=(), dtype=float32)\n"
     ]
    }
   ],
   "source": [
    "x = np.arange(-10, 10, 0.1)\n",
    "x = tf.random.normal((5, 5), seed=0)\n",
    "y = tf.keras.activations.softmax(x)\n",
    "\n",
    "# plt.plot(x, tf.keras.activations.softmax(x), ls='--')\n",
    "# plt.title('softmax')\n",
    "# plt.axvline(0, alpha=0.2)\n",
    "# plt.axhline(0.5, alpha=0.2)\n",
    "# plt.show()\n",
    "print(x)\n",
    "print(y)\n",
    "print(tf.reduce_sum(y[0, :]))\n",
    "print(tf.reduce_sum(y[1, :]))\n",
    "print(tf.reduce_sum(y[2, :]))\n",
    "print(tf.reduce_sum(y[3, :]))"
   ]
  },
  {
   "cell_type": "code",
   "execution_count": 24,
   "id": "19878d57-0d11-4fa7-a82e-6fa96e8ec313",
   "metadata": {
    "tags": []
   },
   "outputs": [
    {
     "data": {
      "text/plain": [
       "<matplotlib.lines.Line2D at 0x7f90e1abd310>"
      ]
     },
     "execution_count": 24,
     "metadata": {},
     "output_type": "execute_result"
    },
    {
     "data": {
      "image/png": "[encoded data removed]",
      "text/plain": [
       "<Figure size 432x288 with 1 Axes>"
      ]
     },
     "metadata": {
      "needs_background": "light"
     },
     "output_type": "display_data"
    }
   ],
   "source": [
    "x = np.arange(-10, 10, 0.1)\n",
    "plt.plot(x, tf.nn.softmax(x), '--')\n",
    "plt.axvline(0, alpha=0.2)\n",
    "plt.axhline(0, alpha=0.2)"
   ]
  }
 ],
 "metadata": {
  "kernelspec": {
   "display_name": "Python 3 (ipykernel)",
   "language": "python",
   "name": "python3"
  },
  "language_info": {
   "codemirror_mode": {
    "name": "ipython",
    "version": 3
   },
   "file_extension": ".py",
   "mimetype": "text/x-python",
   "name": "python",
   "nbconvert_exporter": "python",
   "pygments_lexer": "ipython3",
   "version": "3.11.5"
  }
 },
 "nbformat": 4,
 "nbformat_minor": 5
}
