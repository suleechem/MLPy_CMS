{
 "cells": [
  {
   "cell_type": "markdown",
   "id": "a9a951e1",
   "metadata": {},
   "source": [
    "# Linear Regression\n",
    "<img src = \"http://cmseng.skku.edu/CMSLecture/ML/img/8-1.png\" style=\"max-width: 60%; height: auto;\">"
   ]
  },
  {
   "cell_type": "markdown",
   "id": "e066fe13",
   "metadata": {},
   "source": [
    "- 입력(x)과 출력(y)은 <font color=red> $y=Wx+b$ </font> 형태로 나타낼 수 있음.\n",
    "- 1,2,3 $\\dots$ 등의 <font color=red>다양한 $y=Wx+b$ 직선 가능</font>\n",
    "- training data의 특성을 가장 잘 표시 할 수 있는 <font color=red>가중치(weight) $W$(기울기), 바이어스(bias) $b$(y 절편)</font>을 찾는 것이 학습(Learning)개념. \n",
    "\n",
    "<img src = \"http://cmseng.skku.edu/CMSLecture/ML/img/8-2.png\" style=\"max-width: 40%; height: auto;\">"
   ]
  },
  {
   "cell_type": "markdown",
   "id": "c7860cb8",
   "metadata": {},
   "source": [
    "###### - Training data의 정답$t$과 직선 $y=Wx+b$ 값의 차이인 오차(error)는    \n",
    "<font color=red>$ error = t - y = t - (Wx+b)$</font>\n",
    "- Linear regression은 모든 데이터의 오차$(error) = t - y = t - (Wx+b)$의 합이 최소가 되도록 가중치 $W$와 바이어스 $b$값을 결정함.\n",
    "\n",
    "- <font color=red><b>손실함수(loss function 또는 cost function)</b></font>는 training data의 정답(t)과 계산값(y)의 차이를 모두 합한 수식</font>\n",
    "- 각각의 오차인 $t-y$ 값이 $(+),(-)$ 모두 가능하기 때문에, 오차의 합이 $0$이 나올 수 있음.\n",
    "- 따라서,<font color=red> $y=Wx+b \\ , \\ loss function$으로는 최소 오차를 판단하기 어려움.</font>\n",
    "\n",
    "- <font color=blue><b>loss function에서 $(error) = (t - y)^2 = (t - (Wx+b))^2$</b></font>를 사용함.\n",
    "- 오차는 항상 양수이며, 정답과의 차이가 크면 제곱에 의해 오차는 더 커짐.\n",
    "\n",
    "<img src = \"http://cmseng.skku.edu/CMSLecture/ML/img/8-3.png\" style=\"max-width: 60%; height: auto;\">"
   ]
  },
  {
   "cell_type": "markdown",
   "id": "9a99a71b",
   "metadata": {},
   "source": [
    "<font size=3>\n",
    "$ loss \\ function $  \n",
    "\n",
    "$ \\displaystyle\n",
    "=\\frac\n",
    "{(t_1-y_1)^2 + (t_1-y_1)^2 + \\dots + (t_n-y_n)^2}\n",
    "{n}\n",
    "$\n",
    "    \n",
    "$ \\displaystyle\n",
    "=\\frac\n",
    "{[t_1-(Wx_1+b)]^2 + [t_2-(Wx_2+b)]^2 + \\dots + [t_n-(Wx_n+b)]^2}\n",
    "{n}\n",
    "$\n",
    "\n",
    "$ \\displaystyle\n",
    "=\\frac{1}{n}\n",
    "\\sum^{n}_{i=1}[t_i-(Wx_i + b)]^2\n",
    "$\n",
    "</font>"
   ]
  },
  {
   "cell_type": "markdown",
   "id": "1594f01a",
   "metadata": {},
   "source": [
    "- 손실함수 $ \\displaystyle loss \\ function = E(W,b) $\n",
    "- <font color=red> $loss \\ function = E(W,b)$가 최소값을 갖도록 $W,b$를 구하는 것이 $(linear) \\ regression$의 최종 목적임.</font> \n",
    "\n",
    "<br>\n",
    "<font size=3>\n",
    "$ \\displaystyle\n",
    "y=Wx+b\n",
    "$\n",
    "    \n",
    "$ \\displaystyle loss \\ function \n",
    "= E(W,b) \n",
    "=\\frac{1}{n}\n",
    "\\sum^{n}_{i=1}[t_i-(Wx_i + b)]^2\n",
    "$\n",
    "</font>"
   ]
  },
  {
   "cell_type": "markdown",
   "id": "9a0d979e",
   "metadata": {},
   "source": [
    "# Gradient decent algorithm (경사하강법)\n",
    "\n",
    "- 손실함수 (loss function) 계산\n",
    "- $E(W,b)$ 에서 $bias \\ b=0$ 으로 가정\n",
    "\n",
    "<img src = \"http://cmseng.skku.edu/CMSLecture/ML/img/8-4.png\" style=\"max-width: 80%; height: auto;\">"
   ]
  },
  {
   "cell_type": "code",
   "execution_count": 1,
   "id": "3ea18b44",
   "metadata": {},
   "outputs": [
    {
     "name": "stdout",
     "output_type": "stream",
     "text": [
      "   W   E(W)\n",
      "0 -1  18.70\n",
      "1  0   4.67\n",
      "2  1   0.00\n",
      "3  2   4.67\n",
      "4  3  18.70\n"
     ]
    },
    {
     "data": {
      "image/png": "[encoded data removed]",
      "text/plain": [
       "<Figure size 400x400 with 1 Axes>"
      ]
     },
     "metadata": {},
     "output_type": "display_data"
    }
   ],
   "source": [
    "import matplotlib.pyplot as plt\n",
    "import numpy as np\n",
    "import pandas as pd\n",
    " \n",
    "data = {\n",
    "    'W': [-1,0,1,2,3],\n",
    "    'E(W)': [18.7,4.67,0,4.67,18.7],\n",
    "}\n",
    " \n",
    "df = pd.DataFrame(data)\n",
    "print(df)\n",
    "\n",
    "plt.style.use('default')\n",
    "plt.rcParams['figure.figsize'] = (4, 4)\n",
    "plt.rcParams['font.size'] = 10\n",
    "plt.rcParams['lines.linewidth'] = 2\n",
    "\n",
    "x = np.linspace(-1, 3, 1000)\n",
    "y = 4.67*(x-1)**2\n",
    "x_data = df['W']\n",
    "y_data = df['E(W)']\n",
    "\n",
    "fig, ax = plt.subplots()\n",
    "ax.plot(x, y)\n",
    "ax.plot(x_data, y_data, 'bo')\n",
    "\n",
    "plt.title('E(W)')\n",
    "plt.grid(color='0.8')\n",
    "ax.spines['left'].set_position(('data',0)) \n",
    "ax.spines['right'].set_visible(False)\n",
    "ax.spines['top'].set_visible(False) \n",
    "ax.spines['bottom'].set_position(('data',0)) \n",
    "\n",
    "\n",
    "plt.show()"
   ]
  },
  {
   "cell_type": "markdown",
   "id": "613d56d1",
   "metadata": {},
   "source": [
    "# Gradient decent algorithm (경사하강법) - $W$ 값 구하기\n",
    "\n",
    "- $ \\displaystyle \\frac{\\partial{E(W)}}{\\partial{W}}$ 는 특정 $W$에서의 $E(W)$의 기울기$slope$ 을 의미\n",
    "\n",
    "\n",
    "- <font color=red> $ \\displaystyle \\frac{\\partial{E(W)}}{\\partial{W}}$ 이 양수 $(+)$값</font>을 갖는다면, <font color=red>$W$는 왼쪽</font>으로 이동시켜야 $E(W)$가 감소\n",
    "\n",
    "\n",
    "- <font color=red> $ \\displaystyle \\frac{\\partial{E(W)}}{\\partial{W}}$ 이 음수 $(-)$값</font>을 갖는다면, <font color=red>$W$는 오른쪽</font>으로 이동시켜야 $E(W)$가 감소\n",
    "\n",
    "<font size=3><b>\n",
    "&nbsp;&nbsp;&nbsp;&nbsp;&nbsp;&nbsp;&nbsp;$ \\displaystyle W = W - \\alpha \\frac{\\partial{E(W,b)}}{\\partial{W}}$\n",
    "</b></font>\n",
    "\n",
    "\n",
    "- <font color=red> $\\alpha$는 학습율$(learning \\ rate)$</font>이라고 하며, $W$값이 감소 또는 증가하는 비율을 나타냄.\n",
    "\n",
    "<img src = \"http://cmseng.skku.edu/CMSLecture/ML/img/8-6.png\" style=\"max-width: 50%; height: auto;\">\n",
    "<img src = \"http://cmseng.skku.edu/CMSLecture/ML/img/8-5.png\" style=\"max-width: 60%; height: auto;\">"
   ]
  },
  {
   "cell_type": "markdown",
   "id": "2bdc1824",
   "metadata": {},
   "source": [
    "<font size=3>\n",
    "$ \\displaystyle\n",
    "y=Wx+b\n",
    "$\n",
    "    \n",
    "$ \\displaystyle  \n",
    "E(W,b) \n",
    "=\\frac{1}{n}\n",
    "\\sum^{n}_{i=1}[t_i-(Wx_i + b)]^2\n",
    "$\n",
    "\n",
    "<font color=blue> 손실함수 $E(W,b)$를 최소화하는 $W \\ and \\ b$   </font>\n",
    "\n",
    "<br>\n",
    "<font size=3 color=blue><b>\n",
    "$ \\displaystyle W = W - \\alpha \\frac{\\partial{E(W,b)}}{\\partial{W}} \\ \\ \\ \\ , \\ \\ \\ \\ \n",
    "     b = b - \\alpha \\frac{\\partial{E(W,b)}}{\\partial{b}}$\n",
    "</b></font>\n"
   ]
  },
  {
   "cell_type": "markdown",
   "id": "4073256a",
   "metadata": {},
   "source": [
    "# Linear regression using python\n",
    "\n",
    "<img src = \"http://cmseng.skku.edu/CMSLecture/ML/img/8-7.png\" style=\"max-width: 60%; height: auto;\">\n",
    "<img src = \"http://cmseng.skku.edu/CMSLecture/ML/img/8-8.png\" style=\"max-width: 60%; height: auto;\">"
   ]
  },
  {
   "cell_type": "markdown",
   "id": "b0e70c17",
   "metadata": {},
   "source": [
    "## 1. Training Data 준비"
   ]
  },
  {
   "cell_type": "code",
   "execution_count": 2,
   "id": "6b79c3e2",
   "metadata": {},
   "outputs": [],
   "source": [
    "import numpy as np\n",
    "\n",
    "x_data = np.array([1,2,3,4,5]).reshape(5,1)\n",
    "t_data = np.array([2,3,4,5,6]).reshape(5,1)\n"
   ]
  },
  {
   "cell_type": "markdown",
   "id": "fd4d2ac8",
   "metadata": {},
   "source": [
    "## 2. 임의의 직선 $y=Wx+b$ 정의 (임의의 $W, \\ b$ 초기화)\n"
   ]
  },
  {
   "cell_type": "code",
   "execution_count": 3,
   "id": "fac77609",
   "metadata": {},
   "outputs": [
    {
     "name": "stdout",
     "output_type": "stream",
     "text": [
      "W=[[0.8256598]], W.shape=(1, 1), b=[0.68908592], b.shape=(1,)\n"
     ]
    }
   ],
   "source": [
    "W = np.random.rand(1,1)\n",
    "b = np.random.rand(1)\n",
    "print(f\"W={W}, W.shape={W.shape}, b={b}, b.shape={b.shape}\")"
   ]
  },
  {
   "cell_type": "markdown",
   "id": "c3652d85",
   "metadata": {},
   "source": [
    "## 3. 손실함수 $E(W)$ 정의"
   ]
  },
  {
   "cell_type": "code",
   "execution_count": 4,
   "id": "fc63c3f7",
   "metadata": {},
   "outputs": [],
   "source": [
    "def loss_func(x,t):\n",
    "    y=np.dot(x,W)+b\n",
    "    return (np.sum((t-y)**2)/(len(x)))"
   ]
  },
  {
   "cell_type": "markdown",
   "id": "2c80db63",
   "metadata": {},
   "source": [
    "## 4. 수치미분 numerical_derivative 및 utility 함수 정의"
   ]
  },
  {
   "cell_type": "code",
   "execution_count": 6,
   "id": "f0b807a4",
   "metadata": {},
   "outputs": [],
   "source": [
    "def numerical_derivative(f,x):  \n",
    "    delta_x = 1e-4\n",
    "    grad = np.zeros_like(x)  \n",
    "    \n",
    "    it = np.nditer(x, flags=['multi_index'], op_flags=['readwrite'])\n",
    "    while not it.finished:\n",
    "        idx=it.multi_index\n",
    "        tmp_val=x[idx]\n",
    "        x[idx] = float(tmp_val) + delta_x\n",
    "        fx1 = f(x) \n",
    "        \n",
    "        x[idx] = float(tmp_val) - delta_x\n",
    "        fx2 = f(x)  \n",
    "        grad[idx] = (fx1 - fx2)/(2*delta_x)\n",
    "\n",
    "        x[idx] = tmp_val\n",
    "        it.iternext()\n",
    "        \n",
    "    return grad\n",
    "\n",
    "def error_val(x,t):\n",
    "    y=np.dot(x,W)+b\n",
    "    return (np.sum((t-y)**2))/(len(x))\n",
    "\n",
    "def predict(x):\n",
    "    y=np.dot(x,W)+b\n",
    "    return y"
   ]
  },
  {
   "cell_type": "markdown",
   "id": "c1bc396e",
   "metadata": {},
   "source": [
    "## 5. 학습율(learning rate) 초기화 및 $W, b$ 업데이트"
   ]
  },
  {
   "cell_type": "code",
   "execution_count": 7,
   "id": "0b512ccd",
   "metadata": {},
   "outputs": [
    {
     "name": "stdout",
     "output_type": "stream",
     "text": [
      "initial error value = 0.7562360761676125, initial W = [[0.8256598]]\n",
      "step = 0, error_value = 0.44957478257989336, W = [[0.88266949]], b = [0.70234403]\n",
      "step = 400, error_value = 0.0007666217775277836, W = [[1.0179799]], b = [0.93510274]\n",
      "step = 800, error_value = 4.891500165338907e-05, W = [[1.00454169]], b = [0.98360706]\n",
      "step = 1200, error_value = 3.1210662896461846e-06, W = [[1.00114722]], b = [0.99585917]\n",
      "step = 1600, error_value = 1.991424809386296e-07, W = [[1.00028979]], b = [0.99895403]\n",
      "step = 2000, error_value = 1.270646760868696e-08, W = [[1.0000732]], b = [0.99973579]\n",
      "step = 2400, error_value = 8.107477537488164e-10, W = [[1.00001849]], b = [0.99993326]\n",
      "step = 2800, error_value = 5.1730499810987217e-11, W = [[1.00000467]], b = [0.99998314]\n",
      "step = 3200, error_value = 3.300711718042834e-12, W = [[1.00000118]], b = [0.99999574]\n",
      "step = 3600, error_value = 2.1060492119993605e-13, W = [[1.0000003]], b = [0.99999892]\n",
      "step = 4000, error_value = 1.3437839147147941e-14, W = [[1.00000008]], b = [0.99999973]\n",
      "step = 4400, error_value = 8.574135803052226e-16, W = [[1.00000002]], b = [0.99999993]\n",
      "step = 4800, error_value = 5.470805637181197e-17, W = [[1.]], b = [0.99999998]\n",
      "step = 5200, error_value = 3.490696905697148e-18, W = [[1.]], b = [1.]\n",
      "step = 5600, error_value = 2.227274510398741e-19, W = [[1.]], b = [1.]\n",
      "step = 6000, error_value = 1.4211368593093828e-20, W = [[1.]], b = [1.]\n",
      "step = 6400, error_value = 9.067640896419327e-22, W = [[1.]], b = [1.]\n",
      "step = 6800, error_value = 5.785268234543203e-23, W = [[1.]], b = [1.]\n",
      "step = 7200, error_value = 3.6929324998206634e-24, W = [[1.]], b = [1.]\n",
      "step = 7600, error_value = 2.36339344963084e-25, W = [[1.]], b = [1.]\n",
      "step = 8000, error_value = 1.510834294288334e-26, W = [[1.]], b = [1.]\n"
     ]
    }
   ],
   "source": [
    "learning_rate=1e-2\n",
    "\n",
    "f = lambda x: loss_func(x_data,t_data)  # f(x) = loass_func(x_data,y_data)\n",
    "\n",
    "print(f\"initial error value = {error_val(x_data,t_data)}, initial W = {W}\")\n",
    "\n",
    "for step in range(8001):\n",
    "    W-= learning_rate*numerical_derivative(f,W)\n",
    "    b-= learning_rate*numerical_derivative(f,b)\n",
    "    \n",
    "    if(step % 400 ==0):\n",
    "        print(f\"step = {step}, error_value = {error_val(x_data,t_data)}, W = {W}, b = {b}\")"
   ]
  },
  {
   "cell_type": "markdown",
   "id": "698637c2",
   "metadata": {},
   "source": [
    "## 6. Linear Regression Code"
   ]
  },
  {
   "cell_type": "code",
   "execution_count": 8,
   "id": "0d14598c",
   "metadata": {},
   "outputs": [
    {
     "name": "stdout",
     "output_type": "stream",
     "text": [
      "W=[[0.39811734]], W.shape=(1, 1), b=[0.70666491], b.shape=(1,)\n",
      "initial error value = 5.130255385258174, initial W = [[0.39811734]]\n",
      "step = 0, error_value = 3.019701265030401, W = [[0.54813163]], b = [0.73964371]\n",
      "step = 400, error_value = 0.0002737144523357534, W = [[1.0107435]], b = [0.96122207]\n",
      "step = 800, error_value = 1.7464600251426445e-05, W = [[1.00271379]], b = [0.99020476]\n",
      "step = 1200, error_value = 1.114344746282679e-06, W = [[1.0006855]], b = [0.99752574]\n",
      "step = 1600, error_value = 7.110178278883542e-08, W = [[1.00017316]], b = [0.99937501]\n",
      "step = 2000, error_value = 4.536714093713078e-09, W = [[1.00004374]], b = [0.99984213]\n",
      "step = 2400, error_value = 2.894691801153872e-10, W = [[1.00001105]], b = [0.99996012]\n",
      "step = 2800, error_value = 1.846984502495745e-11, W = [[1.00000279]], b = [0.99998993]\n",
      "step = 3200, error_value = 1.1784853055207133e-12, W = [[1.0000007]], b = [0.99999746]\n",
      "step = 3600, error_value = 7.519432994604196e-14, W = [[1.00000018]], b = [0.99999936]\n",
      "step = 4000, error_value = 4.797842721177034e-15, W = [[1.00000004]], b = [0.99999984]\n",
      "step = 4400, error_value = 3.0613074135272874e-16, W = [[1.00000001]], b = [0.99999996]\n",
      "step = 4800, error_value = 1.9532951658388128e-17, W = [[1.]], b = [0.99999999]\n",
      "step = 5200, error_value = 1.2463181347923895e-18, W = [[1.]], b = [1.]\n",
      "step = 5600, error_value = 7.952260574396494e-20, W = [[1.]], b = [1.]\n",
      "step = 6000, error_value = 5.074012076754006e-21, W = [[1.]], b = [1.]\n",
      "step = 6400, error_value = 3.2375899884290565e-22, W = [[1.]], b = [1.]\n",
      "step = 6800, error_value = 2.065791413287325e-23, W = [[1.]], b = [1.]\n",
      "step = 7200, error_value = 1.3199435729362255e-24, W = [[1.]], b = [1.]\n",
      "step = 7600, error_value = 8.466332322224857e-26, W = [[1.]], b = [1.]\n",
      "step = 8000, error_value = 5.454065969562293e-27, W = [[1.]], b = [1.]\n"
     ]
    },
    {
     "data": {
      "text/plain": [
       "array([[44.]])"
      ]
     },
     "execution_count": 8,
     "metadata": {},
     "output_type": "execute_result"
    }
   ],
   "source": [
    "import numpy as np\n",
    "\n",
    "x_data = np.array([1,2,3,4,5]).reshape(5,1)\n",
    "t_data = np.array([2,3,4,5,6]).reshape(5,1)\n",
    "\n",
    "W = np.random.rand(1,1)\n",
    "b = np.random.rand(1)\n",
    "print(f\"W={W}, W.shape={W.shape}, b={b}, b.shape={b.shape}\")\n",
    "\n",
    "def loss_func(x,t):\n",
    "    y=np.dot(x,W)+b\n",
    "    return (np.sum((t-y)**2)/(len(x)))\n",
    "\n",
    "def numerical_derivative(f,x):  \n",
    "    delta_x = 1e-4\n",
    "    grad = np.zeros_like(x)  \n",
    "    \n",
    "    it = np.nditer(x, flags=['multi_index'], op_flags=['readwrite'])\n",
    "    while not it.finished:\n",
    "        idx=it.multi_index\n",
    "        tmp_val=x[idx]\n",
    "        x[idx] = float(tmp_val) + delta_x\n",
    "        fx1 = f(x) \n",
    "        \n",
    "        x[idx] = float(tmp_val) - delta_x\n",
    "        fx2 = f(x)  \n",
    "        grad[idx] = (fx1 - fx2)/(2*delta_x)\n",
    "\n",
    "        x[idx] = tmp_val\n",
    "        it.iternext()\n",
    "        \n",
    "    return grad\n",
    "\n",
    "def error_val(x,t):\n",
    "    y=np.dot(x,W)+b\n",
    "    return (np.sum((t-y)**2)/(len(x)))\n",
    "            \n",
    "def predict(x):\n",
    "    y=np.dot(x,W)+b\n",
    "    return y\n",
    "\n",
    "learning_rate=1e-2\n",
    "\n",
    "f = lambda x: loss_func(x_data,t_data)  # f(x) = loass_func(x_data,y_data)\n",
    "\n",
    "print(f\"initial error value = {error_val(x_data,t_data)}, initial W = {W}\")\n",
    "\n",
    "for step in range(8001):\n",
    "    W -= learning_rate*numerical_derivative(f,W)\n",
    "    b -= learning_rate*numerical_derivative(f,b)\n",
    "    \n",
    "    if(step % 400 ==0):\n",
    "        print(f\"step = {step}, error_value = {error_val(x_data,t_data)}, W = {W}, b = {b}\")\n",
    "        \n",
    "predict(43)"
   ]
  },
  {
   "cell_type": "markdown",
   "id": "31d0955c",
   "metadata": {},
   "source": [
    "## 7. Multi-variable Linear Regression Code\n",
    "\n",
    "<img src = \"http://cmseng.skku.edu/CMSLecture/ML/img/8-9.png\" style=\"max-width: 60%; height: auto;\">"
   ]
  },
  {
   "cell_type": "code",
   "execution_count": 8,
   "id": "91f02b0c",
   "metadata": {},
   "outputs": [
    {
     "name": "stdout",
     "output_type": "stream",
     "text": [
      "W=[[0.49810543]\n",
      " [0.18676845]\n",
      " [0.96711368]], W.shape=(3, 1), b=[0.46996304], b.shape=(1,)\n",
      "initial error value = 844.9252523591153, initial W = [[0.49810543]\n",
      " [0.18676845]\n",
      " [0.96711368]]\n",
      "step = 0, error_value = 317.32009982277776, W = [[0.54427499]\n",
      " [0.23332852]\n",
      " [1.01467774]], b = [0.47030963]\n",
      "step = 400, error_value = 7.474847132627126, W = [[0.59160902]\n",
      " [0.33235413]\n",
      " [1.08590656]], b = [0.47016018]\n",
      "step = 800, error_value = 7.214340597816979, W = [[0.56948084]\n",
      " [0.3557807 ]\n",
      " [1.0845277 ]], b = [0.4694718]\n",
      "step = 1200, error_value = 7.0089048715743045, W = [[0.54941127]\n",
      " [0.37621057]\n",
      " [1.08407656]], b = [0.46878374]\n",
      "step = 1600, error_value = 6.846198702947882, W = [[0.53121202]\n",
      " [0.39405401]\n",
      " [1.08433522]], b = [0.46809513]\n",
      "step = 2000, error_value = 6.716824233100628, W = [[0.51471148]\n",
      " [0.40966185]\n",
      " [1.08512763]], b = [0.4674053]\n",
      "step = 2400, error_value = 6.613581981622946, W = [[0.49975335]\n",
      " [0.42333449]\n",
      " [1.08631214]], b = [0.46671378]\n",
      "step = 2800, error_value = 6.530924187020552, W = [[0.48619534]\n",
      " [0.43532946]\n",
      " [1.0877754 ]], b = [0.46602025]\n",
      "step = 3200, error_value = 6.46455159547548, W = [[0.47390795]\n",
      " [0.44586781]\n",
      " [1.08942724]], b = [0.46532449]\n",
      "step = 3600, error_value = 6.411114417203391, W = [[0.46277343]\n",
      " [0.45513956]\n",
      " [1.09119641]], b = [0.46462636]\n",
      "step = 4000, error_value = 6.367989264670016, W = [[0.45268469]\n",
      " [0.46330827]\n",
      " [1.09302715]], b = [0.46392582]\n",
      "step = 4400, error_value = 6.3331117810015005, W = [[0.44354445]\n",
      " [0.47051492]\n",
      " [1.09487626]], b = [0.46322285]\n",
      "step = 4800, error_value = 6.304850296452563, W = [[0.43526428]\n",
      " [0.4768812 ]\n",
      " [1.09671073]], b = [0.46251749]\n",
      "step = 5200, error_value = 6.28190987578331, W = [[0.42776391]\n",
      " [0.48251232]\n",
      " [1.0985058 ]], b = [0.46180981]\n",
      "step = 5600, error_value = 6.263259005529778, W = [[0.42097042]\n",
      " [0.48749934]\n",
      " [1.1002433 ]], b = [0.46109989]\n",
      "step = 6000, error_value = 6.2480732463668325, W = [[0.41481765]\n",
      " [0.49192125]\n",
      " [1.10191038]], b = [0.46038783]\n",
      "step = 6400, error_value = 6.235691674706693, W = [[0.40924554]\n",
      " [0.49584662]\n",
      " [1.10349838]], b = [0.45967376]\n",
      "step = 6800, error_value = 6.225583024131533, W = [[0.40419961]\n",
      " [0.49933507]\n",
      " [1.105002  ]], b = [0.45895778]\n",
      "step = 7200, error_value = 6.217319228133045, W = [[0.39963043]\n",
      " [0.50243856]\n",
      " [1.10641849]], b = [0.45824002]\n",
      "step = 7600, error_value = 6.2105546440387975, W = [[0.39549317]\n",
      " [0.50520239]\n",
      " [1.10774715]], b = [0.45752059]\n",
      "step = 8000, error_value = 6.205009663135985, W = [[0.3917472 ]\n",
      " [0.50766615]\n",
      " [1.10898879]], b = [0.45679963]\n",
      "step = 8400, error_value = 6.20045772614602, W = [[0.38835565]\n",
      " [0.50986446]\n",
      " [1.11014538]], b = [0.45607724]\n",
      "step = 8800, error_value = 6.196714996629665, W = [[0.38528512]\n",
      " [0.51182768]\n",
      " [1.11121974]], b = [0.45535353]\n",
      "step = 9200, error_value = 6.193632119359995, W = [[0.38250534]\n",
      " [0.51358244]\n",
      " [1.11221527]], b = [0.45462862]\n",
      "step = 9600, error_value = 6.1910876218644155, W = [[0.37998886]\n",
      " [0.51515213]\n",
      " [1.11313576]], b = [0.4539026]\n",
      "step = 10000, error_value = 6.188982616550729, W = [[0.37771082]\n",
      " [0.51655735]\n",
      " [1.11398526]], b = [0.45317557]\n"
     ]
    },
    {
     "data": {
      "text/plain": [
       "array([179.07968417])"
      ]
     },
     "execution_count": 8,
     "metadata": {},
     "output_type": "execute_result"
    }
   ],
   "source": [
    "import numpy as np\n",
    "\n",
    "loaded_data = np.loadtxt('./data08.csv', delimiter=',', dtype=np.float32)\n",
    "\n",
    "x_data = loaded_data[:, 0:-1]\n",
    "t_data = loaded_data[:,[-1]]\n",
    "\n",
    "# print(x_data, x_data.shape)\n",
    "# print(y_data, y_data.shape)\n",
    "\n",
    "W = np.random.rand(3,1)\n",
    "b = np.random.rand(1)\n",
    "print(f\"W={W}, W.shape={W.shape}, b={b}, b.shape={b.shape}\")\n",
    "\n",
    "def loss_func(x,t):\n",
    "    y=np.dot(x,W)+b\n",
    "    return (np.sum((t-y)**2)/(len(x)))\n",
    "\n",
    "def numerical_derivative(f,x):  \n",
    "    delta_x = 1e-4\n",
    "    grad = np.zeros_like(x)  \n",
    "    \n",
    "    it = np.nditer(x, flags=['multi_index'], op_flags=['readwrite'])\n",
    "    while not it.finished:\n",
    "        idx=it.multi_index\n",
    "        tmp_val=x[idx]\n",
    "        x[idx] = float(tmp_val) + delta_x\n",
    "        fx1 = f(x) \n",
    "        \n",
    "        x[idx] = float(tmp_val) - delta_x\n",
    "        fx2 = f(x)  \n",
    "        grad[idx] = (fx1 - fx2)/(2*delta_x)\n",
    "\n",
    "        x[idx] = tmp_val\n",
    "        it.iternext()\n",
    "        \n",
    "    return grad\n",
    "\n",
    "def error_val(x,t):\n",
    "    y=np.dot(x,W)+b\n",
    "    return (np.sum((t-y)**2)/(len(x)))\n",
    "            \n",
    "def predict(x):\n",
    "    y=np.dot(x,W)+b\n",
    "    return y\n",
    "\n",
    "learning_rate=1e-5\n",
    "\n",
    "f = lambda x: loss_func(x_data,t_data)  # f(x) = loass_func(x_data,y_data)\n",
    "\n",
    "print(f\"initial error value = {error_val(x_data,t_data)}, initial W = {W}\")\n",
    "\n",
    "for step in range(10001):\n",
    "    W -= learning_rate*numerical_derivative(f,W)\n",
    "    b -= learning_rate*numerical_derivative(f,b)\n",
    "    \n",
    "    if(step % 400 ==0):\n",
    "        print(f\"step = {step}, error_value = {error_val(x_data,t_data)}, W = {W}, b = {b}\")\n",
    "\n",
    "test_data = np.array([100,98,81])\n",
    "predict(test_data)"
   ]
  }
 ],
 "metadata": {
  "kernelspec": {
   "display_name": "Python 3 (ipykernel)",
   "language": "python",
   "name": "python3"
  },
  "language_info": {
   "codemirror_mode": {
    "name": "ipython",
    "version": 3
   },
   "file_extension": ".py",
   "mimetype": "text/x-python",
   "name": "python",
   "nbconvert_exporter": "python",
   "pygments_lexer": "ipython3",
   "version": "3.11.5"
  }
 },
 "nbformat": 4,
 "nbformat_minor": 5
}
