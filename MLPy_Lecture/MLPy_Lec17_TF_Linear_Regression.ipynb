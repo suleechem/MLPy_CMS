{
 "cells": [
  {
   "cell_type": "markdown",
   "id": "7a4188b9-fee8-439e-a124-bc7be2a26989",
   "metadata": {},
   "source": [
    "# TensorFlow Linear Regression"
   ]
  },
  {
   "cell_type": "markdown",
   "id": "993e0883-ead5-4507-9c50-7e625133173a",
   "metadata": {
    "tags": []
   },
   "source": [
    "<img src = \"http://cmseng.skku.edu/CMSLecture/ML/img/17-1.png\" style=\"max-width: 80%; height: auto;\">"
   ]
  },
  {
   "cell_type": "markdown",
   "id": "3add208b-1893-4249-9fc3-7068c25d484c",
   "metadata": {},
   "source": [
    "<img src = \"http://cmseng.skku.edu/CMSLecture/ML/img/17-2.png\" style=\"max-width: 80%; height: auto;\">"
   ]
  },
  {
   "cell_type": "code",
   "execution_count": 1,
   "id": "2180f2d0-4a3f-4b77-9ac6-7d57ddf2e3e1",
   "metadata": {
    "tags": []
   },
   "outputs": [
    {
     "name": "stdout",
     "output_type": "stream",
     "text": [
      "2.0.0\n"
     ]
    }
   ],
   "source": [
    "import tensorflow as tf\n",
    "import numpy as np\n",
    "\n",
    "from tensorflow.keras.models import Sequential\n",
    "from tensorflow.keras.layers import Flatten, Dense\n",
    "from tensorflow.keras.optimizers import SGD, Adam\n",
    "\n",
    "print(tf.__version__)"
   ]
  },
  {
   "cell_type": "code",
   "execution_count": 2,
   "id": "b8409663-a34f-4b0e-a553-cd0093d5bd92",
   "metadata": {
    "tags": []
   },
   "outputs": [
    {
     "name": "stdout",
     "output_type": "stream",
     "text": [
      "x_data.shape =  (15, 3) , t_data.shape =  (15,)\n"
     ]
    }
   ],
   "source": [
    "# train data \n",
    "# t_data = 2*x1 -3*x2 + 2*x3\n",
    "\n",
    "x_data = np.array([ [1, 2, 0], [5, 4, 3], [1, 2, -1], [3, 1, 0], [2, 4, 2], \n",
    "                    [4, 1, 2], [-1, 3, 2], [4, 3, 3], [0, 2, 6], [2, 2, 1],\n",
    "                    [1, -2, -2], [0, 1, 3], [1, 1, 3], [0, 1, 4], [2, 3, 3] ])\n",
    "\n",
    "t_data = np.array([-4, 4, -6, 3, -4, \n",
    "                   9, -7, 5, 6, 0,\n",
    "                   4, 3, 5, 5, 1])\n",
    "\n",
    "print('x_data.shape = ', x_data.shape, ', t_data.shape = ', t_data.shape)"
   ]
  },
  {
   "cell_type": "code",
   "execution_count": 4,
   "id": "9a3f6dd1-5a75-4d01-bb88-3c005f59e152",
   "metadata": {
    "tags": []
   },
   "outputs": [],
   "source": [
    "# Linear Regression 을 keras 이용하여 생성\n",
    "\n",
    "model = Sequential()\n",
    "\n",
    "model.add(Dense(1, input_shape=(3, ),activation='linear'))  # 노드 3개인 출력층 생성"
   ]
  },
  {
   "cell_type": "code",
   "execution_count": 5,
   "id": "63aa2a62-2af0-4493-81f1-82ca81f4b2cb",
   "metadata": {
    "tags": []
   },
   "outputs": [
    {
     "name": "stdout",
     "output_type": "stream",
     "text": [
      "Model: \"sequential_1\"\n",
      "_________________________________________________________________\n",
      "Layer (type)                 Output Shape              Param #   \n",
      "=================================================================\n",
      "dense_1 (Dense)              (None, 1)                 4         \n",
      "=================================================================\n",
      "Total params: 4\n",
      "Trainable params: 4\n",
      "Non-trainable params: 0\n",
      "_________________________________________________________________\n"
     ]
    }
   ],
   "source": [
    "# 학습을 위한 optimizer, 손실함수 loss 정의\n",
    "\n",
    "model.compile(optimizer=SGD(learning_rate=1e-2), loss='mse')\n",
    "\n",
    "model.summary()"
   ]
  },
  {
   "cell_type": "markdown",
   "id": "ba658956-9b8d-4746-90c9-09b64e0d47bb",
   "metadata": {},
   "source": [
    "## model.fit(verbose...) \n",
    "### - verbose = 0 : 출력 없음 \n",
    "### - verbose = 1 : 자세히 출력 $\\rightarrow$ 2 $\\rightarrow$ 3 간단히 출력"
   ]
  },
  {
   "cell_type": "code",
   "execution_count": 6,
   "id": "2388e2a3-6ba2-4d37-a241-8e7f88368b6b",
   "metadata": {
    "tags": []
   },
   "outputs": [
    {
     "name": "stdout",
     "output_type": "stream",
     "text": [
      "\n",
      "Elapsed Time =>  0:00:00.806704\n"
     ]
    }
   ],
   "source": [
    "from datetime import datetime\n",
    "\n",
    "start_time = datetime.now()\n",
    "\n",
    "hist = model.fit(x_data, t_data, verbose=0, epochs=1000)\n",
    "\n",
    "end_time = datetime.now()\n",
    "\n",
    "print('\\nElapsed Time => ', end_time - start_time)"
   ]
  },
  {
   "cell_type": "code",
   "execution_count": 7,
   "id": "7e5a1546-d088-4b18-9613-5bb8bd1bc17e",
   "metadata": {
    "tags": []
   },
   "outputs": [
    {
     "name": "stdout",
     "output_type": "stream",
     "text": [
      "<class 'tensorflow.python.keras.callbacks.History'>\n",
      "dict_keys(['loss'])\n"
     ]
    }
   ],
   "source": [
    "# hist 타입 및 key 확인\n",
    "\n",
    "print(type(hist))\n",
    "print(hist.history.keys())"
   ]
  },
  {
   "cell_type": "code",
   "execution_count": 8,
   "id": "b99ce52b-28e2-4102-a94d-6d1a0a7035bd",
   "metadata": {
    "tags": []
   },
   "outputs": [
    {
     "name": "stdout",
     "output_type": "stream",
     "text": [
      "Tensor(\"dense_1_input:0\", shape=(None, 3), dtype=float32)\n",
      "Tensor(\"dense_1/Identity:0\", shape=(None, 1), dtype=float32)\n",
      "[<tf.Variable 'dense_1/kernel:0' shape=(3, 1) dtype=float32, numpy=\n",
      "array([[ 1.999876 ],\n",
      "       [-3.0001287],\n",
      "       [ 1.9999146]], dtype=float32)>, <tf.Variable 'dense_1/bias:0' shape=(1,) dtype=float32, numpy=array([0.0008385], dtype=float32)>]\n"
     ]
    }
   ],
   "source": [
    "# 모델 입력, 출력, 가중치 확인\n",
    "\n",
    "print(model.input)\n",
    "print(model.output)\n",
    "print(model.weights)"
   ]
  },
  {
   "cell_type": "code",
   "execution_count": 9,
   "id": "125bfecb-cc25-4eac-93d0-b43069721cfa",
   "metadata": {},
   "outputs": [
    {
     "data": {
      "text/html": [
       "<div>\n",
       "<style scoped>\n",
       "    .dataframe tbody tr th:only-of-type {\n",
       "        vertical-align: middle;\n",
       "    }\n",
       "\n",
       "    .dataframe tbody tr th {\n",
       "        vertical-align: top;\n",
       "    }\n",
       "\n",
       "    .dataframe thead th {\n",
       "        text-align: right;\n",
       "    }\n",
       "</style>\n",
       "<table border=\"1\" class=\"dataframe\">\n",
       "  <thead>\n",
       "    <tr style=\"text-align: right;\">\n",
       "      <th></th>\n",
       "      <th>loss</th>\n",
       "    </tr>\n",
       "  </thead>\n",
       "  <tbody>\n",
       "    <tr>\n",
       "      <th>0</th>\n",
       "      <td>4.573198e+01</td>\n",
       "    </tr>\n",
       "    <tr>\n",
       "      <th>1</th>\n",
       "      <td>3.555144e+01</td>\n",
       "    </tr>\n",
       "    <tr>\n",
       "      <th>2</th>\n",
       "      <td>2.987737e+01</td>\n",
       "    </tr>\n",
       "    <tr>\n",
       "      <th>3</th>\n",
       "      <td>2.646283e+01</td>\n",
       "    </tr>\n",
       "    <tr>\n",
       "      <th>4</th>\n",
       "      <td>2.419658e+01</td>\n",
       "    </tr>\n",
       "    <tr>\n",
       "      <th>...</th>\n",
       "      <td>...</td>\n",
       "    </tr>\n",
       "    <tr>\n",
       "      <th>995</th>\n",
       "      <td>2.121434e-07</td>\n",
       "    </tr>\n",
       "    <tr>\n",
       "      <th>996</th>\n",
       "      <td>2.097351e-07</td>\n",
       "    </tr>\n",
       "    <tr>\n",
       "      <th>997</th>\n",
       "      <td>2.073471e-07</td>\n",
       "    </tr>\n",
       "    <tr>\n",
       "      <th>998</th>\n",
       "      <td>2.054180e-07</td>\n",
       "    </tr>\n",
       "    <tr>\n",
       "      <th>999</th>\n",
       "      <td>2.031070e-07</td>\n",
       "    </tr>\n",
       "  </tbody>\n",
       "</table>\n",
       "<p>1000 rows × 1 columns</p>\n",
       "</div>"
      ],
      "text/plain": [
       "             loss\n",
       "0    4.573198e+01\n",
       "1    3.555144e+01\n",
       "2    2.987737e+01\n",
       "3    2.646283e+01\n",
       "4    2.419658e+01\n",
       "..            ...\n",
       "995  2.121434e-07\n",
       "996  2.097351e-07\n",
       "997  2.073471e-07\n",
       "998  2.054180e-07\n",
       "999  2.031070e-07\n",
       "\n",
       "[1000 rows x 1 columns]"
      ]
     },
     "execution_count": 9,
     "metadata": {},
     "output_type": "execute_result"
    }
   ],
   "source": [
    "import pandas as pd\n",
    "\n",
    "history_DF=pd.DataFrame(hist.history)\n",
    "history_DF"
   ]
  },
  {
   "cell_type": "markdown",
   "id": "ae2b8ca5-4db8-4b79-8e9a-d57ce83c8966",
   "metadata": {},
   "source": [
    "### [Matplotlib 눈금 표시하기](https://wikidocs.net/92089)"
   ]
  },
  {
   "cell_type": "code",
   "execution_count": 10,
   "id": "422259be-5463-4abf-b4ba-796186d1edde",
   "metadata": {},
   "outputs": [
    {
     "data": {
      "image/png": "[encoded data removed]",
      "text/plain": [
       "<Figure size 640x480 with 1 Axes>"
      ]
     },
     "metadata": {},
     "output_type": "display_data"
    }
   ],
   "source": [
    "import matplotlib.pyplot as plt\n",
    "\n",
    "# history_DF.plot(figsize=(10,7), linewidth=3)\n",
    "history_DF.plot(linewidth=2)\n",
    "\n",
    "plt.grid(True)\n",
    "plt.legend(loc=\"upper right\", fontsize=12)\n",
    "plt.title(\"Learning Curve\", fontsize=20, pad=20)\n",
    "plt.xlabel('Epoch', fontsize=15, loc='center',labelpad=15)\n",
    "plt.ylabel('Variable', fontsize=15, rotation=90, loc='center', labelpad=15)\n",
    "plt.tick_params(axis='both', labelsize=12)\n",
    "# plt.tick_params(axis='y', labelsize=15)"
   ]
  },
  {
   "cell_type": "code",
   "execution_count": 11,
   "id": "b2a3f8e9-8aca-4daa-9028-57c3dfa9c88e",
   "metadata": {
    "tags": []
   },
   "outputs": [
    {
     "data": {
      "image/png": "[encoded data removed]",
      "text/plain": [
       "<Figure size 640x480 with 1 Axes>"
      ]
     },
     "metadata": {},
     "output_type": "display_data"
    }
   ],
   "source": [
    "# 손실함수 출력\n",
    "\n",
    "import matplotlib.pyplot as plt\n",
    "\n",
    "plt.title('Loss Trend')\n",
    "plt.xlabel('epochs')\n",
    "plt.ylabel('loss')\n",
    "plt.grid()\n",
    "\n",
    "plt.plot(hist.history['loss'], label='train loss')\n",
    "plt.legend(loc='best')\n",
    "\n",
    "plt.show()"
   ]
  },
  {
   "cell_type": "code",
   "execution_count": 12,
   "id": "9a605db5-5465-4cc6-b198-01fbc8ccbda0",
   "metadata": {
    "tags": []
   },
   "outputs": [
    {
     "name": "stdout",
     "output_type": "stream",
     "text": [
      "[[-5.0004253]\n",
      " [-2.999881 ]\n",
      " [-3.9989522]\n",
      " [ 8.998784 ]\n",
      " [ 7.000642 ]]\n",
      "==================\n",
      "[-5, -3, -4, 9, 7]\n"
     ]
    }
   ],
   "source": [
    "# 예측,  ret_val = 2*x1 -3*x2 + 2*x3\n",
    "\n",
    "test_data = [ [5, 5, 0], [2, 3, 1], [-1, 0, -1], [10, 5, 2], [4, -1, -2] ]\n",
    "\n",
    "ret_val = [ 2*data[0] -3*data[1] + 2*data[2]  for data in test_data ]\n",
    "\n",
    "prediction_val = model.predict(np.array(test_data))\n",
    "\n",
    "print(prediction_val)\n",
    "print('==================')\n",
    "print(ret_val)"
   ]
  }
 ],
 "metadata": {
  "kernelspec": {
   "display_name": "Python 3 (ipykernel)",
   "language": "python",
   "name": "python3"
  },
  "language_info": {
   "codemirror_mode": {
    "name": "ipython",
    "version": 3
   },
   "file_extension": ".py",
   "mimetype": "text/x-python",
   "name": "python",
   "nbconvert_exporter": "python",
   "pygments_lexer": "ipython3",
   "version": "3.11.5"
  }
 },
 "nbformat": 4,
 "nbformat_minor": 5
}
